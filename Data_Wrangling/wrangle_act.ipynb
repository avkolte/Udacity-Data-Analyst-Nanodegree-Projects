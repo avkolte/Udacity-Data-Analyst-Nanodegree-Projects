{
  "nbformat": 4,
  "nbformat_minor": 0,
  "metadata": {
    "colab": {
      "name": "wrangle_act.ipynb",
      "provenance": [],
      "collapsed_sections": [
        "jjx6lnSNqtZl"
      ],
      "toc_visible": true
    },
    "kernelspec": {
      "name": "python3",
      "display_name": "Python 3"
    }
  },
  "cells": [
    {
      "cell_type": "markdown",
      "metadata": {
        "id": "jjx6lnSNqtZl",
        "colab_type": "text"
      },
      "source": [
        "#Gathering Data"
      ]
    },
    {
      "cell_type": "code",
      "metadata": {
        "id": "BV--GYCkQnrU",
        "colab_type": "code",
        "colab": {}
      },
      "source": [
        "import pandas as pd\n",
        "import numpy as np\n",
        "import matplotlib.pyplot as plt\n",
        "%matplotlib inline\n",
        "import requests\n",
        "import tweepy \n",
        "import json\n",
        "import tweepy\n",
        "from tweepy import OAuthHandler\n",
        "from timeit import default_timer as timer\n"
      ],
      "execution_count": 0,
      "outputs": []
    },
    {
      "cell_type": "code",
      "metadata": {
        "id": "3ZKyycdq4cA1",
        "colab_type": "code",
        "outputId": "41b1f7ab-dd58-4941-a3c1-5bdd5d722c17",
        "colab": {
          "base_uri": "https://localhost:8080/",
          "height": 34
        }
      },
      "source": [
        "a = pd.read_csv(\"twitter-archive-enhanced.csv\")\n",
        "a.shape"
      ],
      "execution_count": 0,
      "outputs": [
        {
          "output_type": "execute_result",
          "data": {
            "text/plain": [
              "(2356, 17)"
            ]
          },
          "metadata": {
            "tags": []
          },
          "execution_count": 2
        }
      ]
    },
    {
      "cell_type": "code",
      "metadata": {
        "id": "XKT88IGVqNwK",
        "colab_type": "code",
        "outputId": "f5d3913b-dadc-4baf-a0d1-99e175a5a206",
        "colab": {
          "base_uri": "https://localhost:8080/",
          "height": 102
        }
      },
      "source": [
        "a.columns"
      ],
      "execution_count": 0,
      "outputs": [
        {
          "output_type": "execute_result",
          "data": {
            "text/plain": [
              "Index(['tweet_id', 'in_reply_to_status_id', 'in_reply_to_user_id', 'timestamp',\n",
              "       'source', 'text', 'retweeted_status_id', 'retweeted_status_user_id',\n",
              "       'retweeted_status_timestamp', 'expanded_urls', 'rating_numerator',\n",
              "       'rating_denominator', 'name', 'doggo', 'floofer', 'pupper', 'puppo'],\n",
              "      dtype='object')"
            ]
          },
          "metadata": {
            "tags": []
          },
          "execution_count": 3
        }
      ]
    },
    {
      "cell_type": "code",
      "metadata": {
        "id": "4TEXHE5IqTBp",
        "colab_type": "code",
        "outputId": "1bd38254-24c7-4533-d7cb-220618f85659",
        "colab": {
          "base_uri": "https://localhost:8080/",
          "height": 400
        }
      },
      "source": [
        "a.head(3)"
      ],
      "execution_count": 0,
      "outputs": [
        {
          "output_type": "execute_result",
          "data": {
            "text/html": [
              "<div>\n",
              "<style scoped>\n",
              "    .dataframe tbody tr th:only-of-type {\n",
              "        vertical-align: middle;\n",
              "    }\n",
              "\n",
              "    .dataframe tbody tr th {\n",
              "        vertical-align: top;\n",
              "    }\n",
              "\n",
              "    .dataframe thead th {\n",
              "        text-align: right;\n",
              "    }\n",
              "</style>\n",
              "<table border=\"1\" class=\"dataframe\">\n",
              "  <thead>\n",
              "    <tr style=\"text-align: right;\">\n",
              "      <th></th>\n",
              "      <th>tweet_id</th>\n",
              "      <th>in_reply_to_status_id</th>\n",
              "      <th>in_reply_to_user_id</th>\n",
              "      <th>timestamp</th>\n",
              "      <th>source</th>\n",
              "      <th>text</th>\n",
              "      <th>retweeted_status_id</th>\n",
              "      <th>retweeted_status_user_id</th>\n",
              "      <th>retweeted_status_timestamp</th>\n",
              "      <th>expanded_urls</th>\n",
              "      <th>rating_numerator</th>\n",
              "      <th>rating_denominator</th>\n",
              "      <th>name</th>\n",
              "      <th>doggo</th>\n",
              "      <th>floofer</th>\n",
              "      <th>pupper</th>\n",
              "      <th>puppo</th>\n",
              "    </tr>\n",
              "  </thead>\n",
              "  <tbody>\n",
              "    <tr>\n",
              "      <th>0</th>\n",
              "      <td>892420643555336193</td>\n",
              "      <td>NaN</td>\n",
              "      <td>NaN</td>\n",
              "      <td>2017-08-01 16:23:56 +0000</td>\n",
              "      <td>&lt;a href=\"http://twitter.com/download/iphone\" r...</td>\n",
              "      <td>This is Phineas. He's a mystical boy. Only eve...</td>\n",
              "      <td>NaN</td>\n",
              "      <td>NaN</td>\n",
              "      <td>NaN</td>\n",
              "      <td>https://twitter.com/dog_rates/status/892420643...</td>\n",
              "      <td>13</td>\n",
              "      <td>10</td>\n",
              "      <td>Phineas</td>\n",
              "      <td>None</td>\n",
              "      <td>None</td>\n",
              "      <td>None</td>\n",
              "      <td>None</td>\n",
              "    </tr>\n",
              "    <tr>\n",
              "      <th>1</th>\n",
              "      <td>892177421306343426</td>\n",
              "      <td>NaN</td>\n",
              "      <td>NaN</td>\n",
              "      <td>2017-08-01 00:17:27 +0000</td>\n",
              "      <td>&lt;a href=\"http://twitter.com/download/iphone\" r...</td>\n",
              "      <td>This is Tilly. She's just checking pup on you....</td>\n",
              "      <td>NaN</td>\n",
              "      <td>NaN</td>\n",
              "      <td>NaN</td>\n",
              "      <td>https://twitter.com/dog_rates/status/892177421...</td>\n",
              "      <td>13</td>\n",
              "      <td>10</td>\n",
              "      <td>Tilly</td>\n",
              "      <td>None</td>\n",
              "      <td>None</td>\n",
              "      <td>None</td>\n",
              "      <td>None</td>\n",
              "    </tr>\n",
              "    <tr>\n",
              "      <th>2</th>\n",
              "      <td>891815181378084864</td>\n",
              "      <td>NaN</td>\n",
              "      <td>NaN</td>\n",
              "      <td>2017-07-31 00:18:03 +0000</td>\n",
              "      <td>&lt;a href=\"http://twitter.com/download/iphone\" r...</td>\n",
              "      <td>This is Archie. He is a rare Norwegian Pouncin...</td>\n",
              "      <td>NaN</td>\n",
              "      <td>NaN</td>\n",
              "      <td>NaN</td>\n",
              "      <td>https://twitter.com/dog_rates/status/891815181...</td>\n",
              "      <td>12</td>\n",
              "      <td>10</td>\n",
              "      <td>Archie</td>\n",
              "      <td>None</td>\n",
              "      <td>None</td>\n",
              "      <td>None</td>\n",
              "      <td>None</td>\n",
              "    </tr>\n",
              "  </tbody>\n",
              "</table>\n",
              "</div>"
            ],
            "text/plain": [
              "             tweet_id  in_reply_to_status_id  ...  pupper puppo\n",
              "0  892420643555336193                    NaN  ...    None  None\n",
              "1  892177421306343426                    NaN  ...    None  None\n",
              "2  891815181378084864                    NaN  ...    None  None\n",
              "\n",
              "[3 rows x 17 columns]"
            ]
          },
          "metadata": {
            "tags": []
          },
          "execution_count": 4
        }
      ]
    },
    {
      "cell_type": "code",
      "metadata": {
        "id": "0HITlqLrkdCH",
        "colab_type": "code",
        "outputId": "53d4854e-92fa-478d-9eac-b097385a482b",
        "colab": {
          "base_uri": "https://localhost:8080/",
          "height": 34
        }
      },
      "source": [
        "url = \"https://d17h27t6h515a5.cloudfront.net/topher/2017/August/599fd2ad_image-predictions/image-predictions.tsv\"\n",
        "response = requests.get(url)\n",
        "\n",
        "with open('image-predictions.tsv', mode ='wb') as file:\n",
        "    file.write(response.content)\n",
        "\n",
        "b = pd.read_csv(\"image-predictions.tsv\", sep='\\t')\n",
        "b.shape"
      ],
      "execution_count": 0,
      "outputs": [
        {
          "output_type": "execute_result",
          "data": {
            "text/plain": [
              "(2075, 12)"
            ]
          },
          "metadata": {
            "tags": []
          },
          "execution_count": 5
        }
      ]
    },
    {
      "cell_type": "code",
      "metadata": {
        "id": "tPbgtdrqqXnw",
        "colab_type": "code",
        "outputId": "3c9373e4-1703-4c3e-8be2-bad73c200bb5",
        "colab": {
          "base_uri": "https://localhost:8080/",
          "height": 68
        }
      },
      "source": [
        "b.columns"
      ],
      "execution_count": 0,
      "outputs": [
        {
          "output_type": "execute_result",
          "data": {
            "text/plain": [
              "Index(['tweet_id', 'jpg_url', 'img_num', 'p1', 'p1_conf', 'p1_dog', 'p2',\n",
              "       'p2_conf', 'p2_dog', 'p3', 'p3_conf', 'p3_dog'],\n",
              "      dtype='object')"
            ]
          },
          "metadata": {
            "tags": []
          },
          "execution_count": 6
        }
      ]
    },
    {
      "cell_type": "code",
      "metadata": {
        "id": "ROiN0_90qZNs",
        "colab_type": "code",
        "outputId": "6f46d718-cf96-4820-c5b7-4e83d084628e",
        "colab": {
          "base_uri": "https://localhost:8080/",
          "height": 162
        }
      },
      "source": [
        "b.head(3)"
      ],
      "execution_count": 0,
      "outputs": [
        {
          "output_type": "execute_result",
          "data": {
            "text/html": [
              "<div>\n",
              "<style scoped>\n",
              "    .dataframe tbody tr th:only-of-type {\n",
              "        vertical-align: middle;\n",
              "    }\n",
              "\n",
              "    .dataframe tbody tr th {\n",
              "        vertical-align: top;\n",
              "    }\n",
              "\n",
              "    .dataframe thead th {\n",
              "        text-align: right;\n",
              "    }\n",
              "</style>\n",
              "<table border=\"1\" class=\"dataframe\">\n",
              "  <thead>\n",
              "    <tr style=\"text-align: right;\">\n",
              "      <th></th>\n",
              "      <th>tweet_id</th>\n",
              "      <th>jpg_url</th>\n",
              "      <th>img_num</th>\n",
              "      <th>p1</th>\n",
              "      <th>p1_conf</th>\n",
              "      <th>p1_dog</th>\n",
              "      <th>p2</th>\n",
              "      <th>p2_conf</th>\n",
              "      <th>p2_dog</th>\n",
              "      <th>p3</th>\n",
              "      <th>p3_conf</th>\n",
              "      <th>p3_dog</th>\n",
              "    </tr>\n",
              "  </thead>\n",
              "  <tbody>\n",
              "    <tr>\n",
              "      <th>0</th>\n",
              "      <td>666020888022790149</td>\n",
              "      <td>https://pbs.twimg.com/media/CT4udn0WwAA0aMy.jpg</td>\n",
              "      <td>1</td>\n",
              "      <td>Welsh_springer_spaniel</td>\n",
              "      <td>0.465074</td>\n",
              "      <td>True</td>\n",
              "      <td>collie</td>\n",
              "      <td>0.156665</td>\n",
              "      <td>True</td>\n",
              "      <td>Shetland_sheepdog</td>\n",
              "      <td>0.061428</td>\n",
              "      <td>True</td>\n",
              "    </tr>\n",
              "    <tr>\n",
              "      <th>1</th>\n",
              "      <td>666029285002620928</td>\n",
              "      <td>https://pbs.twimg.com/media/CT42GRgUYAA5iDo.jpg</td>\n",
              "      <td>1</td>\n",
              "      <td>redbone</td>\n",
              "      <td>0.506826</td>\n",
              "      <td>True</td>\n",
              "      <td>miniature_pinscher</td>\n",
              "      <td>0.074192</td>\n",
              "      <td>True</td>\n",
              "      <td>Rhodesian_ridgeback</td>\n",
              "      <td>0.072010</td>\n",
              "      <td>True</td>\n",
              "    </tr>\n",
              "    <tr>\n",
              "      <th>2</th>\n",
              "      <td>666033412701032449</td>\n",
              "      <td>https://pbs.twimg.com/media/CT4521TWwAEvMyu.jpg</td>\n",
              "      <td>1</td>\n",
              "      <td>German_shepherd</td>\n",
              "      <td>0.596461</td>\n",
              "      <td>True</td>\n",
              "      <td>malinois</td>\n",
              "      <td>0.138584</td>\n",
              "      <td>True</td>\n",
              "      <td>bloodhound</td>\n",
              "      <td>0.116197</td>\n",
              "      <td>True</td>\n",
              "    </tr>\n",
              "  </tbody>\n",
              "</table>\n",
              "</div>"
            ],
            "text/plain": [
              "             tweet_id  ... p3_dog\n",
              "0  666020888022790149  ...   True\n",
              "1  666029285002620928  ...   True\n",
              "2  666033412701032449  ...   True\n",
              "\n",
              "[3 rows x 12 columns]"
            ]
          },
          "metadata": {
            "tags": []
          },
          "execution_count": 7
        }
      ]
    },
    {
      "cell_type": "code",
      "metadata": {
        "id": "vb0HGo585HDJ",
        "colab_type": "code",
        "colab": {}
      },
      "source": [
        "import tweepy\n",
        "from tweepy import OAuthHandler\n",
        "import json\n",
        "from timeit import default_timer as timer\n",
        "\n",
        "# Query Twitter API for each tweet in the Twitter archive and save JSON in a text file\n",
        "# These are hidden to comply with Twitter's API terms and conditions\n",
        "consumer_key = 'HIDDEN'\n",
        "consumer_secret = 'HIDDEN'\n",
        "access_token = 'HIDDEN'\n",
        "access_secret = 'HIDDEN'\n",
        "\n",
        "auth = OAuthHandler(consumer_key, consumer_secret)\n",
        "auth.set_access_token(access_token, access_secret)\n",
        "\n",
        "api = tweepy.API(auth, wait_on_rate_limit=True)\n",
        "\n",
        "# NOTE TO STUDENT WITH MOBILE VERIFICATION ISSUES:\n",
        "# df_1 is a DataFrame with the twitter_archive_enhanced.csv file. You may have to\n",
        "# change line 17 to match the name of your DataFrame with twitter_archive_enhanced.csv\n",
        "# NOTE TO REVIEWER: this student had mobile verification issues so the following\n",
        "# Twitter API code was sent to this student from a Udacity instructor\n",
        "# Tweet IDs for which to gather additional data via Twitter's API\n",
        "tweet_ids = df_1.tweet_id.values\n",
        "len(tweet_ids)\n",
        "\n",
        "# Query Twitter's API for JSON data for each tweet ID in the Twitter archive\n",
        "count = 0\n",
        "fails_dict = {}\n",
        "start = timer()\n",
        "# Save each tweet's returned JSON as a new line in a .txt file\n",
        "with open('tweet_json.txt', 'w') as outfile:\n",
        "    # This loop will likely take 20-30 minutes to run because of Twitter's rate limit\n",
        "    for tweet_id in tweet_ids:\n",
        "        count += 1\n",
        "        print(str(count) + \": \" + str(tweet_id))\n",
        "        try:\n",
        "            tweet = api.get_status(tweet_id, tweet_mode='extended')\n",
        "            print(\"Success\")\n",
        "            json.dump(tweet._json, outfile)\n",
        "            outfile.write('\\n')\n",
        "        except tweepy.TweepError as e:\n",
        "            print(\"Fail\")\n",
        "            fails_dict[tweet_id] = e\n",
        "            pass\n",
        "end = timer()\n",
        "print(end - start)\n",
        "print(fails_dict)"
      ],
      "execution_count": 0,
      "outputs": []
    },
    {
      "cell_type": "code",
      "metadata": {
        "id": "N99rrvThlbyF",
        "colab_type": "code",
        "outputId": "30f780ae-d1cb-40f0-de2b-85babfe3b63d",
        "colab": {
          "base_uri": "https://localhost:8080/",
          "height": 187
        }
      },
      "source": [
        "d = pd.read_json(\"tweet-json.txt\", orient = 'records', lines = True)\n",
        "d.columns"
      ],
      "execution_count": 0,
      "outputs": [
        {
          "output_type": "execute_result",
          "data": {
            "text/plain": [
              "Index(['created_at', 'id', 'id_str', 'full_text', 'truncated',\n",
              "       'display_text_range', 'entities', 'extended_entities', 'source',\n",
              "       'in_reply_to_status_id', 'in_reply_to_status_id_str',\n",
              "       'in_reply_to_user_id', 'in_reply_to_user_id_str',\n",
              "       'in_reply_to_screen_name', 'user', 'geo', 'coordinates', 'place',\n",
              "       'contributors', 'is_quote_status', 'retweet_count', 'favorite_count',\n",
              "       'favorited', 'retweeted', 'possibly_sensitive',\n",
              "       'possibly_sensitive_appealable', 'lang', 'retweeted_status',\n",
              "       'quoted_status_id', 'quoted_status_id_str', 'quoted_status'],\n",
              "      dtype='object')"
            ]
          },
          "metadata": {
            "tags": []
          },
          "execution_count": 8
        }
      ]
    },
    {
      "cell_type": "code",
      "metadata": {
        "id": "JVcMVDStoG5p",
        "colab_type": "code",
        "outputId": "1ea43974-ebdb-4eda-f2aa-3c724ee49e6c",
        "colab": {
          "base_uri": "https://localhost:8080/",
          "height": 34
        }
      },
      "source": [
        "c= d[[\"id\", \"retweet_count\", \"favorite_count\"]].copy()\n",
        "c= c.rename(columns={\"id\": \"tweet_id\"})\n",
        "c.shape"
      ],
      "execution_count": 0,
      "outputs": [
        {
          "output_type": "execute_result",
          "data": {
            "text/plain": [
              "(2354, 3)"
            ]
          },
          "metadata": {
            "tags": []
          },
          "execution_count": 9
        }
      ]
    },
    {
      "cell_type": "code",
      "metadata": {
        "id": "Wokwwp8upcAx",
        "colab_type": "code",
        "outputId": "baa67c00-5d0b-4405-ba5d-3597c8e16b47",
        "colab": {
          "base_uri": "https://localhost:8080/",
          "height": 142
        }
      },
      "source": [
        "c.head(3)"
      ],
      "execution_count": 0,
      "outputs": [
        {
          "output_type": "execute_result",
          "data": {
            "text/html": [
              "<div>\n",
              "<style scoped>\n",
              "    .dataframe tbody tr th:only-of-type {\n",
              "        vertical-align: middle;\n",
              "    }\n",
              "\n",
              "    .dataframe tbody tr th {\n",
              "        vertical-align: top;\n",
              "    }\n",
              "\n",
              "    .dataframe thead th {\n",
              "        text-align: right;\n",
              "    }\n",
              "</style>\n",
              "<table border=\"1\" class=\"dataframe\">\n",
              "  <thead>\n",
              "    <tr style=\"text-align: right;\">\n",
              "      <th></th>\n",
              "      <th>tweet_id</th>\n",
              "      <th>retweet_count</th>\n",
              "      <th>favorite_count</th>\n",
              "    </tr>\n",
              "  </thead>\n",
              "  <tbody>\n",
              "    <tr>\n",
              "      <th>0</th>\n",
              "      <td>892420643555336193</td>\n",
              "      <td>8853</td>\n",
              "      <td>39467</td>\n",
              "    </tr>\n",
              "    <tr>\n",
              "      <th>1</th>\n",
              "      <td>892177421306343426</td>\n",
              "      <td>6514</td>\n",
              "      <td>33819</td>\n",
              "    </tr>\n",
              "    <tr>\n",
              "      <th>2</th>\n",
              "      <td>891815181378084864</td>\n",
              "      <td>4328</td>\n",
              "      <td>25461</td>\n",
              "    </tr>\n",
              "  </tbody>\n",
              "</table>\n",
              "</div>"
            ],
            "text/plain": [
              "             tweet_id  retweet_count  favorite_count\n",
              "0  892420643555336193           8853           39467\n",
              "1  892177421306343426           6514           33819\n",
              "2  891815181378084864           4328           25461"
            ]
          },
          "metadata": {
            "tags": []
          },
          "execution_count": 10
        }
      ]
    },
    {
      "cell_type": "markdown",
      "metadata": {
        "id": "Z7IsoYtWqqyb",
        "colab_type": "text"
      },
      "source": [
        "#Assessing Data"
      ]
    },
    {
      "cell_type": "markdown",
      "metadata": {
        "id": "FcSLLFKQ8l5W",
        "colab_type": "text"
      },
      "source": [
        "Copying the original datasets"
      ]
    },
    {
      "cell_type": "code",
      "metadata": {
        "id": "5z89F2wP8qIE",
        "colab_type": "code",
        "colab": {}
      },
      "source": [
        "a_clean = a.copy()\n",
        "b_clean = b.copy()\n",
        "c_clean = c.copy()"
      ],
      "execution_count": 0,
      "outputs": []
    },
    {
      "cell_type": "markdown",
      "metadata": {
        "id": "KrMydwEKd2VU",
        "colab_type": "text"
      },
      "source": [
        "**1) All the three datasets should be merged** (Tidiness Issue)"
      ]
    },
    {
      "cell_type": "code",
      "metadata": {
        "id": "julceW91q5vR",
        "colab_type": "code",
        "outputId": "9f7cb672-05d1-4b6d-dcd4-82124bf10156",
        "colab": {
          "base_uri": "https://localhost:8080/",
          "height": 153
        }
      },
      "source": [
        "df = b.merge(a, on='tweet_id', how='inner').merge(c, on='tweet_id', how='inner')\n",
        "df.columns"
      ],
      "execution_count": 0,
      "outputs": [
        {
          "output_type": "execute_result",
          "data": {
            "text/plain": [
              "Index(['tweet_id', 'jpg_url', 'img_num', 'p1', 'p1_conf', 'p1_dog', 'p2',\n",
              "       'p2_conf', 'p2_dog', 'p3', 'p3_conf', 'p3_dog', 'in_reply_to_status_id',\n",
              "       'in_reply_to_user_id', 'timestamp', 'source', 'text',\n",
              "       'retweeted_status_id', 'retweeted_status_user_id',\n",
              "       'retweeted_status_timestamp', 'expanded_urls', 'rating_numerator',\n",
              "       'rating_denominator', 'name', 'doggo', 'floofer', 'pupper', 'puppo',\n",
              "       'retweet_count', 'favorite_count'],\n",
              "      dtype='object')"
            ]
          },
          "metadata": {
            "tags": []
          },
          "execution_count": 12
        }
      ]
    },
    {
      "cell_type": "markdown",
      "metadata": {
        "id": "dsx1pNNx7yhH",
        "colab_type": "text"
      },
      "source": [
        "Copying the original dataset"
      ]
    },
    {
      "cell_type": "code",
      "metadata": {
        "id": "KuLq4jZb7xbk",
        "colab_type": "code",
        "colab": {}
      },
      "source": [
        "df_clean = df.copy()"
      ],
      "execution_count": 0,
      "outputs": []
    },
    {
      "cell_type": "markdown",
      "metadata": {
        "id": "_cHNDLZXeBYn",
        "colab_type": "text"
      },
      "source": [
        "Check if there are any  duplicates, drop duplicate rows if they exist"
      ]
    },
    {
      "cell_type": "code",
      "metadata": {
        "id": "wRsKBcSYHny2",
        "colab_type": "code",
        "outputId": "6321d111-112a-4641-aad4-a89310d6c6f3",
        "colab": {
          "base_uri": "https://localhost:8080/",
          "height": 34
        }
      },
      "source": [
        "sum(df.duplicated())"
      ],
      "execution_count": 0,
      "outputs": [
        {
          "output_type": "execute_result",
          "data": {
            "text/plain": [
              "0"
            ]
          },
          "metadata": {
            "tags": []
          },
          "execution_count": 14
        }
      ]
    },
    {
      "cell_type": "markdown",
      "metadata": {
        "id": "e8e_t5M_lbfD",
        "colab_type": "text"
      },
      "source": [
        "Assessing each Variable"
      ]
    },
    {
      "cell_type": "markdown",
      "metadata": {
        "id": "Mwpe63AQlhrx",
        "colab_type": "text"
      },
      "source": [
        "*Variable 'tweet_id'*"
      ]
    },
    {
      "cell_type": "code",
      "metadata": {
        "id": "Dm74c9oMlpLV",
        "colab_type": "code",
        "outputId": "1c449dc2-0c7c-4b54-941a-8571e4fd8a8b",
        "colab": {
          "base_uri": "https://localhost:8080/",
          "height": 51
        }
      },
      "source": [
        "df.tweet_id.unique()"
      ],
      "execution_count": 0,
      "outputs": [
        {
          "output_type": "execute_result",
          "data": {
            "text/plain": [
              "array([666020888022790149, 666029285002620928, 666033412701032449, ...,\n",
              "       891815181378084864, 892177421306343426, 892420643555336193])"
            ]
          },
          "metadata": {
            "tags": []
          },
          "execution_count": 15
        }
      ]
    },
    {
      "cell_type": "markdown",
      "metadata": {
        "id": "8P8DbZmilukO",
        "colab_type": "text"
      },
      "source": [
        "Inference:\n",
        "* It contains all the unique ids of each tweet in the appropriate data type"
      ]
    },
    {
      "cell_type": "markdown",
      "metadata": {
        "id": "7sqg1oDbmBRx",
        "colab_type": "text"
      },
      "source": [
        "*Variable jpg_url*"
      ]
    },
    {
      "cell_type": "code",
      "metadata": {
        "id": "K48zcHLumHF-",
        "colab_type": "code",
        "outputId": "4634282f-ce0c-4c17-d85e-b1b43d158dc4",
        "colab": {
          "base_uri": "https://localhost:8080/",
          "height": 119
        }
      },
      "source": [
        "df.jpg_url.unique()"
      ],
      "execution_count": 0,
      "outputs": [
        {
          "output_type": "execute_result",
          "data": {
            "text/plain": [
              "array(['https://pbs.twimg.com/media/CT4udn0WwAA0aMy.jpg',\n",
              "       'https://pbs.twimg.com/media/CT42GRgUYAA5iDo.jpg',\n",
              "       'https://pbs.twimg.com/media/CT4521TWwAEvMyu.jpg', ...,\n",
              "       'https://pbs.twimg.com/media/DGBdLU1WsAANxJ9.jpg',\n",
              "       'https://pbs.twimg.com/media/DGGmoV4XsAAUL6n.jpg',\n",
              "       'https://pbs.twimg.com/media/DGKD1-bXoAAIAUK.jpg'], dtype=object)"
            ]
          },
          "metadata": {
            "tags": []
          },
          "execution_count": 16
        }
      ]
    },
    {
      "cell_type": "markdown",
      "metadata": {
        "id": "sxwRfXwSmJpP",
        "colab_type": "text"
      },
      "source": [
        "Inference:\n",
        "* It contains all the unique urls of images of each tweet in the appropriate data type"
      ]
    },
    {
      "cell_type": "markdown",
      "metadata": {
        "id": "XloYp4WYmZdH",
        "colab_type": "text"
      },
      "source": [
        "*Variable img_num*"
      ]
    },
    {
      "cell_type": "code",
      "metadata": {
        "id": "7WHZZXaUmjXT",
        "colab_type": "code",
        "outputId": "8619edb3-5e45-4171-dabb-a76ca8271431",
        "colab": {
          "base_uri": "https://localhost:8080/",
          "height": 102
        }
      },
      "source": [
        "df.img_num.value_counts()"
      ],
      "execution_count": 0,
      "outputs": [
        {
          "output_type": "execute_result",
          "data": {
            "text/plain": [
              "1    1779\n",
              "2     197\n",
              "3      66\n",
              "4      31\n",
              "Name: img_num, dtype: int64"
            ]
          },
          "metadata": {
            "tags": []
          },
          "execution_count": 17
        }
      ]
    },
    {
      "cell_type": "markdown",
      "metadata": {
        "id": "ZFK9ipxhnBpb",
        "colab_type": "text"
      },
      "source": [
        "Inference:\n",
        "* It contains the image number that corresponded to the most confident prediction (numbered 1 to 4 since tweets can have up to four images) in the appropriate datatype\n",
        "* The column name could be renamed so it is understood better"
      ]
    },
    {
      "cell_type": "markdown",
      "metadata": {
        "id": "8paSmauJmmGD",
        "colab_type": "text"
      },
      "source": [
        "*Variable p1*"
      ]
    },
    {
      "cell_type": "code",
      "metadata": {
        "id": "tdorqKMonyI4",
        "colab_type": "code",
        "outputId": "f72311a5-ec55-4320-d542-9f5ade986878",
        "colab": {
          "base_uri": "https://localhost:8080/",
          "height": 1000
        }
      },
      "source": [
        "df.p1.unique()"
      ],
      "execution_count": 0,
      "outputs": [
        {
          "output_type": "execute_result",
          "data": {
            "text/plain": [
              "array(['Welsh_springer_spaniel', 'redbone', 'German_shepherd',\n",
              "       'Rhodesian_ridgeback', 'miniature_pinscher',\n",
              "       'Bernese_mountain_dog', 'box_turtle', 'chow', 'shopping_cart',\n",
              "       'miniature_poodle', 'golden_retriever', 'Gordon_setter',\n",
              "       'Walker_hound', 'pug', 'bloodhound', 'Lhasa', 'English_setter',\n",
              "       'hen', 'desktop_computer', 'Italian_greyhound', 'Maltese_dog',\n",
              "       'three-toed_sloth', 'ox', 'malamute', 'guinea_pig',\n",
              "       'soft-coated_wheaten_terrier', 'Chihuahua',\n",
              "       'black-and-tan_coonhound', 'coho', 'toy_terrier',\n",
              "       'Blenheim_spaniel', 'Pembroke', 'llama',\n",
              "       'Chesapeake_Bay_retriever', 'curly-coated_retriever', 'dalmatian',\n",
              "       'Ibizan_hound', 'Border_collie', 'Labrador_retriever', 'seat_belt',\n",
              "       'snail', 'miniature_schnauzer', 'Airedale', 'triceratops', 'swab',\n",
              "       'hay', 'hyena', 'jigsaw_puzzle', 'West_Highland_white_terrier',\n",
              "       'toy_poodle', 'giant_schnauzer', 'vizsla', 'vacuum', 'Rottweiler',\n",
              "       'Siberian_husky', 'teddy', 'papillon', 'Saint_Bernard',\n",
              "       'porcupine', 'goose', 'Tibetan_terrier', 'borzoi', 'beagle',\n",
              "       'hare', 'Yorkshire_terrier', 'Pomeranian', 'electric_fan',\n",
              "       'web_site', 'ibex', 'kuvasz', 'fire_engine', 'lorikeet',\n",
              "       'flat-coated_retriever', 'toyshop', 'common_iguana',\n",
              "       'Norwegian_elkhound', 'frilled_lizard', 'leatherback_turtle',\n",
              "       'hamster', 'Angora', 'Arctic_fox', 'trombone', 'canoe',\n",
              "       'king_penguin', 'shopping_basket', 'standard_poodle',\n",
              "       'Staffordshire_bullterrier', 'basenji', 'Lakeland_terrier',\n",
              "       'American_Staffordshire_terrier', 'bearskin', 'Shih-Tzu',\n",
              "       'bustard', 'crash_helmet', 'French_bulldog', 'Pekinese',\n",
              "       'komondor', 'ski_mask', 'malinois', 'kelpie', 'Brittany_spaniel',\n",
              "       'cocker_spaniel', 'shower_curtain', 'basset', 'jellyfish',\n",
              "       'doormat', 'Arabian_camel', 'lynx', 'hog', 'comic_book', 'minivan',\n",
              "       'seashore', 'cuirass', 'Brabancon_griffon', 'candle', 'Eskimo_dog',\n",
              "       'weasel', 'Christmas_stocking', 'washbasin', 'car_mirror',\n",
              "       'piggy_bank', 'pot', 'boathouse', 'mud_turtle',\n",
              "       'German_short-haired_pointer', 'Shetland_sheepdog',\n",
              "       'Irish_terrier', 'cairn', 'platypus', 'English_springer',\n",
              "       'whippet', 'ping-pong_ball', 'sea_urchin', 'bow_tie',\n",
              "       'window_shade', \"jack-o'-lantern\", 'sorrel', 'Sussex_spaniel',\n",
              "       'peacock', 'axolotl', 'wool', 'banana', 'Dandie_Dinmont',\n",
              "       'Norwich_terrier', 'wood_rabbit', 'dhole', 'keeshond',\n",
              "       'Norfolk_terrier', 'lacewing', 'dingo', 'brown_bear',\n",
              "       'Old_English_sheepdog', 'scorpion', 'flamingo', 'microphone',\n",
              "       'Samoyed', 'pitcher', 'African_hunting_dog', 'refrigerator',\n",
              "       'picket_fence', 'tub', 'zebra', 'hermit_crab', 'swing', 'Doberman',\n",
              "       'park_bench', 'feather_boa', 'Loafer', 'stone_wall', 'ice_bear',\n",
              "       'prayer_rug', 'chimpanzee', 'china_cabinet', 'bee_eater',\n",
              "       'tennis_ball', 'carton', 'killer_whale', 'ostrich', 'terrapin',\n",
              "       'Siamese_cat', 'gondola', 'Great_Pyrenees', 'microwave',\n",
              "       'starfish', 'sandbar', 'tusker', 'motor_scooter', 'ram',\n",
              "       'leaf_beetle', 'wombat', 'schipperke', 'Newfoundland',\n",
              "       'bull_mastiff', 'water_bottle', 'suit', 'toilet_seat', 'collie',\n",
              "       'robin', 'Cardigan', 'Greater_Swiss_Mountain_dog', 'slug',\n",
              "       'toilet_tissue', 'acorn_squash', 'soccer_ball',\n",
              "       'African_crocodile', 'tick', 'ocarina', 'boxer', 'street_sign',\n",
              "       'bow', 'stove', 'paper_towel', 'upright', 'dough',\n",
              "       'Scottish_deerhound', 'bath_towel', 'standard_schnauzer',\n",
              "       'walking_stick', 'Irish_water_spaniel', 'bubble', 'Boston_bull',\n",
              "       'book_jacket', 'rain_barrel', 'black-footed_ferret', 'guenon',\n",
              "       'Japanese_spaniel', 'water_buffalo', 'patio', 'cowboy_hat',\n",
              "       'dogsled', 'maze', 'harp', 'panpipe', 'cash_machine', 'mailbox',\n",
              "       'wallaby', 'EntleBucher', 'earthstar', 'pillow', 'bluetick',\n",
              "       'space_heater', 'carousel', 'Irish_setter', 'birdhouse', 'snorkel',\n",
              "       'bald_eagle', 'koala', 'Leonberg', 'cheetah', 'minibus',\n",
              "       'Weimaraner', 'clog', 'dishwasher', 'white_wolf', 'sliding_door',\n",
              "       'damselfly', 'Great_Dane', 'Tibetan_mastiff', 'cheeseburger',\n",
              "       'fiddler_crab', 'bannister', 'crane', 'Scotch_terrier',\n",
              "       'snowmobile', 'badger', 'bighorn', 'geyser', 'barrow', 'bison',\n",
              "       'Mexican_hairless', 'ice_lolly', 'sea_lion', 'dining_table',\n",
              "       'groenendael', 'Australian_terrier', 'beaver', 'briard',\n",
              "       'Appenzeller', 'grey_fox', 'mousetrap', 'hippopotamus',\n",
              "       'Border_terrier', 'hummingbird', 'tailed_frog', 'otter',\n",
              "       'Egyptian_cat', 'four-poster', 'wild_boar', 'bathtub', 'agama',\n",
              "       'muzzle', 'hotdog', 'bib', 'espresso', 'timber_wolf', 'meerkat',\n",
              "       'nail', 'hammer', 'home_theater', 'alp', 'bonnet', 'handkerchief',\n",
              "       'hand_blower', 'polecat', 'lakeside', 'studio_couch', 'cup',\n",
              "       'cliff', 'Bedlington_terrier', 'lawn_mower', 'balloon',\n",
              "       'sunglasses', 'rapeseed', 'traffic_light', 'coil', 'binoculars',\n",
              "       'paddle', 'tiger_shark', 'sulphur-crested_cockatoo',\n",
              "       'wire-haired_fox_terrier', 'Saluki', 'American_black_bear',\n",
              "       'rotisserie', 'conch', 'skunk', 'bookshop', 'radio_telescope',\n",
              "       'cougar', 'African_grey', 'coral_reef', 'lion', 'maillot',\n",
              "       'Madagascar_cat', 'tabby', 'silky_terrier', 'giant_panda',\n",
              "       'long-horned_beetle', 'Afghan_hound', 'clumber', 'sundial',\n",
              "       'padlock', 'pool_table', 'quilt', 'beach_wagon', 'remote_control',\n",
              "       'bakery', 'pedestal', 'gas_pump', 'bookcase', 'shield', 'loupe',\n",
              "       'restaurant', 'prison', 'school_bus', 'cowboy_boot', 'jersey',\n",
              "       'wooden_spoon', 'leopard', 'mortarboard', 'teapot',\n",
              "       'military_uniform', 'washer', 'coffee_mug', 'fountain',\n",
              "       'pencil_box', 'barbell', 'grille', 'revolver', 'envelope',\n",
              "       'syringe', 'marmot', 'pole', 'laptop', 'basketball', 'tricycle',\n",
              "       'convertible', 'limousine', 'orange'], dtype=object)"
            ]
          },
          "metadata": {
            "tags": []
          },
          "execution_count": 18
        }
      ]
    },
    {
      "cell_type": "markdown",
      "metadata": {
        "id": "FNCntMr0oDxI",
        "colab_type": "text"
      },
      "source": [
        "Inference:\n",
        "* It contains the algorithm's #1 prediction for the image in the tweet\n",
        "* The contains values like 'hen', 'ox' 'desktop computer' which aren't breeds of dogs and could be removed for higher accuracy"
      ]
    },
    {
      "cell_type": "markdown",
      "metadata": {
        "id": "n3blrknqonF0",
        "colab_type": "text"
      },
      "source": [
        "*Variable 'p1_conf'*"
      ]
    },
    {
      "cell_type": "code",
      "metadata": {
        "id": "bDZFziCVov1X",
        "colab_type": "code",
        "outputId": "208452eb-8eef-4bf8-db53-c7bafef47bb3",
        "colab": {
          "base_uri": "https://localhost:8080/",
          "height": 51
        }
      },
      "source": [
        "df.p1_conf.unique()"
      ],
      "execution_count": 0,
      "outputs": [
        {
          "output_type": "execute_result",
          "data": {
            "text/plain": [
              "array([0.465074 , 0.506826 , 0.596461 , ..., 0.716012 , 0.323581 ,\n",
              "       0.0970486])"
            ]
          },
          "metadata": {
            "tags": []
          },
          "execution_count": 19
        }
      ]
    },
    {
      "cell_type": "markdown",
      "metadata": {
        "id": "XqmXWdTmo-kz",
        "colab_type": "text"
      },
      "source": [
        "Inference:\n",
        "* It shows how confident the algorithm is in its #1 prediction\n",
        "* The column is in the appropriate datatype, float"
      ]
    },
    {
      "cell_type": "markdown",
      "metadata": {
        "id": "0A7EpAccpNQG",
        "colab_type": "text"
      },
      "source": [
        "*Variable 'p1_dog'*"
      ]
    },
    {
      "cell_type": "code",
      "metadata": {
        "id": "FVrL0XUqpWIA",
        "colab_type": "code",
        "outputId": "0f3d9e17-1ffb-4f09-838a-37d503fac308",
        "colab": {
          "base_uri": "https://localhost:8080/",
          "height": 221
        }
      },
      "source": [
        "df.p1_dog.unique"
      ],
      "execution_count": 0,
      "outputs": [
        {
          "output_type": "execute_result",
          "data": {
            "text/plain": [
              "<bound method Series.unique of 0        True\n",
              "1        True\n",
              "2        True\n",
              "3        True\n",
              "4        True\n",
              "        ...  \n",
              "2068     True\n",
              "2069    False\n",
              "2070     True\n",
              "2071     True\n",
              "2072    False\n",
              "Name: p1_dog, Length: 2073, dtype: bool>"
            ]
          },
          "metadata": {
            "tags": []
          },
          "execution_count": 20
        }
      ]
    },
    {
      "cell_type": "markdown",
      "metadata": {
        "id": "cEyeY7S9pYzk",
        "colab_type": "text"
      },
      "source": [
        "Inference:\n",
        "* It shows whether or not the #1 prediction is a breed of dog\n",
        "* The column is in the appropriate datatype, boolean"
      ]
    },
    {
      "cell_type": "markdown",
      "metadata": {
        "id": "XTH6H7BTpt0U",
        "colab_type": "text"
      },
      "source": [
        "Similar inference follow for variables 'p2', 'p2_conf', 'p2_dog', 'p3', 'p3_conf', 'p3_dog' as above since they're derived by the same method"
      ]
    },
    {
      "cell_type": "markdown",
      "metadata": {
        "id": "DLCgJV6Wqghh",
        "colab_type": "text"
      },
      "source": [
        "*Variable 'in_reply_to_status_id'*"
      ]
    },
    {
      "cell_type": "code",
      "metadata": {
        "id": "RtV2GIBSqpHD",
        "colab_type": "code",
        "outputId": "156a064b-c825-4a91-b4cf-2379b279aa78",
        "colab": {
          "base_uri": "https://localhost:8080/",
          "height": 119
        }
      },
      "source": [
        "df.in_reply_to_status_id.unique()"
      ],
      "execution_count": 0,
      "outputs": [
        {
          "output_type": "execute_result",
          "data": {
            "text/plain": [
              "array([           nan, 6.67806455e+17, 6.71561002e+17, 6.74752233e+17,\n",
              "       6.71729907e+17, 6.74793399e+17, 6.74999808e+17, 6.75497103e+17,\n",
              "       6.75707330e+17, 6.84222868e+17, 6.84481075e+17, 6.92041935e+17,\n",
              "       6.70668383e+17, 6.75349384e+17, 7.03041950e+17, 6.67152164e+17,\n",
              "       7.03255936e+17, 7.29113531e+17, 6.91416866e+17, 7.46885919e+17,\n",
              "       7.33109485e+17, 7.59099524e+17, 8.55818117e+17])"
            ]
          },
          "metadata": {
            "tags": []
          },
          "execution_count": 21
        }
      ]
    },
    {
      "cell_type": "markdown",
      "metadata": {
        "id": "gfStahC2qrCU",
        "colab_type": "text"
      },
      "source": [
        "Inference:\n",
        "* It shows numerical value when the row is a reply to a tweet and nan value otherwise.\n",
        "* Since, we want only original tweets, we should drop rows which are replies to tweets"
      ]
    },
    {
      "cell_type": "markdown",
      "metadata": {
        "id": "-iUCSJnpsBmA",
        "colab_type": "text"
      },
      "source": [
        "*Variable 'in_reply_to_user_id'*"
      ]
    },
    {
      "cell_type": "code",
      "metadata": {
        "id": "yYFncYDlsCM3",
        "colab_type": "code",
        "outputId": "a1d00256-0842-411d-c367-23aa5fbd5b4b",
        "colab": {
          "base_uri": "https://localhost:8080/",
          "height": 34
        }
      },
      "source": [
        "df.in_reply_to_user_id.unique()"
      ],
      "execution_count": 0,
      "outputs": [
        {
          "output_type": "execute_result",
          "data": {
            "text/plain": [
              "array([           nan, 4.19698384e+09])"
            ]
          },
          "metadata": {
            "tags": []
          },
          "execution_count": 22
        }
      ]
    },
    {
      "cell_type": "markdown",
      "metadata": {
        "id": "wurUgW3xsCnA",
        "colab_type": "text"
      },
      "source": [
        "Inference:\n",
        "* It shows numerical value when the row is a reply to a tweet and nan value otherwise.\n",
        "* Since, we want only original tweets, we should drop rows which are replies to tweets"
      ]
    },
    {
      "cell_type": "markdown",
      "metadata": {
        "id": "a_gt-_X_sRQM",
        "colab_type": "text"
      },
      "source": [
        "*Variable 'timestamp'*"
      ]
    },
    {
      "cell_type": "code",
      "metadata": {
        "id": "nC58FJEqsefL",
        "colab_type": "code",
        "outputId": "04684f18-9425-4481-9c81-eca50d92652a",
        "colab": {
          "base_uri": "https://localhost:8080/",
          "height": 85
        }
      },
      "source": [
        "df.timestamp.unique()"
      ],
      "execution_count": 0,
      "outputs": [
        {
          "output_type": "execute_result",
          "data": {
            "text/plain": [
              "array(['2015-11-15 22:32:08 +0000', '2015-11-15 23:05:30 +0000',\n",
              "       '2015-11-15 23:21:54 +0000', ..., '2017-07-31 00:18:03 +0000',\n",
              "       '2017-08-01 00:17:27 +0000', '2017-08-01 16:23:56 +0000'],\n",
              "      dtype=object)"
            ]
          },
          "metadata": {
            "tags": []
          },
          "execution_count": 23
        }
      ]
    },
    {
      "cell_type": "markdown",
      "metadata": {
        "id": "4dOkbqxYsp5l",
        "colab_type": "text"
      },
      "source": [
        "Inference:\n",
        "* It shows the time of the tweet.\n",
        "* The format of data is object whereas it should be datatime format."
      ]
    },
    {
      "cell_type": "markdown",
      "metadata": {
        "id": "2udo-H8As5OU",
        "colab_type": "text"
      },
      "source": [
        "*Variable 'source'*"
      ]
    },
    {
      "cell_type": "code",
      "metadata": {
        "id": "QrZ41utDsjfK",
        "colab_type": "code",
        "outputId": "c253b45e-ebe8-497a-e207-304ba231af95",
        "colab": {
          "base_uri": "https://localhost:8080/",
          "height": 85
        }
      },
      "source": [
        "df.source.unique()"
      ],
      "execution_count": 0,
      "outputs": [
        {
          "output_type": "execute_result",
          "data": {
            "text/plain": [
              "array(['<a href=\"http://twitter.com/download/iphone\" rel=\"nofollow\">Twitter for iPhone</a>',\n",
              "       '<a href=\"http://twitter.com\" rel=\"nofollow\">Twitter Web Client</a>',\n",
              "       '<a href=\"https://about.twitter.com/products/tweetdeck\" rel=\"nofollow\">TweetDeck</a>'],\n",
              "      dtype=object)"
            ]
          },
          "metadata": {
            "tags": []
          },
          "execution_count": 24
        }
      ]
    },
    {
      "cell_type": "markdown",
      "metadata": {
        "id": "sfF6Y0aWv7qf",
        "colab_type": "text"
      },
      "source": [
        "Inference:\n",
        "* It shows source of the tweet\n",
        "* The datatype is in the appropriate format of object"
      ]
    },
    {
      "cell_type": "markdown",
      "metadata": {
        "id": "o8ehvXEUxlDH",
        "colab_type": "text"
      },
      "source": [
        "*Variable 'text'*"
      ]
    },
    {
      "cell_type": "code",
      "metadata": {
        "id": "9pFTv-lexlmn",
        "colab_type": "code",
        "outputId": "8223c063-f5ee-42e2-88b1-c77a95073f79",
        "colab": {
          "base_uri": "https://localhost:8080/",
          "height": 173
        }
      },
      "source": [
        "df.text.unique()"
      ],
      "execution_count": 0,
      "outputs": [
        {
          "output_type": "execute_result",
          "data": {
            "text/plain": [
              "array(['Here we have a Japanese Irish Setter. Lost eye in Vietnam (?). Big fan of relaxing on stair. 8/10 would pet https://t.co/BLDqew2Ijj',\n",
              "       'This is a western brown Mitsubishi terrier. Upset about leaf. Actually 2 dogs here. 7/10 would walk the shit out of https://t.co/r7mOb2m0UI',\n",
              "       'Here is a very happy pup. Big fan of well-maintained decks. Just look at that tongue. 9/10 would cuddle af https://t.co/y671yMhoiR',\n",
              "       ...,\n",
              "       'This is Archie. He is a rare Norwegian Pouncing Corgo. Lives in the tall grass. You never know when one may strike. 12/10 https://t.co/wUnZnhtVJB',\n",
              "       \"This is Tilly. She's just checking pup on you. Hopes you're doing ok. If not, she's available for pats, snugs, boops, the whole bit. 13/10 https://t.co/0Xxu71qeIV\",\n",
              "       \"This is Phineas. He's a mystical boy. Only ever appears in the hole of a donut. 13/10 https://t.co/MgUWQ76dJU\"],\n",
              "      dtype=object)"
            ]
          },
          "metadata": {
            "tags": []
          },
          "execution_count": 25
        }
      ]
    },
    {
      "cell_type": "markdown",
      "metadata": {
        "id": "I8jfgePAxmMm",
        "colab_type": "text"
      },
      "source": [
        "Inference:\n",
        "* It shows text of the tweet\n",
        "* The datatype is in the appropriate format of object\n",
        "* The name of the dog, gender of the dog can be extracted from this column"
      ]
    },
    {
      "cell_type": "markdown",
      "metadata": {
        "id": "mwLNzLlI1K30",
        "colab_type": "text"
      },
      "source": [
        "*Variable 'retweeted_status_id'*"
      ]
    },
    {
      "cell_type": "code",
      "metadata": {
        "id": "WO_Wq1qh1KAF",
        "colab_type": "code",
        "outputId": "634d0fc5-70f9-4f69-ae59-fce178c83379",
        "colab": {
          "base_uri": "https://localhost:8080/",
          "height": 357
        }
      },
      "source": [
        "df.retweeted_status_id.unique()"
      ],
      "execution_count": 0,
      "outputs": [
        {
          "output_type": "execute_result",
          "data": {
            "text/plain": [
              "array([           nan, 6.67548415e+17, 6.67548696e+17, 7.11998280e+17,\n",
              "       6.75354436e+17, 6.79158374e+17, 7.57597141e+17, 6.79062614e+17,\n",
              "       6.70319131e+17, 7.39544079e+17, 7.11694788e+17, 6.85325113e+17,\n",
              "       7.25842289e+17, 7.41067307e+17, 6.73320133e+17, 7.65222099e+17,\n",
              "       7.33109485e+17, 6.79828447e+17, 7.50429298e+17, 7.03041950e+17,\n",
              "       7.80465709e+17, 7.42423170e+17, 7.07610949e+17, 6.74291837e+17,\n",
              "       7.79834333e+17, 7.61004548e+17, 7.89986466e+17, 7.63837566e+17,\n",
              "       7.91672323e+17, 7.88765915e+17, 7.89530877e+17, 7.96149749e+17,\n",
              "       7.71770457e+17, 6.67509364e+17, 6.70444956e+17, 6.71896809e+17,\n",
              "       6.75501076e+17, 7.01214701e+17, 7.12809026e+17, 7.75085133e+17,\n",
              "       7.76113306e+17, 7.79056096e+17, 7.77684234e+17, 6.91416866e+17,\n",
              "       7.84826020e+17, 7.82722599e+17, 7.83334640e+17, 7.82969140e+17,\n",
              "       8.01167903e+17, 7.93962222e+17, 7.90277117e+17, 7.32005617e+17,\n",
              "       7.90946056e+17, 8.15966073e+17, 7.73547597e+17, 8.19006401e+17,\n",
              "       8.19004803e+17, 8.00141422e+17, 7.80601304e+17, 8.22489057e+17,\n",
              "       8.22244817e+17, 7.95076730e+17, 8.26958653e+17, 7.69940426e+17,\n",
              "       7.93286476e+17, 8.32766382e+17, 8.37011345e+17, 8.38905981e+17,\n",
              "       8.39289919e+17, 8.17423860e+17, 8.07106841e+17, 8.47971000e+17,\n",
              "       8.48289382e+17, 8.29374342e+17, 8.60914485e+17, 8.06629075e+17,\n",
              "       8.65013420e+17, 8.68880398e+17, 8.76850772e+17, 8.30583321e+17])"
            ]
          },
          "metadata": {
            "tags": []
          },
          "execution_count": 26
        }
      ]
    },
    {
      "cell_type": "markdown",
      "metadata": {
        "id": "Q6mfX9NR1LnT",
        "colab_type": "text"
      },
      "source": [
        "Inference:\n",
        "* It shows numerical value when the row is a retweet and nan value otherwise.\n",
        "* Since, we want only original tweets, we should drop rows which are retweets"
      ]
    },
    {
      "cell_type": "markdown",
      "metadata": {
        "id": "iWL98_uC2Xo0",
        "colab_type": "text"
      },
      "source": [
        "*Variable 'retweeted_status_user_id'*"
      ]
    },
    {
      "cell_type": "code",
      "metadata": {
        "id": "EBHEzUaJ2ZEy",
        "colab_type": "code",
        "outputId": "bdf3d5e8-9e2f-4b7a-9d54-e22d3cb5d3eb",
        "colab": {
          "base_uri": "https://localhost:8080/",
          "height": 85
        }
      },
      "source": [
        "df.retweeted_status_user_id.unique()"
      ],
      "execution_count": 0,
      "outputs": [
        {
          "output_type": "execute_result",
          "data": {
            "text/plain": [
              "array([           nan, 4.29683174e+09, 7.83214000e+05, 4.19698384e+09,\n",
              "       2.80479778e+08, 1.22832566e+09, 4.87197737e+08, 7.26634734e+08,\n",
              "       8.11740824e+08, 4.11984180e+07, 5.97064155e+08, 3.41021133e+08,\n",
              "       3.63890752e+08, 7.87461778e+17, 5.12804507e+08])"
            ]
          },
          "metadata": {
            "tags": []
          },
          "execution_count": 27
        }
      ]
    },
    {
      "cell_type": "markdown",
      "metadata": {
        "id": "3YxfAQkM2Z4f",
        "colab_type": "text"
      },
      "source": [
        "Inference:\n",
        "* It shows numerical value of the user's id when the row is a retweet and nan value otherwise.\n",
        "* Since, we want only original tweets, we should drop rows which are retweets"
      ]
    },
    {
      "cell_type": "markdown",
      "metadata": {
        "id": "eZ-XPg2V2eCa",
        "colab_type": "text"
      },
      "source": [
        "*Variable 'retweeted_status_timestamp'*"
      ]
    },
    {
      "cell_type": "code",
      "metadata": {
        "id": "dB72t6o12fQL",
        "colab_type": "code",
        "outputId": "41c257e0-1c5e-424a-c73f-26cb32e6757c",
        "colab": {
          "base_uri": "https://localhost:8080/",
          "height": 697
        }
      },
      "source": [
        "df.retweeted_status_timestamp.unique()"
      ],
      "execution_count": 0,
      "outputs": [
        {
          "output_type": "execute_result",
          "data": {
            "text/plain": [
              "array([nan, '2015-11-20 03:41:59 +0000', '2015-11-20 03:43:06 +0000',\n",
              "       '2016-03-21 19:29:52 +0000', '2015-12-11 16:40:19 +0000',\n",
              "       '2015-12-22 04:35:49 +0000', '2016-07-25 15:23:28 +0000',\n",
              "       '2015-12-21 22:15:18 +0000', '2015-11-27 19:11:49 +0000',\n",
              "       '2016-06-05 19:47:03 +0000', '2016-03-20 23:23:54 +0000',\n",
              "       '2016-01-08 05:00:14 +0000', '2016-04-29 00:21:01 +0000',\n",
              "       '2016-06-10 00:39:48 +0000', '2015-12-06 01:56:44 +0000',\n",
              "       '2016-08-15 16:22:20 +0000', '2016-05-19 01:38:16 +0000',\n",
              "       '2015-12-24 00:58:27 +0000', '2016-07-05 20:41:01 +0000',\n",
              "       '2016-02-26 02:20:37 +0000', '2016-09-26 17:55:00 +0000',\n",
              "       '2016-06-13 18:27:32 +0000', '2016-03-09 16:56:11 +0000',\n",
              "       '2015-12-08 18:17:56 +0000', '2016-09-25 00:06:08 +0000',\n",
              "       '2016-08-04 01:03:17 +0000', '2016-10-23 00:27:05 +0000',\n",
              "       '2016-08-11 20:40:41 +0000', '2016-10-27 16:06:04 +0000',\n",
              "       '2016-10-19 15:37:03 +0000', '2016-10-21 18:16:44 +0000',\n",
              "       '2016-11-09 00:37:46 +0000', '2016-09-02 18:03:10 +0000',\n",
              "       '2015-11-20 01:06:48 +0000', '2015-11-28 03:31:48 +0000',\n",
              "       '2015-12-02 03:40:57 +0000', '2015-12-12 02:23:01 +0000',\n",
              "       '2016-02-21 01:19:47 +0000', '2016-03-24 01:11:29 +0000',\n",
              "       '2016-09-11 21:34:30 +0000', '2016-09-14 17:40:06 +0000',\n",
              "       '2016-09-22 20:33:42 +0000', '2016-09-19 01:42:24 +0000',\n",
              "       '2016-01-25 00:26:41 +0000', '2016-10-08 18:41:19 +0000',\n",
              "       '2016-10-02 23:23:04 +0000', '2016-10-04 15:55:06 +0000',\n",
              "       '2016-10-03 15:42:44 +0000', '2016-11-22 20:58:07 +0000',\n",
              "       '2016-11-02 23:45:19 +0000', '2016-10-23 19:42:02 +0000',\n",
              "       '2016-05-16 00:31:53 +0000', '2016-10-25 16:00:09 +0000',\n",
              "       '2017-01-02 17:00:46 +0000', '2016-09-07 15:44:53 +0000',\n",
              "       '2017-01-11 02:21:57 +0000', '2017-01-11 02:15:36 +0000',\n",
              "       '2016-11-20 00:59:15 +0000', '2016-09-27 02:53:48 +0000',\n",
              "       '2017-01-20 17:00:46 +0000', '2017-01-20 00:50:15 +0000',\n",
              "       '2016-11-06 01:33:58 +0000', '2017-02-02 01:01:21 +0000',\n",
              "       '2016-08-28 16:51:16 +0000', '2016-11-01 03:00:09 +0000',\n",
              "       '2017-02-18 01:39:12 +0000', '2017-03-01 18:47:10 +0000',\n",
              "       '2017-03-07 00:15:46 +0000', '2017-03-08 01:41:24 +0000',\n",
              "       '2017-01-06 17:33:29 +0000', '2016-12-09 06:17:20 +0000',\n",
              "       '2017-04-01 00:36:55 +0000', '2017-04-01 21:42:03 +0000',\n",
              "       '2017-02-08 17:00:26 +0000', '2017-05-06 17:49:42 +0000',\n",
              "       '2016-12-07 22:38:52 +0000', '2017-05-18 01:17:25 +0000',\n",
              "       '2017-05-28 17:23:24 +0000', '2017-06-19 17:14:49 +0000',\n",
              "       '2017-02-12 01:04:29 +0000'], dtype=object)"
            ]
          },
          "metadata": {
            "tags": []
          },
          "execution_count": 28
        }
      ]
    },
    {
      "cell_type": "markdown",
      "metadata": {
        "id": "KRlUnhGC2f6x",
        "colab_type": "text"
      },
      "source": [
        "Inference:\n",
        "* It shows timestamp of tweet when the row is a retweet and nan value otherwise.\n",
        "* Since, we want only original tweets, we should drop rows which are retweets"
      ]
    },
    {
      "cell_type": "markdown",
      "metadata": {
        "id": "Odn6JutD2jzJ",
        "colab_type": "text"
      },
      "source": [
        "*Variable 'expanded_urls'*"
      ]
    },
    {
      "cell_type": "code",
      "metadata": {
        "id": "e31Zw-tS2kYS",
        "colab_type": "code",
        "outputId": "2d33fc7d-3cf2-4416-881f-d9a6c81fdac6",
        "colab": {
          "base_uri": "https://localhost:8080/",
          "height": 153
        }
      },
      "source": [
        "df.expanded_urls.unique()"
      ],
      "execution_count": 0,
      "outputs": [
        {
          "output_type": "execute_result",
          "data": {
            "text/plain": [
              "array(['https://twitter.com/dog_rates/status/666020888022790149/photo/1',\n",
              "       'https://twitter.com/dog_rates/status/666029285002620928/photo/1',\n",
              "       'https://twitter.com/dog_rates/status/666033412701032449/photo/1',\n",
              "       ...,\n",
              "       'https://twitter.com/dog_rates/status/891815181378084864/photo/1',\n",
              "       'https://twitter.com/dog_rates/status/892177421306343426/photo/1',\n",
              "       'https://twitter.com/dog_rates/status/892420643555336193/photo/1'],\n",
              "      dtype=object)"
            ]
          },
          "metadata": {
            "tags": []
          },
          "execution_count": 29
        }
      ]
    },
    {
      "cell_type": "markdown",
      "metadata": {
        "id": "Ypy0Q0l52k87",
        "colab_type": "text"
      },
      "source": [
        "Inference:\n",
        "* It shows the expanded urls in the tweet\n",
        "* The datatype of this column is appropriate, object"
      ]
    },
    {
      "cell_type": "markdown",
      "metadata": {
        "id": "YVpSsWV42nGX",
        "colab_type": "text"
      },
      "source": [
        "Variable 'rating_numerator'"
      ]
    },
    {
      "cell_type": "code",
      "metadata": {
        "id": "l-JaHr1N433o",
        "colab_type": "code",
        "outputId": "1e8d4b77-89ea-4642-886f-43cdfc66a946",
        "colab": {
          "base_uri": "https://localhost:8080/",
          "height": 85
        }
      },
      "source": [
        "df.rating_numerator.unique()"
      ],
      "execution_count": 0,
      "outputs": [
        {
          "output_type": "execute_result",
          "data": {
            "text/plain": [
              "array([   8,    7,    9,    6,    5,   10,    2,   11,    1,    3,   12,\n",
              "          4,   13,  420,   88,  144,   26,  121,  143,   14,   44,   60,\n",
              "         45,   80,   99,   50,  204,    0, 1776,  165,   27,   75,   24,\n",
              "         84,   15])"
            ]
          },
          "metadata": {
            "tags": []
          },
          "execution_count": 30
        }
      ]
    },
    {
      "cell_type": "markdown",
      "metadata": {
        "id": "I70Ig15-48t2",
        "colab_type": "text"
      },
      "source": [
        "Inference:\n",
        "* It shows the dog's rating out of 10\n",
        "\n",
        "* Some of the ratings are 0 or below 10 which is against the\n",
        "unique rating system of WeRateDogs where the rating numerators are greater than the denominators.\n",
        "\n",
        "* Thus, the rows having lesser ratings could be dropped."
      ]
    },
    {
      "cell_type": "markdown",
      "metadata": {
        "id": "XteUbg8258PP",
        "colab_type": "text"
      },
      "source": [
        "*Variable 'rating_denominator'*"
      ]
    },
    {
      "cell_type": "code",
      "metadata": {
        "id": "EhZoopRG6H8y",
        "colab_type": "code",
        "outputId": "90de44b7-53dc-4d7b-c052-802c83e571bb",
        "colab": {
          "base_uri": "https://localhost:8080/",
          "height": 289
        }
      },
      "source": [
        "df.rating_denominator.value_counts()"
      ],
      "execution_count": 0,
      "outputs": [
        {
          "output_type": "execute_result",
          "data": {
            "text/plain": [
              "10     2055\n",
              "50        3\n",
              "11        2\n",
              "80        2\n",
              "7         1\n",
              "170       1\n",
              "150       1\n",
              "130       1\n",
              "120       1\n",
              "110       1\n",
              "90        1\n",
              "70        1\n",
              "40        1\n",
              "20        1\n",
              "2         1\n",
              "Name: rating_denominator, dtype: int64"
            ]
          },
          "metadata": {
            "tags": []
          },
          "execution_count": 31
        }
      ]
    },
    {
      "cell_type": "markdown",
      "metadata": {
        "id": "mBJhsgje6G4-",
        "colab_type": "text"
      },
      "source": [
        "Inference:\n",
        "* It shows the denominator of the dog's rating\n",
        "\n",
        "* Some of the ratings less than or more than 10 which is against the unique rating system of WeRateDogs where the dogs are rated out of 10.\n",
        "\n",
        "* Thus, the rows having inaccurate data could be dropped.\n",
        "* After which, since the column has just 1 value of 10 and doesn't provide a lot of different information, it could be dropped as well"
      ]
    },
    {
      "cell_type": "markdown",
      "metadata": {
        "id": "OtCnL3CN-iPw",
        "colab_type": "text"
      },
      "source": [
        "*Variable 'name'*"
      ]
    },
    {
      "cell_type": "code",
      "metadata": {
        "id": "QitZJoi4_SAi",
        "colab_type": "code",
        "outputId": "c32e4bfd-9d27-456f-c036-7be712a6dd52",
        "colab": {
          "base_uri": "https://localhost:8080/",
          "height": 1000
        }
      },
      "source": [
        "df.name.unique()"
      ],
      "execution_count": 0,
      "outputs": [
        {
          "output_type": "execute_result",
          "data": {
            "text/plain": [
              "array(['None', 'a', 'an', 'the', 'quite', 'Walter', 'Scout', 'Kreggory',\n",
              "       'Jimothy', 'Christoper', 'Lugan', 'Josep', 'Jockson', 'Jeph',\n",
              "       'Carll', 'Klevin', 'Keet', 'Dave', 'Clybe', 'Gabe', 'Pipsy',\n",
              "       'Bradlay', 'Churlie', 'Kenneth', 'Clarence', 'Timison', 'Joshwa',\n",
              "       'Genevieve', 'Fwed', 'Biden', 'Cupcake', 'Reese', 'Philippe',\n",
              "       'Hall', 'Dook', 'Naphaniel', 'Frank', 'Kial', 'George', 'Olive',\n",
              "       'Calvin', 'Filup', 'Shaggy', 'Tedrick', 'Stu', 'Erik',\n",
              "       'Cleopatricia', 'Otis', 'Jiminy', 'Alfie', 'Skittles', 'Ron',\n",
              "       'Torque', 'Bisquick', 'Jareld', 'Sophie', 'Rusty', 'DayZ', 'Jo',\n",
              "       'Gòrdón', 'Spark', 'Marvin', 'Kallie', 'Jomathan', 'Maks',\n",
              "       'Timofy', 'Zeek', 'Hanz', 'Winifred', 'Kevon', 'Banditt', 'Bobb',\n",
              "       'Amélie', 'Ruffles', 'Lambeau', 'Herald', 'Jaycob', 'Jeremy',\n",
              "       'Chaz', 'Ruby', 'Bernie', 'Harrison', 'Terrance', 'Tucker',\n",
              "       'Samsom', 'Jaspers', 'Clarq', 'Ralf', 'Kirk', 'Sully', 'Tessa',\n",
              "       'Dug', 'Saydee', 'Chip', 'Oliviér', 'Billl', 'Ronduh', 'Kollin',\n",
              "       'Keith', 'Linda', 'Skye', 'Penny', 'Shawwn', 'Louie', 'Kloey',\n",
              "       'Chester', 'Andru', 'Julio', 'Zoey', 'Raphael', 'Ben', 'Tommy',\n",
              "       'Liam', 'Randall', 'Winston', 'Fabio', 'Wally', 'Sandra',\n",
              "       'Butters', 'Daisy', 'Larry', 'Nigel', 'Peanut', 'Scooter', 'Damon',\n",
              "       'Herb', 'Willy', 'Sam', 'Hank', 'Koda', 'Paull', 'Edd', 'Phineas',\n",
              "       'Bloo', 'Pluto', 'Ester', 'Danny', 'Jeffrie', 'Jerry', 'Gin',\n",
              "       'Vincent', 'Traviss', 'Creg', 'Antony', 'Trigger', 'Mason', 'Andy',\n",
              "       'Maggie', 'Sage', 'Remington', 'Amy', 'Jett', 'Colby', 'Toby',\n",
              "       'Phred', 'Holly', 'Anthony', 'Herm', 'Sparky', 'Lola', 'Lou',\n",
              "       'Tanner', 'Penelope', 'Malcolm', 'Julius', 'Pip', 'Charlie',\n",
              "       'Hammond', 'Scruffers', 'Alejandro', 'Jax', 'Reginald', 'Baxter',\n",
              "       'JD', 'Marley', 'Oscar', 'Mark', 'space', 'Dylan', 'Mia', 'Brad',\n",
              "       'Batdog', 'Mojo', 'Gizmo', 'Patch', 'Tuco', 'just', 'Bubba',\n",
              "       'Bradley', 'Opal', 'Cal', 'Ridley', 'Snickers', 'Rolf', 'Kreg',\n",
              "       'Pippin', 'Franq', 'Buddy', 'Jazz', 'light', 'Jackie', 'Darby',\n",
              "       'Taz', 'Scott', 'Caryl', 'Norman', 'Leonidas', 'Ed', 'Cheryl',\n",
              "       'Jimison', 'Terry', 'Gustaf', 'Chet', 'Chuckles', 'Schnozz',\n",
              "       'Pumpkin', 'Kenzie', 'Fletcher', 'Dexter', 'Mac', 'Eve', 'Frankie',\n",
              "       'Django', 'Gerald', 'Bella', 'Steve', 'Sandy', 'Jeffri', 'Albert',\n",
              "       'Kendall', 'Shnuggles', 'Pickles', 'Dot', 'Raymond', 'Riley',\n",
              "       'Obie', 'one', 'Aiden', 'Acro', 'Kaiya', 'Lucy', 'Stanley', 'Earl',\n",
              "       'Mitch', 'Bobbay', 'Gus', 'Henry', 'Bob', 'Kenny', 'Lennon',\n",
              "       'Chesney', 'Gary', 'Lenny', 'Jonah', 'Ava', 'Bailey', 'Louis',\n",
              "       'Rodman', 'Jeb', 'Patrick', 'Rufio', 'Superpup', 'Tedders',\n",
              "       'Laela', 'Mollie', 'Moe', 'Oliver', 'Zuzu', 'Steven', 'Coops',\n",
              "       'Arnold', 'Reggie', 'Sammy', 'Ellie', 'Buddah', 'Pepper', 'Donny',\n",
              "       'Striker', 'Bert', 'Duke', 'Griffin', 'Vinnie', 'Bubbles',\n",
              "       'Godzilla', 'Ash', 'Karl', 'Tyrus', 'Cooper', 'Chuq', 'Juckson',\n",
              "       'Tassy', 'Derek', 'Humphrey', 'Axel', 'Sadie', 'Ralph', 'Jessifer',\n",
              "       'Rosie', 'Crumpet', 'Jerome', 'Crystal', 'Grizz', 'Tango', 'Dash',\n",
              "       'Wilson', 'Tug', 'Chompsky', 'officially', 'Rubio', 'Hurley',\n",
              "       'Evy', 'Dwight', 'William', 'Mike', 'Hunter', 'Rinna', 'Willie',\n",
              "       'Bruce', 'Emmie', 'by', 'Ozzy', 'Kawhi', 'Goliath', 'CeCe',\n",
              "       'Hector', 'Percy', 'Brody', 'Moofasa', 'Cheesy', 'Griswold',\n",
              "       'Alice', 'Ozzie', 'Aspen', 'Champ', 'Panda', 'Sarge', 'actually',\n",
              "       'Chuck', 'Glacier', 'Asher', 'Carly', 'Apollo', 'Toffee', 'Bo',\n",
              "       'Ulysses', 'Tess', 'Samson', 'Todo', 'Joey', 'Taco', 'Darrel',\n",
              "       'Lulu', 'Brandy', 'Jack', 'Banjo', 'Sebastian', 'Tiger', 'Lupe',\n",
              "       'Kulet', 'Tino', 'Obi', 'Pippa', 'Bobby', 'Theodore', 'Perry',\n",
              "       'Bruiser', 'Oreo', 'Gerbald', 'Hubertson', 'Petrick', 'Rocky',\n",
              "       'Brooks', 'Marty', 'Lorelei', 'Flávio', 'Birf', 'Crimson',\n",
              "       'Horace', 'Olivia', 'Mona', 'Jackson', 'Gordon', 'Tyrone',\n",
              "       'Kramer', 'Curtis', 'Marq', 'Blakely', 'Trooper', 'Kilo', 'Lizzie',\n",
              "       'Derby', 'Frönq', 'Pubert', 'Hamrick', 'Trip', 'Lucky', 'Chipson',\n",
              "       'Carl', 'Ricky', 'Luca', 'Fynn', 'Durg', 'Covach', 'Geoff',\n",
              "       'Maxwell', 'Eriq', 'Lolo', 'Hazel', 'Cedrick', 'Vinscent',\n",
              "       'Peaches', 'Molly', 'Leo', 'Richie', 'Brockly', 'Kingsley',\n",
              "       'Edgar', 'Herschel', 'Cody', 'Amber', 'Tupawc', 'Milo', 'Dunkin',\n",
              "       'Bodie', 'Lincoln', 'Phil', 'Freddery', 'Kobe', 'Grady', 'Archie',\n",
              "       'Brian', 'Lorenzo', 'Colin', 'Wyatt', 'Berb', 'Trevith', 'Reptar',\n",
              "       'Misty', 'Oakley', 'getting', 'Bentley', 'Blipson', 'Ole',\n",
              "       'Carter', 'Cassie', 'Doug', 'Lily', 'Beau', 'Franklin', 'Maximus',\n",
              "       'Jessiga', 'Claude', 'Cuddles', 'Reagan', 'Charl', 'Calbert',\n",
              "       'Miley', 'Fillup', 'Nala', 'Thumas', 'Eazy', 'Dotsy', 'Murphy',\n",
              "       'Kaia', 'very', 'Daniel', 'Crouton', 'Millie', 'Yoda', 'Coopson',\n",
              "       'Bilbo', 'Rilo', 'Fiji', 'Sansa', 'Rambo', 'Socks', 'Ralphson',\n",
              "       'Lucia', 'Chesterson', 'Terrenth', 'Bode', 'Ambrose', 'Zara',\n",
              "       'Max', 'Adele', 'Kara', 'Shadow', 'Katie', 'Elliot', 'Kathmandu',\n",
              "       'Finnegus', 'Clarkus', 'Keurig', 'Harper', 'Jiminus', 'Rufus',\n",
              "       'Farfle', 'Jebberson', 'River', 'Bobble', 'Bear', 'Smokey', 'Coco',\n",
              "       'Mister', 'Malikai', 'Rodney', 'Walker', 'Billy', 'Karma', 'Vince',\n",
              "       'Cecil', 'Olaf', 'Watson', 'Tater', 'Lacy', 'infuriating',\n",
              "       'Gunner', 'Beemo', 'Sora', 'Staniel', 'Roosevelt', 'Kane', 'Sunny',\n",
              "       'Stubert', 'Opie', 'Lance', 'Piper', 'Kanu', 'Travis', 'Benedict',\n",
              "       'Siba', 'Michelangelope', 'Nico', 'Bertson', 'Zeus', 'Stephanus',\n",
              "       'Bluebert', 'Jennifur', 'Link', 'Ebby', 'Barclay', 'Suki',\n",
              "       'Alexanderson', 'Bowie', 'Carper', 'Sid', 'Harnold', 'Clyde',\n",
              "       'Neptune', 'Charleson', 'Ralphé', 'Berkeley', 'Schnitzel',\n",
              "       'Jangle', 'Ivar', 'Sugar', 'Luther', 'Ashleigh', 'Fred', 'Lillie',\n",
              "       'Bloop', 'Blitz', 'Sprout', 'Karll', 'Cilantro', 'Rueben', 'all',\n",
              "       'Enchilada', 'Wallace', 'Coleman', 'Flurpson', 'Puff', 'Pupcasso',\n",
              "       'Stefan', 'Ollie', 'Charles', 'Ziva', 'Rooney', 'unacceptable',\n",
              "       'this', 'Solomon', 'Kyle', 'Aldrick', 'Ralpher', 'Hermione',\n",
              "       'Moose', 'Livvie', 'Buckley', 'Kellogg', 'Dakota', 'Maxaroni',\n",
              "       'Rory', 'Chadrick', 'Remy', 'Storkson', 'Bayley', 'Benji', 'Simba',\n",
              "       'Rorie', 'Nollie', 'Chase', 'Baloo', 'Aqua', 'Edmund', 'Bell',\n",
              "       'Kayla', 'Beya', 'Harold', 'Stark', 'Geno', 'Blanket', 'Harvey',\n",
              "       'Indie', 'Abby', 'Lenox', 'Arlen', 'Gustav', 'Shiloh', 'Clark',\n",
              "       'Atticus', 'Bookstore', 'Huxley', 'Cora', 'his', 'Tripp', 'Divine',\n",
              "       'not', 'Dietrich', 'Blu', 'Finn', 'Jameson', 'Spanky', 'Lilah',\n",
              "       'Stewie', 'Zoe', 'Arnie', 'Meyer', 'Gilbert', 'Grizzie', 'Tayzie',\n",
              "       'Ace', 'Dex', 'Winnie', 'Gert', 'Devón', 'Beckham', 'Leonard',\n",
              "       'Corey', 'Odie', 'Brandonald', 'Boston', 'Lilli', 'Spencer',\n",
              "       'Luna', 'Emma', 'Kirby', 'Fido', 'Rocco', 'Atlas', 'Theo', 'Rose',\n",
              "       'Wishes', 'Bonaparte', 'Sephie', 'Shelby', 'Glenn', 'Leela',\n",
              "       'Belle', 'Kota', 'Aubie', 'Gromit', 'my', 'Tove', 'Brat', 'Angel',\n",
              "       'Juno', 'Shadoe', 'Brudge', 'Rupert', 'Philbert', 'Tito', 'Chevy',\n",
              "       'Jesse', 'DonDon', 'Titan', 'Klein', 'Carbon', 'Al', 'Dixie',\n",
              "       'Fizz', 'Davey', 'Willem', 'Grey', 'Bungalo', 'Chelsea',\n",
              "       'Shakespeare', 'Loki', 'Heinrich', 'Sprinkles', 'Finley', 'Anakin',\n",
              "       'Blue', 'Sampson', 'O', 'Huck', 'Jeffrey', 'Wesley', 'Strider',\n",
              "       'Mya', 'Jay', 'Hercules', 'Timmy', 'Deacon', 'Cali', 'Godi',\n",
              "       'Loomis', 'Mairi', 'Stormy', 'Hero', 'Doc', 'Dallas', 'Pinot',\n",
              "       'Mattie', 'Rizzo', 'Dale', 'Logan', 'Tonks', 'Butter', 'Stella',\n",
              "       'Rizzy', 'Brownie', 'Eli', 'Happy', 'Mosby', 'Betty', 'Mabel',\n",
              "       'Levi', 'Remus', 'BeBe', 'Monster', 'Robin', 'Nida', 'Newt',\n",
              "       'Maude', 'Moreton', 'Fiona', 'Dobby', 'Laika', 'Nimbus', 'Mack',\n",
              "       'Yogi', 'Snicku', 'Romeo', 'Tyr', 'Pancake', 'Iroh', 'Longfellow',\n",
              "       'Sobe', 'Chef', 'Mauve', 'Bones', 'Ronnie', 'Severus', 'Sonny',\n",
              "       'Diogi', 'Shooter', 'Zeke', 'Major', 'incredibly', 'Waffles',\n",
              "       'Stephan', 'Ito', 'Kyro', 'Pavlov', 'Craig', 'Augie', 'Halo',\n",
              "       'Ted', 'Mary', 'Brandi', 'Swagger', 'Bauer', 'Baron', 'Layla',\n",
              "       'Eleanor', 'Sky', 'Chubbs', 'Oshie', 'Alf', 'Akumi', 'Comet',\n",
              "       'Dudley', 'Binky', 'Timber', 'Chloe', 'Tebow', 'Strudel', 'Ken',\n",
              "       'Eugene', 'Dido', 'Autumn', 'Florence', 'Tom', 'Wafer', 'Anna',\n",
              "       'Jazzy', 'Howie', 'Flash', 'Sundance', 'Harlso', 'Duchess',\n",
              "       'Paisley', 'Hobbes', 'Albus', 'Crawford', 'Cash', 'Pablo', 'Sweet',\n",
              "       'Mo', 'Ike', 'Pilot', 'Pawnd', 'Cupid', 'Ralphie', 'Boots', 'Kona',\n",
              "       'Brutus', 'Sailer', 'Alexander', 'Beebop', 'Doobert', 'Mutt',\n",
              "       'Astrid', 'Lilly', 'Pete', 'Dutch', 'Kuyu', 'Emanuel', 'Miguel',\n",
              "       'Smiley', 'Eevee', 'Orion', 'Willow', 'Rhino', 'Gidget', 'Poppy',\n",
              "       'Bronte', 'Lipton', 'Sunshine', 'Tobi', 'Meera', 'Mookie', 'Arlo',\n",
              "       'Sojourner', 'Monty', 'Maddie', 'Dawn', 'Tycho', 'Margo', 'Brady',\n",
              "       'Mimosa', 'Jarvis', 'Vixen', 'Barney', 'Tuck', 'Furzey', 'Cannon',\n",
              "       'Rontu', 'Georgie', 'Odin', 'Kevin', 'Noosh', 'Boomer', 'Snoop',\n",
              "       'Iggy', 'Sailor', 'General', 'Wiggles', 'Jarod', 'Benny',\n",
              "       'Rumpole', 'Einstein', 'Arya', 'Marlee', 'Cermet', 'Callie',\n",
              "       'Thor', 'Milky', 'Jordy', 'Burt', 'Jersey', 'Zooey', 'Quinn',\n",
              "       'Meatball', 'Nelly', 'Jamesy', 'Lili', 'Shikha', 'Dewey',\n",
              "       'Clifford', 'Rumble', 'Napolean', 'Rover', 'Lassie', 'Kody',\n",
              "       'Harry', 'Monkey', 'Sierra', 'Jed', 'Nugget', 'Goose', 'Venti',\n",
              "       'Ginger', 'Dante', 'Aja', 'Emmy', 'Snoopy', 'Duddles', 'Rey',\n",
              "       'Koko', 'Alfy', 'Grizzwald', 'Noah', 'Maisey', 'Jimbo', 'Roscoe',\n",
              "       'Mingus', 'Maya', 'Canela', 'such', 'Ralphus', 'Jim', 'Stuart',\n",
              "       'Bruno', 'Darla', 'Tilly'], dtype=object)"
            ]
          },
          "metadata": {
            "tags": []
          },
          "execution_count": 32
        }
      ]
    },
    {
      "cell_type": "markdown",
      "metadata": {
        "id": "0OXZUhtI_dJ0",
        "colab_type": "text"
      },
      "source": [
        "Inference:\n",
        "* It shows the names of the dogs\n",
        "\n",
        "* The datatype of this column is appropriate\n",
        "\n",
        "* However, it contains names like 'a' , 'an' , 'the' , 'my', 'quite' , 'by', 'all', 'just', 'his' which are erroneous\n",
        "* It shoul be noted that all the names which are inaccrate start with small alphabets while all the names which are correct start with capital letters\n",
        "*Thus all values which do not start with capital letters shold be dropped."
      ]
    },
    {
      "cell_type": "markdown",
      "metadata": {
        "id": "fJZ8A3JgBYvR",
        "colab_type": "text"
      },
      "source": [
        "*Variable 'doggo'*"
      ]
    },
    {
      "cell_type": "code",
      "metadata": {
        "id": "xPB55bbnBosN",
        "colab_type": "code",
        "outputId": "151ce675-41d6-459e-da2b-af07755dd60e",
        "colab": {
          "base_uri": "https://localhost:8080/",
          "height": 34
        }
      },
      "source": [
        "df.doggo.unique()"
      ],
      "execution_count": 0,
      "outputs": [
        {
          "output_type": "execute_result",
          "data": {
            "text/plain": [
              "array(['None', 'doggo'], dtype=object)"
            ]
          },
          "metadata": {
            "tags": []
          },
          "execution_count": 33
        }
      ]
    },
    {
      "cell_type": "markdown",
      "metadata": {
        "id": "QppWRJQOBtPB",
        "colab_type": "text"
      },
      "source": [
        "Inference:\n",
        "* It shows the lifecycle stage in which the dog is\n",
        "\n",
        "* The datatype of this column is appropriate"
      ]
    },
    {
      "cell_type": "markdown",
      "metadata": {
        "id": "6zjUQO6rCBWY",
        "colab_type": "text"
      },
      "source": [
        "*Variable 'floofer'*"
      ]
    },
    {
      "cell_type": "code",
      "metadata": {
        "id": "M4yH0QsyCB3G",
        "colab_type": "code",
        "outputId": "1e89aa31-5bd6-4732-8bf8-3f0cb3636c8a",
        "colab": {
          "base_uri": "https://localhost:8080/",
          "height": 34
        }
      },
      "source": [
        "df.floofer.unique()"
      ],
      "execution_count": 0,
      "outputs": [
        {
          "output_type": "execute_result",
          "data": {
            "text/plain": [
              "array(['None', 'floofer'], dtype=object)"
            ]
          },
          "metadata": {
            "tags": []
          },
          "execution_count": 34
        }
      ]
    },
    {
      "cell_type": "markdown",
      "metadata": {
        "id": "jPb3oD0fCCUc",
        "colab_type": "text"
      },
      "source": [
        "Inference:\n",
        "* It shows the lifecycle stage in which the dog is\n",
        "\n",
        "* The datatype of this column is appropriate"
      ]
    },
    {
      "cell_type": "markdown",
      "metadata": {
        "id": "MAbA51O0CGnv",
        "colab_type": "text"
      },
      "source": [
        "*Variable 'pupper'*"
      ]
    },
    {
      "cell_type": "code",
      "metadata": {
        "id": "bNWyIe0cCHS9",
        "colab_type": "code",
        "outputId": "a1d358c8-3ceb-4ab8-b28a-37374fa2b3e4",
        "colab": {
          "base_uri": "https://localhost:8080/",
          "height": 34
        }
      },
      "source": [
        "df.pupper.unique()"
      ],
      "execution_count": 0,
      "outputs": [
        {
          "output_type": "execute_result",
          "data": {
            "text/plain": [
              "array(['None', 'pupper'], dtype=object)"
            ]
          },
          "metadata": {
            "tags": []
          },
          "execution_count": 35
        }
      ]
    },
    {
      "cell_type": "markdown",
      "metadata": {
        "id": "ZEAnps4cCH2u",
        "colab_type": "text"
      },
      "source": [
        "Inference:\n",
        "* It shows the lifecycle stage in which the dog is\n",
        "\n",
        "* The datatype of this column is appropriate"
      ]
    },
    {
      "cell_type": "markdown",
      "metadata": {
        "id": "zwgjNg2DCKD2",
        "colab_type": "text"
      },
      "source": [
        "*Variable 'puppo'*"
      ]
    },
    {
      "cell_type": "code",
      "metadata": {
        "id": "QosUzdAhCKfm",
        "colab_type": "code",
        "outputId": "30ac9588-49f5-4b93-8054-25f6e7b129ae",
        "colab": {
          "base_uri": "https://localhost:8080/",
          "height": 34
        }
      },
      "source": [
        "df.puppo.unique()"
      ],
      "execution_count": 0,
      "outputs": [
        {
          "output_type": "execute_result",
          "data": {
            "text/plain": [
              "array(['None', 'puppo'], dtype=object)"
            ]
          },
          "metadata": {
            "tags": []
          },
          "execution_count": 36
        }
      ]
    },
    {
      "cell_type": "markdown",
      "metadata": {
        "id": "xpskcErkCLAQ",
        "colab_type": "text"
      },
      "source": [
        "Inference:\n",
        "* It shows the lifecycle stage in which the dog is\n",
        "\n",
        "* The datatype of this column is appropriate"
      ]
    },
    {
      "cell_type": "markdown",
      "metadata": {
        "id": "69bZUur6CNUO",
        "colab_type": "text"
      },
      "source": [
        "Inference:\n",
        "* Since all 4 columns, doggo, floofer, pupper, puppo represent the same thing, the lifecycle of the dog, they can be combined into a single column, namely, 'Life_Cycle'"
      ]
    },
    {
      "cell_type": "markdown",
      "metadata": {
        "id": "I3Il5IAIDiMS",
        "colab_type": "text"
      },
      "source": [
        "*Variable 'retweet_count'*"
      ]
    },
    {
      "cell_type": "code",
      "metadata": {
        "id": "ho9iozSoDjXN",
        "colab_type": "code",
        "outputId": "cbe36235-3ead-4306-eb73-ad4de0b83a4d",
        "colab": {
          "base_uri": "https://localhost:8080/",
          "height": 221
        }
      },
      "source": [
        "df.retweet_count.unique"
      ],
      "execution_count": 0,
      "outputs": [
        {
          "output_type": "execute_result",
          "data": {
            "text/plain": [
              "<bound method Series.unique of 0        532\n",
              "1         48\n",
              "2         47\n",
              "3        147\n",
              "4         41\n",
              "        ... \n",
              "2068    9774\n",
              "2069    8964\n",
              "2070    4328\n",
              "2071    6514\n",
              "2072    8853\n",
              "Name: retweet_count, Length: 2073, dtype: int64>"
            ]
          },
          "metadata": {
            "tags": []
          },
          "execution_count": 37
        }
      ]
    },
    {
      "cell_type": "markdown",
      "metadata": {
        "id": "UwICTt3NDj2o",
        "colab_type": "text"
      },
      "source": [
        "Inference:\n",
        "* It shows the number of times the tweet has been retweeted\n",
        "\n",
        "* The datatype of this column is appropriate, integer"
      ]
    },
    {
      "cell_type": "markdown",
      "metadata": {
        "id": "hk7qyLV7Dr7p",
        "colab_type": "text"
      },
      "source": [
        "Variable 'favorite_count'"
      ]
    },
    {
      "cell_type": "code",
      "metadata": {
        "id": "XRz5hAoGDtwR",
        "colab_type": "code",
        "outputId": "c317156d-315c-4a50-f43f-3ebc679704db",
        "colab": {
          "base_uri": "https://localhost:8080/",
          "height": 221
        }
      },
      "source": [
        "df.favorite_count.unique"
      ],
      "execution_count": 0,
      "outputs": [
        {
          "output_type": "execute_result",
          "data": {
            "text/plain": [
              "<bound method Series.unique of 0        2535\n",
              "1         132\n",
              "2         128\n",
              "3         311\n",
              "4         111\n",
              "        ...  \n",
              "2068    41048\n",
              "2069    42908\n",
              "2070    25461\n",
              "2071    33819\n",
              "2072    39467\n",
              "Name: favorite_count, Length: 2073, dtype: int64>"
            ]
          },
          "metadata": {
            "tags": []
          },
          "execution_count": 38
        }
      ]
    },
    {
      "cell_type": "markdown",
      "metadata": {
        "id": "QLJGm7czDuLO",
        "colab_type": "text"
      },
      "source": [
        "Inference:\n",
        "* It shows the number of times the tweet has been favourited\n",
        "\n",
        "* The datatype of this column is appropriate, integer"
      ]
    },
    {
      "cell_type": "markdown",
      "metadata": {
        "id": "NrUbyjMPmPGW",
        "colab_type": "text"
      },
      "source": [
        "#Cleaning the dataset"
      ]
    },
    {
      "cell_type": "code",
      "metadata": {
        "id": "fjY4Fo3BxUqz",
        "colab_type": "code",
        "outputId": "955b310e-8758-447d-f785-bd8a195937ea",
        "colab": {
          "base_uri": "https://localhost:8080/",
          "height": 153
        }
      },
      "source": [
        "df.columns"
      ],
      "execution_count": 0,
      "outputs": [
        {
          "output_type": "execute_result",
          "data": {
            "text/plain": [
              "Index(['tweet_id', 'jpg_url', 'img_num', 'p1', 'p1_conf', 'p1_dog', 'p2',\n",
              "       'p2_conf', 'p2_dog', 'p3', 'p3_conf', 'p3_dog', 'in_reply_to_status_id',\n",
              "       'in_reply_to_user_id', 'timestamp', 'source', 'text',\n",
              "       'retweeted_status_id', 'retweeted_status_user_id',\n",
              "       'retweeted_status_timestamp', 'expanded_urls', 'rating_numerator',\n",
              "       'rating_denominator', 'name', 'doggo', 'floofer', 'pupper', 'puppo',\n",
              "       'retweet_count', 'favorite_count'],\n",
              "      dtype='object')"
            ]
          },
          "metadata": {
            "tags": []
          },
          "execution_count": 39
        }
      ]
    },
    {
      "cell_type": "markdown",
      "metadata": {
        "id": "1RrvI47kF1gW",
        "colab_type": "text"
      },
      "source": [
        "**2) Renaming the column names by displaying their full forms and capitalizing them for better understanding** (Quality Issue)"
      ]
    },
    {
      "cell_type": "code",
      "metadata": {
        "id": "IDTRu47HF8Je",
        "colab_type": "code",
        "outputId": "793c84ec-f642-4caf-f8bd-4b40489a7e71",
        "colab": {
          "base_uri": "https://localhost:8080/",
          "height": 204
        }
      },
      "source": [
        "df = df.rename(columns={\"tweet_id\":\"Tweet_Id\", \"jpg_url\":\"Jpg_Url\" ,\"img_num\":\"Image_Number\", \"p1\":\"First_Prediction\", \"p1_conf\":\"Confidence_of_First_Prediction\", \"p1_dog\":\"Result_of_First_Prediction\",\"p2\":\"Second_Prediction\", \"p2_conf\":\"Confidence_of_Second_Prediction\", \"p2_dog\":\"Result_of_Second_Prediction\",\"p3\":\"Third_Prediction\", \"p3_conf\":\"Confidence_of_Third_Prediction\", \"p3_dog\":\"Result_of_Third_Prediction\", \"in_reply_to_status_id\":\"Status_Id_of_Reply\", \"in_reply_to_user_id\":\"User_Id_of_Reply\", \"timestamp\":\"Timestamp\", \"source\":\"Source\", \"text\":\"Text\", \"expanded_urls\":\"Urls\", \"rating_numerator\":\"Rating\", \"rating_denominator\":\"Rating_Denominator\", \"name\":\"Name\",\"retweet_count\":\"Number_of_Retweets\", \"favorite_count\":\"Number_of_favourites\" })\n",
        "df.columns"
      ],
      "execution_count": 0,
      "outputs": [
        {
          "output_type": "execute_result",
          "data": {
            "text/plain": [
              "Index(['Tweet_Id', 'Jpg_Url', 'Image_Number', 'First_Prediction',\n",
              "       'Confidence_of_First_Prediction', 'Result_of_First_Prediction',\n",
              "       'Second_Prediction', 'Confidence_of_Second_Prediction',\n",
              "       'Result_of_Second_Prediction', 'Third_Prediction',\n",
              "       'Confidence_of_Third_Prediction', 'Result_of_Third_Prediction',\n",
              "       'Status_Id_of_Reply', 'User_Id_of_Reply', 'Timestamp', 'Source', 'Text',\n",
              "       'retweeted_status_id', 'retweeted_status_user_id',\n",
              "       'retweeted_status_timestamp', 'Urls', 'Rating', 'Rating_Denominator',\n",
              "       'Name', 'doggo', 'floofer', 'pupper', 'puppo', 'Number_of_Retweets',\n",
              "       'Number_of_favourites'],\n",
              "      dtype='object')"
            ]
          },
          "metadata": {
            "tags": []
          },
          "execution_count": 40
        }
      ]
    },
    {
      "cell_type": "markdown",
      "metadata": {
        "id": "4n9oHsHrRbA0",
        "colab_type": "text"
      },
      "source": [
        "**3) Removing rows which do not contain breeds of dogs from First_Prediction column** (Quality Issue)"
      ]
    },
    {
      "cell_type": "markdown",
      "metadata": {
        "id": "g_EW3xkTScJy",
        "colab_type": "text"
      },
      "source": [
        "Reading dataset which has all breeds of dogs"
      ]
    },
    {
      "cell_type": "code",
      "metadata": {
        "id": "GcOpRrFzR03W",
        "colab_type": "code",
        "outputId": "fa81fb95-8cb3-4545-d482-4ac42a439ef9",
        "colab": {
          "base_uri": "https://localhost:8080/",
          "height": 204
        }
      },
      "source": [
        "breed= pd.read_csv(\"breeds.csv\")\n",
        "breed.head()"
      ],
      "execution_count": 0,
      "outputs": [
        {
          "output_type": "execute_result",
          "data": {
            "text/html": [
              "<div>\n",
              "<style scoped>\n",
              "    .dataframe tbody tr th:only-of-type {\n",
              "        vertical-align: middle;\n",
              "    }\n",
              "\n",
              "    .dataframe tbody tr th {\n",
              "        vertical-align: top;\n",
              "    }\n",
              "\n",
              "    .dataframe thead th {\n",
              "        text-align: right;\n",
              "    }\n",
              "</style>\n",
              "<table border=\"1\" class=\"dataframe\">\n",
              "  <thead>\n",
              "    <tr style=\"text-align: right;\">\n",
              "      <th></th>\n",
              "      <th>id</th>\n",
              "      <th>breed</th>\n",
              "    </tr>\n",
              "  </thead>\n",
              "  <tbody>\n",
              "    <tr>\n",
              "      <th>0</th>\n",
              "      <td>0</td>\n",
              "      <td>affenpinscher</td>\n",
              "    </tr>\n",
              "    <tr>\n",
              "      <th>1</th>\n",
              "      <td>1</td>\n",
              "      <td>afghan_hound</td>\n",
              "    </tr>\n",
              "    <tr>\n",
              "      <th>2</th>\n",
              "      <td>2</td>\n",
              "      <td>african_hunting_dog</td>\n",
              "    </tr>\n",
              "    <tr>\n",
              "      <th>3</th>\n",
              "      <td>3</td>\n",
              "      <td>airedale</td>\n",
              "    </tr>\n",
              "    <tr>\n",
              "      <th>4</th>\n",
              "      <td>4</td>\n",
              "      <td>american_staffordshire_terrier</td>\n",
              "    </tr>\n",
              "  </tbody>\n",
              "</table>\n",
              "</div>"
            ],
            "text/plain": [
              "   id                           breed\n",
              "0   0                   affenpinscher\n",
              "1   1                    afghan_hound\n",
              "2   2             african_hunting_dog\n",
              "3   3                        airedale\n",
              "4   4  american_staffordshire_terrier"
            ]
          },
          "metadata": {
            "tags": []
          },
          "execution_count": 41
        }
      ]
    },
    {
      "cell_type": "code",
      "metadata": {
        "id": "pp0EZP-8SKXb",
        "colab_type": "code",
        "outputId": "9b66836f-b978-40d4-db69-2aa083b1a76c",
        "colab": {
          "base_uri": "https://localhost:8080/",
          "height": 1000
        }
      },
      "source": [
        "arr=list(breed['breed'])\n",
        "arr"
      ],
      "execution_count": 0,
      "outputs": [
        {
          "output_type": "execute_result",
          "data": {
            "text/plain": [
              "['affenpinscher',\n",
              " 'afghan_hound',\n",
              " 'african_hunting_dog',\n",
              " 'airedale',\n",
              " 'american_staffordshire_terrier',\n",
              " 'appenzeller',\n",
              " 'australian_terrier',\n",
              " 'basenji',\n",
              " 'basset',\n",
              " 'beagle',\n",
              " 'bedlington_terrier',\n",
              " 'bernese_mountain_dog',\n",
              " 'black-and-tan_coonhound',\n",
              " 'blenheim_spaniel',\n",
              " 'bloodhound',\n",
              " 'bluetick',\n",
              " 'border_collie',\n",
              " 'border_terrier',\n",
              " 'borzoi',\n",
              " 'boston_bull',\n",
              " 'bouvier_des_flandres',\n",
              " 'boxer',\n",
              " 'brabancon_griffon',\n",
              " 'briard',\n",
              " 'brittany_spaniel',\n",
              " 'bull_mastiff',\n",
              " 'cairn',\n",
              " 'cardigan',\n",
              " 'chesapeake_bay_retriever',\n",
              " 'chihuahua',\n",
              " 'chow',\n",
              " 'clumber',\n",
              " 'cocker_spaniel',\n",
              " 'collie',\n",
              " 'curly-coated_retriever',\n",
              " 'dandie_dinmont',\n",
              " 'dhole',\n",
              " 'dingo',\n",
              " 'doberman',\n",
              " 'english_foxhound',\n",
              " 'english_setter',\n",
              " 'english_springer',\n",
              " 'entlebucher',\n",
              " 'eskimo_dog',\n",
              " 'flat-coated_retriever',\n",
              " 'french_bulldog',\n",
              " 'german_shepherd',\n",
              " 'german_short-haired_pointer',\n",
              " 'giant_schnauzer',\n",
              " 'golden_retriever',\n",
              " 'gordon_setter',\n",
              " 'great_dane',\n",
              " 'great_pyrenees',\n",
              " 'greater_swiss_mountain_dog',\n",
              " 'groenendael',\n",
              " 'ibizan_hound',\n",
              " 'irish_setter',\n",
              " 'irish_terrier',\n",
              " 'irish_water_spaniel',\n",
              " 'irish_wolfhound',\n",
              " 'italian_greyhound',\n",
              " 'japanese_spaniel',\n",
              " 'keeshond',\n",
              " 'kelpie',\n",
              " 'kerry_blue_terrier',\n",
              " 'komondor',\n",
              " 'kuvasz',\n",
              " 'labrador_retriever',\n",
              " 'lakeland_terrier',\n",
              " 'leonberg',\n",
              " 'lhasa',\n",
              " 'malamute',\n",
              " 'malinois',\n",
              " 'maltese_dog',\n",
              " 'mexican_hairless',\n",
              " 'miniature_pinscher',\n",
              " 'miniature_poodle',\n",
              " 'miniature_schnauzer',\n",
              " 'newfoundland',\n",
              " 'norfolk_terrier',\n",
              " 'norwegian_elkhound',\n",
              " 'norwich_terrier',\n",
              " 'old_english_sheepdog',\n",
              " 'otterhound',\n",
              " 'papillon',\n",
              " 'pekinese',\n",
              " 'pembroke',\n",
              " 'pomeranian',\n",
              " 'pug',\n",
              " 'redbone',\n",
              " 'rhodesian_ridgeback',\n",
              " 'rottweiler',\n",
              " 'saint_bernard',\n",
              " 'saluki',\n",
              " 'samoyed',\n",
              " 'schipperke',\n",
              " 'scotch_terrier',\n",
              " 'scottish_deerhound',\n",
              " 'sealyham_terrier',\n",
              " 'shetland_sheepdog',\n",
              " 'shih-tzu',\n",
              " 'siberian_husky',\n",
              " 'silky_terrier',\n",
              " 'soft-coated_wheaten_terrier',\n",
              " 'staffordshire_bullterrier',\n",
              " 'standard_poodle',\n",
              " 'standard_schnauzer',\n",
              " 'sussex_spaniel',\n",
              " 'tibetan_mastiff',\n",
              " 'tibetan_terrier',\n",
              " 'toy_poodle',\n",
              " 'toy_terrier',\n",
              " 'vizsla',\n",
              " 'walker_hound',\n",
              " 'weimaraner',\n",
              " 'welsh_springer_spaniel',\n",
              " 'west_highland_white_terrier',\n",
              " 'whippet',\n",
              " 'wire-haired_fox_terrier',\n",
              " 'yorkshire_terrier']"
            ]
          },
          "metadata": {
            "tags": []
          },
          "execution_count": 42
        }
      ]
    },
    {
      "cell_type": "code",
      "metadata": {
        "id": "lTux4BD5SkZ5",
        "colab_type": "code",
        "colab": {}
      },
      "source": [
        "df['First_Prediction'] = df['First_Prediction'].str.lower()\n",
        "df = df[df['First_Prediction'].isin(arr)]"
      ],
      "execution_count": 0,
      "outputs": []
    },
    {
      "cell_type": "code",
      "metadata": {
        "id": "ycuAt53qTKdR",
        "colab_type": "code",
        "outputId": "4f7b6b56-382d-43c2-e38f-b26b18eb09ab",
        "colab": {
          "base_uri": "https://localhost:8080/",
          "height": 578
        }
      },
      "source": [
        "df.First_Prediction.unique()"
      ],
      "execution_count": 0,
      "outputs": [
        {
          "output_type": "execute_result",
          "data": {
            "text/plain": [
              "array(['welsh_springer_spaniel', 'redbone', 'german_shepherd',\n",
              "       'rhodesian_ridgeback', 'miniature_pinscher',\n",
              "       'bernese_mountain_dog', 'chow', 'miniature_poodle',\n",
              "       'golden_retriever', 'gordon_setter', 'walker_hound', 'pug',\n",
              "       'bloodhound', 'lhasa', 'english_setter', 'italian_greyhound',\n",
              "       'maltese_dog', 'malamute', 'soft-coated_wheaten_terrier',\n",
              "       'chihuahua', 'black-and-tan_coonhound', 'toy_terrier',\n",
              "       'blenheim_spaniel', 'pembroke', 'chesapeake_bay_retriever',\n",
              "       'curly-coated_retriever', 'ibizan_hound', 'border_collie',\n",
              "       'labrador_retriever', 'miniature_schnauzer', 'airedale',\n",
              "       'west_highland_white_terrier', 'toy_poodle', 'giant_schnauzer',\n",
              "       'vizsla', 'rottweiler', 'siberian_husky', 'papillon',\n",
              "       'saint_bernard', 'tibetan_terrier', 'borzoi', 'beagle',\n",
              "       'yorkshire_terrier', 'pomeranian', 'kuvasz',\n",
              "       'flat-coated_retriever', 'norwegian_elkhound', 'standard_poodle',\n",
              "       'staffordshire_bullterrier', 'basenji', 'lakeland_terrier',\n",
              "       'american_staffordshire_terrier', 'shih-tzu', 'french_bulldog',\n",
              "       'pekinese', 'komondor', 'malinois', 'kelpie', 'brittany_spaniel',\n",
              "       'cocker_spaniel', 'basset', 'brabancon_griffon', 'eskimo_dog',\n",
              "       'german_short-haired_pointer', 'shetland_sheepdog',\n",
              "       'irish_terrier', 'cairn', 'english_springer', 'whippet',\n",
              "       'sussex_spaniel', 'dandie_dinmont', 'norwich_terrier', 'dhole',\n",
              "       'keeshond', 'norfolk_terrier', 'dingo', 'old_english_sheepdog',\n",
              "       'samoyed', 'african_hunting_dog', 'doberman', 'great_pyrenees',\n",
              "       'schipperke', 'newfoundland', 'bull_mastiff', 'collie', 'cardigan',\n",
              "       'greater_swiss_mountain_dog', 'boxer', 'scottish_deerhound',\n",
              "       'standard_schnauzer', 'irish_water_spaniel', 'boston_bull',\n",
              "       'japanese_spaniel', 'entlebucher', 'bluetick', 'irish_setter',\n",
              "       'leonberg', 'weimaraner', 'great_dane', 'tibetan_mastiff',\n",
              "       'scotch_terrier', 'mexican_hairless', 'groenendael',\n",
              "       'australian_terrier', 'briard', 'appenzeller', 'border_terrier',\n",
              "       'bedlington_terrier', 'wire-haired_fox_terrier', 'saluki',\n",
              "       'silky_terrier', 'afghan_hound', 'clumber'], dtype=object)"
            ]
          },
          "metadata": {
            "tags": []
          },
          "execution_count": 44
        }
      ]
    },
    {
      "cell_type": "markdown",
      "metadata": {
        "id": "odPPFWtPUNl5",
        "colab_type": "text"
      },
      "source": [
        "**4) Removing rows which aren't breeds of dogs from Second_Prediction** (Quality Issue)"
      ]
    },
    {
      "cell_type": "code",
      "metadata": {
        "id": "Mshytjk0UZIt",
        "colab_type": "code",
        "colab": {}
      },
      "source": [
        "df['Second_Prediction'] = df['Second_Prediction'].str.lower()\n",
        "df = df[df['Second_Prediction'].isin(arr)]"
      ],
      "execution_count": 0,
      "outputs": []
    },
    {
      "cell_type": "markdown",
      "metadata": {
        "id": "qozQOLkRUmYP",
        "colab_type": "text"
      },
      "source": [
        "**5) Removing rows which aren't breeds of dogs from Third_Prediction** (Quality Isssue)"
      ]
    },
    {
      "cell_type": "code",
      "metadata": {
        "id": "sthLx4H_U4kv",
        "colab_type": "code",
        "colab": {}
      },
      "source": [
        "df['Third_Prediction'] = df['Third_Prediction'].str.lower()\n",
        "df = df[df['Third_Prediction'].isin(arr)]"
      ],
      "execution_count": 0,
      "outputs": []
    },
    {
      "cell_type": "markdown",
      "metadata": {
        "id": "AKEuSVDUVXlj",
        "colab_type": "text"
      },
      "source": [
        "**6) Since only original tweets are required, filtering out tweets which are replies** (Quality Issue)"
      ]
    },
    {
      "cell_type": "code",
      "metadata": {
        "id": "Bf8M3MaJVhOi",
        "colab_type": "code",
        "colab": {}
      },
      "source": [
        "df=df[df['Status_Id_of_Reply'].isnull()]\n"
      ],
      "execution_count": 0,
      "outputs": []
    },
    {
      "cell_type": "markdown",
      "metadata": {
        "id": "Hh3ZvXA1Vp_F",
        "colab_type": "text"
      },
      "source": [
        "**7) Since original tweets are required, filtering out tweets which have numerical values since they imply that those tweets are replies** (Quality Issue)"
      ]
    },
    {
      "cell_type": "code",
      "metadata": {
        "id": "_H_xURCtV1ko",
        "colab_type": "code",
        "colab": {}
      },
      "source": [
        "df=df[df['User_Id_of_Reply'].isnull()]"
      ],
      "execution_count": 0,
      "outputs": []
    },
    {
      "cell_type": "markdown",
      "metadata": {
        "id": "mfD5g_29V_re",
        "colab_type": "text"
      },
      "source": [
        "**8) Since the columns indicating the status and user id of replies are null, dropping those coluns from dataset** (Tidiness Issue)"
      ]
    },
    {
      "cell_type": "code",
      "metadata": {
        "id": "8MUaBJ1NWIwn",
        "colab_type": "code",
        "colab": {}
      },
      "source": [
        "df = df.drop(['Status_Id_of_Reply', 'User_Id_of_Reply'], axis=1)"
      ],
      "execution_count": 0,
      "outputs": []
    },
    {
      "cell_type": "code",
      "metadata": {
        "id": "H2FJxESCswIY",
        "colab_type": "code",
        "outputId": "5115ab53-f3ce-475d-a8e5-558aec27dd78",
        "colab": {
          "base_uri": "https://localhost:8080/",
          "height": 187
        }
      },
      "source": [
        "df.columns"
      ],
      "execution_count": 0,
      "outputs": [
        {
          "output_type": "execute_result",
          "data": {
            "text/plain": [
              "Index(['Tweet_Id', 'Jpg_Url', 'Image_Number', 'First_Prediction',\n",
              "       'Confidence_of_First_Prediction', 'Result_of_First_Prediction',\n",
              "       'Second_Prediction', 'Confidence_of_Second_Prediction',\n",
              "       'Result_of_Second_Prediction', 'Third_Prediction',\n",
              "       'Confidence_of_Third_Prediction', 'Result_of_Third_Prediction',\n",
              "       'Timestamp', 'Source', 'Text', 'retweeted_status_id',\n",
              "       'retweeted_status_user_id', 'retweeted_status_timestamp', 'Urls',\n",
              "       'Rating', 'Rating_Denominator', 'Name', 'doggo', 'floofer', 'pupper',\n",
              "       'puppo', 'Number_of_Retweets', 'Number_of_favourites'],\n",
              "      dtype='object')"
            ]
          },
          "metadata": {
            "tags": []
          },
          "execution_count": 50
        }
      ]
    },
    {
      "cell_type": "markdown",
      "metadata": {
        "id": "opY8pFdPW4hv",
        "colab_type": "text"
      },
      "source": [
        "**9) Changing the datatype of the Timestamp column from oject to datetime** (Quality Issue)"
      ]
    },
    {
      "cell_type": "code",
      "metadata": {
        "id": "HnE0GIZeXDh0",
        "colab_type": "code",
        "colab": {}
      },
      "source": [
        "df['Timestamp'] = pd.to_datetime(df['Timestamp'])"
      ],
      "execution_count": 0,
      "outputs": []
    },
    {
      "cell_type": "code",
      "metadata": {
        "id": "6IN19aWyXmLV",
        "colab_type": "code",
        "outputId": "d2c0b2ab-6750-4cf8-8156-cb4f7e8099d6",
        "colab": {
          "base_uri": "https://localhost:8080/",
          "height": 510
        }
      },
      "source": [
        "df.dtypes"
      ],
      "execution_count": 0,
      "outputs": [
        {
          "output_type": "execute_result",
          "data": {
            "text/plain": [
              "Tweet_Id                                         int64\n",
              "Jpg_Url                                         object\n",
              "Image_Number                                     int64\n",
              "First_Prediction                                object\n",
              "Confidence_of_First_Prediction                 float64\n",
              "Result_of_First_Prediction                        bool\n",
              "Second_Prediction                               object\n",
              "Confidence_of_Second_Prediction                float64\n",
              "Result_of_Second_Prediction                       bool\n",
              "Third_Prediction                                object\n",
              "Confidence_of_Third_Prediction                 float64\n",
              "Result_of_Third_Prediction                        bool\n",
              "Timestamp                          datetime64[ns, UTC]\n",
              "Source                                          object\n",
              "Text                                            object\n",
              "retweeted_status_id                            float64\n",
              "retweeted_status_user_id                       float64\n",
              "retweeted_status_timestamp                      object\n",
              "Urls                                            object\n",
              "Rating                                           int64\n",
              "Rating_Denominator                               int64\n",
              "Name                                            object\n",
              "doggo                                           object\n",
              "floofer                                         object\n",
              "pupper                                          object\n",
              "puppo                                           object\n",
              "Number_of_Retweets                               int64\n",
              "Number_of_favourites                             int64\n",
              "dtype: object"
            ]
          },
          "metadata": {
            "tags": []
          },
          "execution_count": 52
        }
      ]
    },
    {
      "cell_type": "markdown",
      "metadata": {
        "id": "Yet-wFLbYFJf",
        "colab_type": "text"
      },
      "source": [
        "**10) According to rating syste of WeRateDogs, the numerator value is always above 10. So dropping rows with lesser values** (Quality Issue)"
      ]
    },
    {
      "cell_type": "code",
      "metadata": {
        "id": "IFPuEdlbYRl5",
        "colab_type": "code",
        "outputId": "927f8a05-0209-4663-c4b2-685d42c7ed0d",
        "colab": {
          "base_uri": "https://localhost:8080/",
          "height": 51
        }
      },
      "source": [
        "df = df[df['Rating'] >= 10]  \n",
        "df.Rating.unique()"
      ],
      "execution_count": 0,
      "outputs": [
        {
          "output_type": "execute_result",
          "data": {
            "text/plain": [
              "array([ 10,  11,  12,  13,  88,  26,  44,  60,  45,  80,  99,  50, 165,\n",
              "        14,  27,  24,  84])"
            ]
          },
          "metadata": {
            "tags": []
          },
          "execution_count": 53
        }
      ]
    },
    {
      "cell_type": "markdown",
      "metadata": {
        "id": "O40u8ZXHYm_p",
        "colab_type": "text"
      },
      "source": [
        "**11) Removing rows which have denominator other than 10** (Quality Issue)"
      ]
    },
    {
      "cell_type": "code",
      "metadata": {
        "id": "SLhwGtxGYxR2",
        "colab_type": "code",
        "outputId": "1b6fc9bf-3114-4a7b-98f7-16cc1cc94625",
        "colab": {
          "base_uri": "https://localhost:8080/",
          "height": 34
        }
      },
      "source": [
        "df = df[df['Rating_Denominator'] == 10]  \n",
        "df.Rating_Denominator.unique()"
      ],
      "execution_count": 0,
      "outputs": [
        {
          "output_type": "execute_result",
          "data": {
            "text/plain": [
              "array([10])"
            ]
          },
          "metadata": {
            "tags": []
          },
          "execution_count": 54
        }
      ]
    },
    {
      "cell_type": "markdown",
      "metadata": {
        "id": "DnnRJfZYZAhh",
        "colab_type": "text"
      },
      "source": [
        "**12) Since Rating_Denominator doesn't have any unique values, dropping that column from the dataset** (Tidiness Issue)"
      ]
    },
    {
      "cell_type": "code",
      "metadata": {
        "id": "ZMCI5RlIZNuH",
        "colab_type": "code",
        "colab": {}
      },
      "source": [
        "df = df.drop([\"Rating_Denominator\"], axis=1)"
      ],
      "execution_count": 0,
      "outputs": []
    },
    {
      "cell_type": "markdown",
      "metadata": {
        "id": "EyXjyD28fh0w",
        "colab_type": "text"
      },
      "source": [
        "**13) Since retweets are not required, filtering them out by deleting rows there retweet_status_id does not have value 0** (Quality Issue)"
      ]
    },
    {
      "cell_type": "code",
      "metadata": {
        "id": "kafFMb0Cyblf",
        "colab_type": "code",
        "colab": {}
      },
      "source": [
        "df=df[df['retweeted_status_id'].isnull()]\n"
      ],
      "execution_count": 0,
      "outputs": []
    },
    {
      "cell_type": "markdown",
      "metadata": {
        "id": "-rxMEBQ2f8Za",
        "colab_type": "text"
      },
      "source": [
        "**14) Removing rows where column 'retweeted_status_user_id' has non zero value implying that that particular row has a retweet** (Quality Issue)"
      ]
    },
    {
      "cell_type": "code",
      "metadata": {
        "id": "lQhP7Xvk8f1o",
        "colab_type": "code",
        "outputId": "62b22152-164a-4644-9ad9-828694de19ad",
        "colab": {
          "base_uri": "https://localhost:8080/",
          "height": 34
        }
      },
      "source": [
        "df.retweeted_status_user_id.value_counts()"
      ],
      "execution_count": 0,
      "outputs": [
        {
          "output_type": "execute_result",
          "data": {
            "text/plain": [
              "Series([], Name: retweeted_status_user_id, dtype: int64)"
            ]
          },
          "metadata": {
            "tags": []
          },
          "execution_count": 57
        }
      ]
    },
    {
      "cell_type": "markdown",
      "metadata": {
        "id": "-LL_AbK6gRbr",
        "colab_type": "text"
      },
      "source": [
        "**15) Removing rows where column 'retweeted_status_timestamp' has some value eaning that it is a retweet** (Quality Issue)"
      ]
    },
    {
      "cell_type": "code",
      "metadata": {
        "id": "KjQX29SR8wVX",
        "colab_type": "code",
        "outputId": "d7f9d6df-a708-4026-abb4-f65db64192a0",
        "colab": {
          "base_uri": "https://localhost:8080/",
          "height": 34
        }
      },
      "source": [
        "df.retweeted_status_timestamp.value_counts()"
      ],
      "execution_count": 0,
      "outputs": [
        {
          "output_type": "execute_result",
          "data": {
            "text/plain": [
              "Series([], Name: retweeted_status_timestamp, dtype: int64)"
            ]
          },
          "metadata": {
            "tags": []
          },
          "execution_count": 58
        }
      ]
    },
    {
      "cell_type": "markdown",
      "metadata": {
        "id": "IKSNt6nRggqH",
        "colab_type": "text"
      },
      "source": [
        "**16) After the cleaning steps above, all columns relating to retweets have null values, so dropping them out** (Tidiness Issue)"
      ]
    },
    {
      "cell_type": "code",
      "metadata": {
        "id": "DGLaH6mT9Wu-",
        "colab_type": "code",
        "outputId": "af0a9f16-239a-48d1-fc98-23149b515c38",
        "colab": {
          "base_uri": "https://localhost:8080/",
          "height": 170
        }
      },
      "source": [
        "df = df.drop(['retweeted_status_id', 'retweeted_status_user_id','retweeted_status_timestamp'], axis=1)\n",
        "df.columns"
      ],
      "execution_count": 0,
      "outputs": [
        {
          "output_type": "execute_result",
          "data": {
            "text/plain": [
              "Index(['Tweet_Id', 'Jpg_Url', 'Image_Number', 'First_Prediction',\n",
              "       'Confidence_of_First_Prediction', 'Result_of_First_Prediction',\n",
              "       'Second_Prediction', 'Confidence_of_Second_Prediction',\n",
              "       'Result_of_Second_Prediction', 'Third_Prediction',\n",
              "       'Confidence_of_Third_Prediction', 'Result_of_Third_Prediction',\n",
              "       'Timestamp', 'Source', 'Text', 'Urls', 'Rating', 'Name', 'doggo',\n",
              "       'floofer', 'pupper', 'puppo', 'Number_of_Retweets',\n",
              "       'Number_of_favourites'],\n",
              "      dtype='object')"
            ]
          },
          "metadata": {
            "tags": []
          },
          "execution_count": 59
        }
      ]
    },
    {
      "cell_type": "markdown",
      "metadata": {
        "id": "P3wINhO8Z4HY",
        "colab_type": "text"
      },
      "source": [
        "**17) Removing rows with inaccurate dog names** (Quality Issue)"
      ]
    },
    {
      "cell_type": "code",
      "metadata": {
        "id": "f-EjtAuyZ97O",
        "colab_type": "code",
        "colab": {}
      },
      "source": [
        "df['New_name'] = df.Name.str.capitalize()"
      ],
      "execution_count": 0,
      "outputs": []
    },
    {
      "cell_type": "code",
      "metadata": {
        "id": "c0dmqZSUw9Tg",
        "colab_type": "code",
        "outputId": "b0370c5b-9722-47d7-e9c8-0d588f596ead",
        "colab": {
          "base_uri": "https://localhost:8080/",
          "height": 34
        }
      },
      "source": [
        "df.shape"
      ],
      "execution_count": 0,
      "outputs": [
        {
          "output_type": "execute_result",
          "data": {
            "text/plain": [
              "(1009, 25)"
            ]
          },
          "metadata": {
            "tags": []
          },
          "execution_count": 61
        }
      ]
    },
    {
      "cell_type": "code",
      "metadata": {
        "id": "bBkrVtXJwikg",
        "colab_type": "code",
        "colab": {}
      },
      "source": [
        "df[['Name','New_name']].head()\n",
        "\n",
        "df=df[df['Name']==df['New_name']]"
      ],
      "execution_count": 0,
      "outputs": []
    },
    {
      "cell_type": "code",
      "metadata": {
        "id": "EyWXjop7rGHq",
        "colab_type": "code",
        "outputId": "67854a13-6246-4d0e-e087-40c4bf82ffab",
        "colab": {
          "base_uri": "https://localhost:8080/",
          "height": 34
        }
      },
      "source": [
        "df.drop(['New_name'], axis=1)\n",
        "df.shape"
      ],
      "execution_count": 0,
      "outputs": [
        {
          "output_type": "execute_result",
          "data": {
            "text/plain": [
              "(970, 25)"
            ]
          },
          "metadata": {
            "tags": []
          },
          "execution_count": 63
        }
      ]
    },
    {
      "cell_type": "code",
      "metadata": {
        "id": "IdfI1x0_sCe7",
        "colab_type": "code",
        "outputId": "1b13abbf-8fe7-4e3d-9272-5e9360a0e27f",
        "colab": {
          "base_uri": "https://localhost:8080/",
          "height": 1000
        }
      },
      "source": [
        "df.Name.unique()"
      ],
      "execution_count": 0,
      "outputs": [
        {
          "output_type": "execute_result",
          "data": {
            "text/plain": [
              "array(['None', 'Walter', 'Lugan', 'Keet', 'Dave', 'Gabe', 'Pipsy',\n",
              "       'Bradlay', 'Churlie', 'Kenneth', 'Timison', 'Joshwa', 'Cupcake',\n",
              "       'Hall', 'Naphaniel', 'Kial', 'Olive', 'Erik', 'Skittles', 'Sophie',\n",
              "       'Rusty', 'Gòrdón', 'Marvin', 'Winifred', 'Banditt', 'Bobb',\n",
              "       'Ruffles', 'Lambeau', 'Jeremy', 'Chaz', 'Terrance', 'Kirk',\n",
              "       'Saydee', 'Chip', 'Oliviér', 'Ronduh', 'Linda', 'Kloey', 'Andru',\n",
              "       'Julio', 'Raphael', 'Ben', 'Liam', 'Winston', 'Sandra', 'Butters',\n",
              "       'Daisy', 'Nigel', 'Scooter', 'Willy', 'Koda', 'Paull', 'Trigger',\n",
              "       'Mason', 'Andy', 'Maggie', 'Sage', 'Remington', 'Holly', 'Sparky',\n",
              "       'Lou', 'Penelope', 'Jax', 'Dylan', 'Bradley', 'Rolf', 'Franq',\n",
              "       'Jazz', 'Jackie', 'Taz', 'Terry', 'Gustaf', 'Chuckles', 'Schnozz',\n",
              "       'Dexter', 'Mac', 'Frankie', 'Albert', 'Kendall', 'Raymond',\n",
              "       'Riley', 'Aiden', 'Acro', 'Kaiya', 'Stanley', 'Mitch', 'Bobbay',\n",
              "       'Kenny', 'Jonah', 'Louis', 'Rufio', 'Tedders', 'Laela', 'Reggie',\n",
              "       'Sammy', 'Ellie', 'Lenny', 'Buddah', 'Bernie', 'Pepper', 'Striker',\n",
              "       'Duke', 'Cooper', 'Tassy', 'Reese', 'Rosie', 'Bella', 'Jerome',\n",
              "       'Dash', 'Wilson', 'Tug', 'Lola', 'Hurley', 'Rinna', 'Willie',\n",
              "       'Kawhi', 'Goliath', 'Hector', 'Griswold', 'Sadie', 'Aspen',\n",
              "       'Sarge', 'Glacier', 'Carly', 'Toffee', 'Bo', 'Jimothy', 'Ulysses',\n",
              "       'Joey', 'Lulu', 'Larry', 'Jack', 'Banjo', 'Griffin', 'Sebastian',\n",
              "       'Lupe', 'Kulet', 'Jeph', 'Theodore', 'Perry', 'Oreo', 'Gerbald',\n",
              "       'Hubertson', 'Petrick', 'Rocky', 'Lorelei', 'Flávio', 'Birf',\n",
              "       'Crimson', 'Horace', 'Olivia', 'Mona', 'Baxter', 'Tyrone',\n",
              "       'Kramer', 'Opal', 'Trooper', 'Kilo', 'Trip', 'Lucky', 'Herald',\n",
              "       'Carl', 'Luca', 'Fynn', 'Gizmo', 'Covach', 'Eriq', 'Peaches',\n",
              "       'Molly', 'Bailey', 'Leo', 'Amber', 'Chester', 'Tupawc', 'Wally',\n",
              "       'Dunkin', 'Kobe', 'Lorenzo', 'Colin', 'Bob', 'Charlie', 'Bentley',\n",
              "       'Cassie', 'Doug', 'Lily', 'Franklin', 'Maximus', 'Oliver',\n",
              "       'Calbert', 'Miley', 'Archie', 'Fillup', 'Nala', 'Coops', 'Dotsy',\n",
              "       'Vincent', 'Crouton', 'Millie', 'Coopson', 'Rilo', 'Rambo', 'Lucy',\n",
              "       'Bisquick', 'Terrenth', 'Max', 'Adele', 'Kara', 'Katie', 'Tucker',\n",
              "       'Finnegus', 'Clarkus', 'Harper', 'Jebberson', 'Bobble', 'Bear',\n",
              "       'Coco', 'Mister', 'Rodney', 'Walker', 'Karma', 'Cecil', 'Olaf',\n",
              "       'Watson', 'Gunner', 'Beemo', 'Sora', 'Staniel', 'Milo',\n",
              "       'Roosevelt', 'Sunny', 'Lance', 'Piper', 'Kanu', 'Travis', 'Curtis',\n",
              "       'Siba', 'Michelangelope', 'Nico', 'Oscar', 'Zeus', 'Toby',\n",
              "       'Bubbles', 'Stephanus', 'Link', 'Smokey', 'Suki', 'Carper',\n",
              "       'Pippa', 'Harnold', 'Ralphé', 'Berkeley', 'Panda', 'Schnitzel',\n",
              "       'Sugar', 'Kreggory', 'Fred', 'Lillie', 'Colby', 'Bloop', 'Blitz',\n",
              "       'Karll', 'Cilantro', 'Enchilada', 'Flurpson', 'Puff', 'Pupcasso',\n",
              "       'Ziva', 'Crystal', 'Rooney', 'Solomon', 'Aldrick', 'Moose',\n",
              "       'Livvie', 'Maxaroni', 'Chadrick', 'Remy', 'Axel', 'Rorie', 'Aqua',\n",
              "       'Phil', 'Bell', 'Kayla', 'Stark', 'Geno', 'Harvey', 'Indie', 'Gus',\n",
              "       'Arlen', 'Gustav', 'Shiloh', 'Bookstore', 'Huxley', 'Cora',\n",
              "       'Tripp', 'Divine', 'George', 'Finn', 'Beau', 'Jameson', 'Calvin',\n",
              "       'Meyer', 'Gilbert', 'Brody', 'Grizzie', 'Tayzie', 'Scout', 'Dex',\n",
              "       'Winnie', 'Gert', 'Brandonald', 'Boston', 'Emma', 'Kirby', 'Rocco',\n",
              "       'Atlas', 'Rose', 'Wishes', 'Bonaparte', 'Bruce', 'Sephie',\n",
              "       'Shelby', 'Buddy', 'Glenn', 'Leela', 'Kota', 'Aubie', 'Louie',\n",
              "       'Tove', 'Brat', 'Angel', 'Juno', 'Brudge', 'Rufus', 'Rupert',\n",
              "       'Chevy', 'Oakley', 'Jesse', 'Klein', 'Carbon', 'Jackson', 'Fizz',\n",
              "       'Davey', 'Penny', 'Willem', 'Grey', 'Chelsea', 'Shakespeare',\n",
              "       'Loki', 'Heinrich', 'Sprinkles', 'Finley', 'O', 'Derek', 'Strider',\n",
              "       'Mya', 'Jay', 'Hercules', 'Sampson', 'Timmy', 'Deacon', 'Earl',\n",
              "       'Godi', 'Loomis', 'Mairi', 'Stormy', 'Dallas', 'Mattie', 'Rizzo',\n",
              "       'Dale', 'Rory', 'Tonks', 'Frank', 'Stella', 'Rizzy', 'Brownie',\n",
              "       'Mosby', 'Misty', 'Mabel', 'Levi', 'Monster', 'Robin', 'Nida',\n",
              "       'Newt', 'Fiona', 'Dobby', 'Clark', 'Nimbus', 'Romeo', 'Tyr',\n",
              "       'Pancake', 'Shadow', 'Iroh', 'Jeffrey', 'Longfellow', 'Sobe',\n",
              "       'Doc', 'Chef', 'Mauve', 'Wallace', 'Ronnie', 'Marley', 'Diogi',\n",
              "       'Django', 'Shooter', 'Zeke', 'Major', 'Waffles', 'Lennon',\n",
              "       'Stephan', 'Ollie', 'Ito', 'Kyro', 'Pavlov', 'Hunter', 'Craig',\n",
              "       'Augie', 'Halo', 'Moe', 'Brandi', 'Swagger', 'Bauer', 'Baron',\n",
              "       'Sky', 'Gary', 'Chubbs', 'Oshie', 'Alf', 'Titan', 'Akumi', 'Comet',\n",
              "       'Dudley', 'Binky', 'Timber', 'Chloe', 'Tebow', 'Strudel', 'Eugene',\n",
              "       'Dido', 'Autumn', 'Florence', 'Anna', 'Jazzy', 'Flash', 'Sundance',\n",
              "       'Harlso', 'Duchess', 'Jimison', 'Paisley', 'Hobbes', 'Crawford',\n",
              "       'Cash', 'Pablo', 'Sweet', 'Pilot', 'Cupid', 'Ralphie', 'Boots',\n",
              "       'Kona', 'Brutus', 'Alexander', 'Beebop', 'Doobert', 'Astrid',\n",
              "       'Mia', 'Samson', 'Dutch', 'Kuyu', 'Miguel', 'Orion', 'Willow',\n",
              "       'Rhino', 'Poppy', 'Bronte', 'Tobi', 'Ash', 'Arlo', 'Odie',\n",
              "       'Sojourner', 'Monty', 'Maddie', 'Dawn', 'Tycho', 'Hank', 'Margo',\n",
              "       'Luna', 'Brady', 'Pickles', 'Mimosa', 'Jarvis', 'Vixen', 'Barney',\n",
              "       'Tuck', 'Furzey', 'Rontu', 'Odin', 'Boomer', 'Kyle', 'Jarod',\n",
              "       'Benny', 'Alice', 'Einstein', 'Arya', 'Marlee', 'Cermet', 'Thor',\n",
              "       'Zooey', 'Quinn', 'Belle', 'Neptune', 'Meatball', 'Nelly',\n",
              "       'Jamesy', 'Lili', 'Shikha', 'Harold', 'Dewey', 'Rumble', 'Zoey',\n",
              "       'Cody', 'Rover', 'Lassie', 'Harry', 'Monkey', 'Sierra', 'Jed',\n",
              "       'Nugget', 'Goose', 'Venti', 'Benedict', 'Ginger', 'Dante', 'Aja',\n",
              "       'Emmy', 'Snoopy', 'Duddles', 'Alfy', 'Grizzwald', 'Noah', 'Yogi',\n",
              "       'Kevin', 'Maisey', 'Jimbo', 'Roscoe', 'Mingus', 'Canela', 'Gerald',\n",
              "       'Ralphus', 'Jim', 'Stuart', 'Ted', 'Tilly'], dtype=object)"
            ]
          },
          "metadata": {
            "tags": []
          },
          "execution_count": 64
        }
      ]
    },
    {
      "cell_type": "markdown",
      "metadata": {
        "id": "k3zaVcy_hIzi",
        "colab_type": "text"
      },
      "source": [
        "**18) Replacing the 4 columns indicating the dog's lifecycle with 1 column** (Tidiness Issue)"
      ]
    },
    {
      "cell_type": "code",
      "metadata": {
        "id": "Ujb8G5x9PDJF",
        "colab_type": "code",
        "colab": {}
      },
      "source": [
        "import numpy as np\n",
        "test = df[['doggo','floofer','pupper', 'puppo'  ]].copy()\n",
        "test['doggo'].replace('None', np.nan, inplace=True)\n",
        "test['floofer'].replace('None', np.nan, inplace=True)\n",
        "test['pupper'].replace('None', np.nan, inplace=True)\n",
        "test['puppo'].replace('None', np.nan, inplace=True)\n"
      ],
      "execution_count": 0,
      "outputs": []
    },
    {
      "cell_type": "code",
      "metadata": {
        "id": "PWxi7FcNQiNr",
        "colab_type": "code",
        "colab": {}
      },
      "source": [
        "y=test.fillna('').sum(1).replace('', np.nan)\n",
        "df['Life_Cycle']= y\n",
        "df= df.drop(['doggo','floofer', 'pupper','puppo'], axis=1)\n"
      ],
      "execution_count": 0,
      "outputs": []
    },
    {
      "cell_type": "markdown",
      "metadata": {
        "id": "9ryYARrK4Het",
        "colab_type": "text"
      },
      "source": [
        "#Storing Data"
      ]
    },
    {
      "cell_type": "code",
      "metadata": {
        "id": "54BYDoC0hvqY",
        "colab_type": "code",
        "colab": {}
      },
      "source": [
        "df.to_csv(\"twitter_archive_master.csv\")"
      ],
      "execution_count": 0,
      "outputs": []
    },
    {
      "cell_type": "markdown",
      "metadata": {
        "id": "0bxH7DBb5a46",
        "colab_type": "text"
      },
      "source": [
        "#Analyzing, and Visualizing Data"
      ]
    },
    {
      "cell_type": "code",
      "metadata": {
        "id": "GMjTFR825mL4",
        "colab_type": "code",
        "outputId": "0a320079-fa22-478e-8b74-1511aa3a0a5b",
        "colab": {
          "base_uri": "https://localhost:8080/",
          "height": 1000
        }
      },
      "source": [
        "\n",
        "graph=df.select_dtypes([\"int64\",\"float64\"])\n",
        "graph.hist(figsize=(16,14))"
      ],
      "execution_count": 0,
      "outputs": [
        {
          "output_type": "execute_result",
          "data": {
            "text/plain": [
              "array([[<matplotlib.axes._subplots.AxesSubplot object at 0x7f064e452630>,\n",
              "        <matplotlib.axes._subplots.AxesSubplot object at 0x7f064dcdfa90>,\n",
              "        <matplotlib.axes._subplots.AxesSubplot object at 0x7f064db667b8>],\n",
              "       [<matplotlib.axes._subplots.AxesSubplot object at 0x7f064d9d42e8>,\n",
              "        <matplotlib.axes._subplots.AxesSubplot object at 0x7f064d8c99b0>,\n",
              "        <matplotlib.axes._subplots.AxesSubplot object at 0x7f064d6ec1d0>],\n",
              "       [<matplotlib.axes._subplots.AxesSubplot object at 0x7f064d5cdd68>,\n",
              "        <matplotlib.axes._subplots.AxesSubplot object at 0x7f064d428160>,\n",
              "        <matplotlib.axes._subplots.AxesSubplot object at 0x7f064d428240>]],\n",
              "      dtype=object)"
            ]
          },
          "metadata": {
            "tags": []
          },
          "execution_count": 68
        },
        {
          "output_type": "display_data",
          "data": {
            "image/png": "[encoded data removed]",
            "text/plain": [
              "<Figure size 1152x1008 with 9 Axes>"
            ]
          },
          "metadata": {
            "tags": []
          }
        }
      ]
    },
    {
      "cell_type": "markdown",
      "metadata": {
        "id": "KuOoKj267SqD",
        "colab_type": "text"
      },
      "source": [
        "Inference:\n",
        "* The confidence of First Prediction is the highest and has maximum number of values having a confidence of 0.1, that is 100% confidence\n",
        "* Very few values in confidence of First Prediction have values which are on the lesser side, that is, 0\n",
        "* Values are alost equally distributed between 0.3 and 0.9 confidence in the confidence of First Prediction\n",
        "* Maximum number have a confidence of 0, that is 0% in the confidence of the second prediction\n",
        "* In the confidence of the second prediction,, as the confidence keeps on increasing, the number of tweets having that confidence keeps on decreasing\n",
        "* Least number of tweets have a maximum confidence of 0.45 that is 45% in the confidence of second prediction\n",
        "* The confidence of Third Prediction is the lowest as compared to the confidence of the first and the second prediction\n",
        "* The confidence of the Third prediction has maximum confidence of 0.22 i.e. 22% with most number of values having 0 confidence\n",
        "* Very few values having a confidence of 0.22 in the confidence of the third prediction\n",
        "* Most number of tweets have retweets between 0-1000\n",
        "* Very less number of tweets have tweets more than 1000\n",
        "* Maximum retweets received are 5000 retweets\n",
        "* A very high number of tweets are favourited upto 1500 times\n",
        "* Number of tweets favourited above 1500 goes on decreasing\n",
        "* Maximum number of times a tweet is favoutited is 12000\n",
        "* Most of the tweets have a rating of 10-12.5\n",
        "* Very few tweets have a rating above 12.5\n",
        "* The maximum rating received by a tweet on a scale of 10 is 27.5\n",
        "* For most number of tweets, the image number that corresponded to the most confident prediction is image number 1\n",
        "* After image number 1, image number that corresponded to the most confident prediction is image number 2\n",
        "* After image number 2, the image number that corresponded to the most confident prediction is image number 3\n",
        "* The number of tweets for which image number 4 corresponds to the most confident predicition is the least\n"
      ]
    },
    {
      "cell_type": "code",
      "metadata": {
        "id": "yKSaoCwFCrR4",
        "colab_type": "code",
        "outputId": "285698ba-807e-41a3-d1c7-d7e65b5a710b",
        "colab": {
          "base_uri": "https://localhost:8080/",
          "height": 341
        }
      },
      "source": [
        "import seaborn as sns\n",
        "corr_new=df[['Number_of_favourites','Number_of_Retweets']].corr()\n",
        "sns.heatmap(corr_new,annot=True)\n"
      ],
      "execution_count": 0,
      "outputs": [
        {
          "output_type": "stream",
          "text": [
            "/usr/local/lib/python3.6/dist-packages/statsmodels/tools/_testing.py:19: FutureWarning: pandas.util.testing is deprecated. Use the functions in the public API at pandas.testing instead.\n",
            "  import pandas.util.testing as tm\n"
          ],
          "name": "stderr"
        },
        {
          "output_type": "execute_result",
          "data": {
            "text/plain": [
              "<matplotlib.axes._subplots.AxesSubplot at 0x7f06408355c0>"
            ]
          },
          "metadata": {
            "tags": []
          },
          "execution_count": 69
        },
        {
          "output_type": "display_data",
          "data": {
            "image/png": "[encoded data removed]",
            "text/plain": [
              "<Figure size 432x288 with 2 Axes>"
            ]
          },
          "metadata": {
            "tags": []
          }
        }
      ]
    },
    {
      "cell_type": "markdown",
      "metadata": {
        "id": "sirPxAPiQsmw",
        "colab_type": "text"
      },
      "source": [
        "Inference:\n",
        "* The number of retweets and the number of favourites have a high correlation\n",
        "* When number of retweets is high, the number of favourites is high\n",
        "* When number of retweets is less, number of favourites is less as well"
      ]
    },
    {
      "cell_type": "code",
      "metadata": {
        "id": "qrHY4i6_M8-Z",
        "colab_type": "code",
        "colab": {}
      },
      "source": [
        "new_plot  = df[df.Life_Cycle.str.len()<8]"
      ],
      "execution_count": 0,
      "outputs": []
    },
    {
      "cell_type": "code",
      "metadata": {
        "id": "gpbQRocDHDBK",
        "colab_type": "code",
        "outputId": "69879c7d-8a55-4fee-9c87-2ac57e2577f4",
        "colab": {
          "base_uri": "https://localhost:8080/",
          "height": 308
        }
      },
      "source": [
        "new_plot.Life_Cycle.value_counts().plot(kind='bar')"
      ],
      "execution_count": 0,
      "outputs": [
        {
          "output_type": "execute_result",
          "data": {
            "text/plain": [
              "<matplotlib.axes._subplots.AxesSubplot at 0x7f063cd3bb00>"
            ]
          },
          "metadata": {
            "tags": []
          },
          "execution_count": 71
        },
        {
          "output_type": "display_data",
          "data": {
            "image/png": "[encoded data removed]",
            "text/plain": [
              "<Figure size 432x288 with 1 Axes>"
            ]
          },
          "metadata": {
            "tags": []
          }
        }
      ]
    },
    {
      "cell_type": "markdown",
      "metadata": {
        "id": "mM10O5KhRudl",
        "colab_type": "text"
      },
      "source": [
        "Inference:\n",
        "* It shows the lifecycle of the dogs\n",
        "* Most of the dogs have a lifecycle stage of being a of pupper\n",
        "* Few ddogs are in the lifecycle stage of being a of doggo\n",
        "* Very few dogs are in the lifecycle stage of being a puppo\n",
        "*Lease number of dogs are in the lifecycle stage of being a floffer"
      ]
    },
    {
      "cell_type": "code",
      "metadata": {
        "id": "jlTZU_vGN-NG",
        "colab_type": "code",
        "outputId": "9fe22b0e-caaa-4314-e4cc-d6eb79c374b8",
        "colab": {
          "base_uri": "https://localhost:8080/",
          "height": 362
        }
      },
      "source": [
        "df['First_Prediction'].value_counts().sort_values(ascending=False).head(10).plot(kind='bar')"
      ],
      "execution_count": 0,
      "outputs": [
        {
          "output_type": "execute_result",
          "data": {
            "text/plain": [
              "<matplotlib.axes._subplots.AxesSubplot at 0x7f063cd09cf8>"
            ]
          },
          "metadata": {
            "tags": []
          },
          "execution_count": 72
        },
        {
          "output_type": "display_data",
          "data": {
            "image/png": "[encoded data removed]",
            "text/plain": [
              "<Figure size 432x288 with 1 Axes>"
            ]
          },
          "metadata": {
            "tags": []
          }
        }
      ]
    },
    {
      "cell_type": "markdown",
      "metadata": {
        "id": "SLCgiolrS8sF",
        "colab_type": "text"
      },
      "source": [
        "Inference:\n",
        "* It shows the top 10 breeds that are most likely to be predicted in the First Prediction"
      ]
    },
    {
      "cell_type": "code",
      "metadata": {
        "id": "iiucb_izPu1m",
        "colab_type": "code",
        "outputId": "d5e0016b-bbf7-4a9c-8560-cdea05bf29c7",
        "colab": {
          "base_uri": "https://localhost:8080/",
          "height": 403
        }
      },
      "source": [
        "df['Second_Prediction'].value_counts().sort_values(ascending=False).head(10).plot(kind='bar')"
      ],
      "execution_count": 0,
      "outputs": [
        {
          "output_type": "execute_result",
          "data": {
            "text/plain": [
              "<matplotlib.axes._subplots.AxesSubplot at 0x7f063cc890b8>"
            ]
          },
          "metadata": {
            "tags": []
          },
          "execution_count": 73
        },
        {
          "output_type": "display_data",
          "data": {
            "image/png": "[encoded data removed]",
            "text/plain": [
              "<Figure size 432x288 with 1 Axes>"
            ]
          },
          "metadata": {
            "tags": []
          }
        }
      ]
    },
    {
      "cell_type": "markdown",
      "metadata": {
        "id": "8d3F8lNiS-aR",
        "colab_type": "text"
      },
      "source": [
        "Inference:\n",
        "* It shows the top 10 breeds that are most likely to be predicted in the Second Prediction"
      ]
    },
    {
      "cell_type": "code",
      "metadata": {
        "id": "hjcYuPd8P4dI",
        "colab_type": "code",
        "outputId": "04ffd806-fec2-4006-cca3-9e27153b74a6",
        "colab": {
          "base_uri": "https://localhost:8080/",
          "height": 390
        }
      },
      "source": [
        "df['Third_Prediction'].value_counts().sort_values(ascending=False).head(10).plot(kind='bar')"
      ],
      "execution_count": 0,
      "outputs": [
        {
          "output_type": "execute_result",
          "data": {
            "text/plain": [
              "<matplotlib.axes._subplots.AxesSubplot at 0x7f063cc05470>"
            ]
          },
          "metadata": {
            "tags": []
          },
          "execution_count": 74
        },
        {
          "output_type": "display_data",
          "data": {
            "image/png": "[encoded data removed]",
            "text/plain": [
              "<Figure size 432x288 with 1 Axes>"
            ]
          },
          "metadata": {
            "tags": []
          }
        }
      ]
    },
    {
      "cell_type": "markdown",
      "metadata": {
        "id": "1JHwlusMTBVI",
        "colab_type": "text"
      },
      "source": [
        "Inference:\n",
        "* It shows the top 10 breeds that are most likely to be predicted in the Third Prediction"
      ]
    }
  ]
}