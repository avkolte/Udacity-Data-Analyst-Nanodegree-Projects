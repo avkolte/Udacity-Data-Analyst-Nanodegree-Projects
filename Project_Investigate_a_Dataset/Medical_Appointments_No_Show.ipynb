{
  "nbformat": 4,
  "nbformat_minor": 0,
  "metadata": {
    "colab": {
      "name": "Medical_Appointments-No_Show.ipynb",
      "provenance": [],
      "collapsed_sections": [
        "CA_QUUUXyLhr",
        "eAIW88VI9HN9",
        "FaMFoj9GvWJE",
        "_qLQIjGqACzp",
        "6xqUMyDr8kK8",
        "CkPwLeHG_bFT"
      ],
      "toc_visible": true,
      "machine_shape": "hm"
    },
    "kernelspec": {
      "name": "python3",
      "display_name": "Python 3"
    }
  },
  "cells": [
    {
      "cell_type": "markdown",
      "metadata": {
        "id": "CA_QUUUXyLhr",
        "colab_type": "text"
      },
      "source": [
        "#Project - Investigate medical dataset (No-show appointments)"
      ]
    },
    {
      "cell_type": "markdown",
      "metadata": {
        "colab_type": "text",
        "id": "xTrV-yt9SEwQ"
      },
      "source": [
        "***This dataset collects information from 100k medical appointments in Brazil and is focused on the question of whether or not patients show up for their appointment. A number of characteristics about the patient are included in each row***\n",
        "\n",
        "\n",
        "Dataset\n",
        "\n",
        "\n",
        "1. PatienID---Identification of a patient\n",
        "2. AppointmentID---Identification number of a patient\n",
        "3. Gender---Displays teh gender of the patient \n",
        "4. ScheduledDay---Displays the date on which appointmnet was scheduled\n",
        "5. AppointmentDay---Shows the date of the appointment\n",
        "6. Neighbourhood---Indicates the location of the hospital\n",
        "7. Scholarship\t---Indicated is the patient receives a scholarship\n",
        "8. Hipertension--- Shows if the patient has hypertension\n",
        "9. Diabetes\t---Shows if the patient has diabetes\n",
        "10. Alcoholism\t---Indicates if the patient is an alcoholic\n",
        "11. Handcap\t---Indicates if the patient is handicaped\n",
        "12. SMS_received\t---Shows if message is sent to the patient\n",
        "13. No-show\t-- It says ‘No’ if the patient showed up to their appointment, and ‘Yes’ if they did not show up\n",
        "\n"
      ]
    },
    {
      "cell_type": "markdown",
      "metadata": {
        "id": "eAIW88VI9HN9",
        "colab_type": "text"
      },
      "source": [
        "#Importing all the necessary libraries"
      ]
    },
    {
      "cell_type": "code",
      "metadata": {
        "id": "SCNnTyt_yIey",
        "colab_type": "code",
        "outputId": "91c64ced-9bcd-4c76-8bfc-1a8052dfd888",
        "colab": {
          "base_uri": "https://localhost:8080/",
          "height": 70
        }
      },
      "source": [
        "import pandas as pd\n",
        "import numpy as np\n",
        "\n",
        "%matplotlib inline\n",
        "import matplotlib.pyplot as plt\n",
        "import seaborn as sns\n",
        "import collections"
      ],
      "execution_count": 1,
      "outputs": [
        {
          "output_type": "stream",
          "text": [
            "/usr/local/lib/python3.6/dist-packages/statsmodels/tools/_testing.py:19: FutureWarning: pandas.util.testing is deprecated. Use the functions in the public API at pandas.testing instead.\n",
            "  import pandas.util.testing as tm\n"
          ],
          "name": "stderr"
        }
      ]
    },
    {
      "cell_type": "markdown",
      "metadata": {
        "id": "FaMFoj9GvWJE",
        "colab_type": "text"
      },
      "source": [
        "#Reading the dataset\n",
        "\n"
      ]
    },
    {
      "cell_type": "code",
      "metadata": {
        "id": "vW1DVc9-kdNl",
        "colab_type": "code",
        "outputId": "d2daee7e-3b2d-4584-b3cf-3cdd99ff11cf",
        "colab": {
          "base_uri": "https://localhost:8080/",
          "height": 317
        }
      },
      "source": [
        "df = pd.read_csv(\"noshowappointments-kagglev2-may-2016.csv\")\n",
        "df.head()"
      ],
      "execution_count": 3,
      "outputs": [
        {
          "output_type": "execute_result",
          "data": {
            "text/html": [
              "<div>\n",
              "<style scoped>\n",
              "    .dataframe tbody tr th:only-of-type {\n",
              "        vertical-align: middle;\n",
              "    }\n",
              "\n",
              "    .dataframe tbody tr th {\n",
              "        vertical-align: top;\n",
              "    }\n",
              "\n",
              "    .dataframe thead th {\n",
              "        text-align: right;\n",
              "    }\n",
              "</style>\n",
              "<table border=\"1\" class=\"dataframe\">\n",
              "  <thead>\n",
              "    <tr style=\"text-align: right;\">\n",
              "      <th></th>\n",
              "      <th>PatientId</th>\n",
              "      <th>AppointmentID</th>\n",
              "      <th>Gender</th>\n",
              "      <th>ScheduledDay</th>\n",
              "      <th>AppointmentDay</th>\n",
              "      <th>Age</th>\n",
              "      <th>Neighbourhood</th>\n",
              "      <th>Scholarship</th>\n",
              "      <th>Hipertension</th>\n",
              "      <th>Diabetes</th>\n",
              "      <th>Alcoholism</th>\n",
              "      <th>Handcap</th>\n",
              "      <th>SMS_received</th>\n",
              "      <th>No-show</th>\n",
              "    </tr>\n",
              "  </thead>\n",
              "  <tbody>\n",
              "    <tr>\n",
              "      <th>0</th>\n",
              "      <td>2.987250e+13</td>\n",
              "      <td>5642903</td>\n",
              "      <td>F</td>\n",
              "      <td>2016-04-29T18:38:08Z</td>\n",
              "      <td>2016-04-29T00:00:00Z</td>\n",
              "      <td>62</td>\n",
              "      <td>JARDIM DA PENHA</td>\n",
              "      <td>0</td>\n",
              "      <td>1</td>\n",
              "      <td>0</td>\n",
              "      <td>0</td>\n",
              "      <td>0</td>\n",
              "      <td>0</td>\n",
              "      <td>No</td>\n",
              "    </tr>\n",
              "    <tr>\n",
              "      <th>1</th>\n",
              "      <td>5.589978e+14</td>\n",
              "      <td>5642503</td>\n",
              "      <td>M</td>\n",
              "      <td>2016-04-29T16:08:27Z</td>\n",
              "      <td>2016-04-29T00:00:00Z</td>\n",
              "      <td>56</td>\n",
              "      <td>JARDIM DA PENHA</td>\n",
              "      <td>0</td>\n",
              "      <td>0</td>\n",
              "      <td>0</td>\n",
              "      <td>0</td>\n",
              "      <td>0</td>\n",
              "      <td>0</td>\n",
              "      <td>No</td>\n",
              "    </tr>\n",
              "    <tr>\n",
              "      <th>2</th>\n",
              "      <td>4.262962e+12</td>\n",
              "      <td>5642549</td>\n",
              "      <td>F</td>\n",
              "      <td>2016-04-29T16:19:04Z</td>\n",
              "      <td>2016-04-29T00:00:00Z</td>\n",
              "      <td>62</td>\n",
              "      <td>MATA DA PRAIA</td>\n",
              "      <td>0</td>\n",
              "      <td>0</td>\n",
              "      <td>0</td>\n",
              "      <td>0</td>\n",
              "      <td>0</td>\n",
              "      <td>0</td>\n",
              "      <td>No</td>\n",
              "    </tr>\n",
              "    <tr>\n",
              "      <th>3</th>\n",
              "      <td>8.679512e+11</td>\n",
              "      <td>5642828</td>\n",
              "      <td>F</td>\n",
              "      <td>2016-04-29T17:29:31Z</td>\n",
              "      <td>2016-04-29T00:00:00Z</td>\n",
              "      <td>8</td>\n",
              "      <td>PONTAL DE CAMBURI</td>\n",
              "      <td>0</td>\n",
              "      <td>0</td>\n",
              "      <td>0</td>\n",
              "      <td>0</td>\n",
              "      <td>0</td>\n",
              "      <td>0</td>\n",
              "      <td>No</td>\n",
              "    </tr>\n",
              "    <tr>\n",
              "      <th>4</th>\n",
              "      <td>8.841186e+12</td>\n",
              "      <td>5642494</td>\n",
              "      <td>F</td>\n",
              "      <td>2016-04-29T16:07:23Z</td>\n",
              "      <td>2016-04-29T00:00:00Z</td>\n",
              "      <td>56</td>\n",
              "      <td>JARDIM DA PENHA</td>\n",
              "      <td>0</td>\n",
              "      <td>1</td>\n",
              "      <td>1</td>\n",
              "      <td>0</td>\n",
              "      <td>0</td>\n",
              "      <td>0</td>\n",
              "      <td>No</td>\n",
              "    </tr>\n",
              "  </tbody>\n",
              "</table>\n",
              "</div>"
            ],
            "text/plain": [
              "      PatientId  AppointmentID Gender  ... Handcap SMS_received  No-show\n",
              "0  2.987250e+13        5642903      F  ...       0            0       No\n",
              "1  5.589978e+14        5642503      M  ...       0            0       No\n",
              "2  4.262962e+12        5642549      F  ...       0            0       No\n",
              "3  8.679512e+11        5642828      F  ...       0            0       No\n",
              "4  8.841186e+12        5642494      F  ...       0            0       No\n",
              "\n",
              "[5 rows x 14 columns]"
            ]
          },
          "metadata": {
            "tags": []
          },
          "execution_count": 3
        }
      ]
    },
    {
      "cell_type": "markdown",
      "metadata": {
        "id": "_qLQIjGqACzp",
        "colab_type": "text"
      },
      "source": [
        "#Analyzing the dataset"
      ]
    },
    {
      "cell_type": "markdown",
      "metadata": {
        "id": "a15hW7ah7exy",
        "colab_type": "text"
      },
      "source": [
        "***Check dimensions of the dataframe in terms of rows and columns***\n"
      ]
    },
    {
      "cell_type": "code",
      "metadata": {
        "id": "2HjUWgER7cmp",
        "colab_type": "code",
        "outputId": "a1330428-ba7e-431c-bced-459587157469",
        "colab": {
          "base_uri": "https://localhost:8080/",
          "height": 33
        }
      },
      "source": [
        "df.shape"
      ],
      "execution_count": 4,
      "outputs": [
        {
          "output_type": "execute_result",
          "data": {
            "text/plain": [
              "(110527, 14)"
            ]
          },
          "metadata": {
            "tags": []
          },
          "execution_count": 4
        }
      ]
    },
    {
      "cell_type": "markdown",
      "metadata": {
        "id": "YjyBF0n971y_",
        "colab_type": "text"
      },
      "source": [
        "Inference drawn:\n",
        "\n",
        "* The no.of rows are 110527\n",
        "* The no.of columns are 14"
      ]
    },
    {
      "cell_type": "markdown",
      "metadata": {
        "id": "OYE62kfrvmCb",
        "colab_type": "text"
      },
      "source": [
        "***Checking if the dataset has any duplicate values***\n",
        "\n",
        "\n"
      ]
    },
    {
      "cell_type": "code",
      "metadata": {
        "id": "wksP9KC1lQmn",
        "colab_type": "code",
        "outputId": "c26e23bc-8bde-473d-fd14-e7f171b60250",
        "colab": {
          "base_uri": "https://localhost:8080/",
          "height": 33
        }
      },
      "source": [
        "sum(df.duplicated())"
      ],
      "execution_count": 5,
      "outputs": [
        {
          "output_type": "execute_result",
          "data": {
            "text/plain": [
              "0"
            ]
          },
          "metadata": {
            "tags": []
          },
          "execution_count": 5
        }
      ]
    },
    {
      "cell_type": "markdown",
      "metadata": {
        "id": "LZNMniJZ8CPn",
        "colab_type": "text"
      },
      "source": [
        "Inference drawn:\n",
        "\n",
        "* The dataset has no duplicate values"
      ]
    },
    {
      "cell_type": "markdown",
      "metadata": {
        "id": "JfdhBUXSwGgb",
        "colab_type": "text"
      },
      "source": [
        "***Checking if there are any null or missing values in the dataset***"
      ]
    },
    {
      "cell_type": "code",
      "metadata": {
        "id": "0lpLjhZMmUo8",
        "colab_type": "code",
        "outputId": "94a3625d-2269-401e-89c3-eb3f2bb40f16",
        "colab": {
          "base_uri": "https://localhost:8080/",
          "height": 268
        }
      },
      "source": [
        "df.isnull().sum()"
      ],
      "execution_count": 6,
      "outputs": [
        {
          "output_type": "execute_result",
          "data": {
            "text/plain": [
              "PatientId         0\n",
              "AppointmentID     0\n",
              "Gender            0\n",
              "ScheduledDay      0\n",
              "AppointmentDay    0\n",
              "Age               0\n",
              "Neighbourhood     0\n",
              "Scholarship       0\n",
              "Hipertension      0\n",
              "Diabetes          0\n",
              "Alcoholism        0\n",
              "Handcap           0\n",
              "SMS_received      0\n",
              "No-show           0\n",
              "dtype: int64"
            ]
          },
          "metadata": {
            "tags": []
          },
          "execution_count": 6
        }
      ]
    },
    {
      "cell_type": "markdown",
      "metadata": {
        "id": "XVtmPp8m8R3k",
        "colab_type": "text"
      },
      "source": [
        "Inference drawn:\n",
        "\n",
        "* The dataset has no missing values"
      ]
    },
    {
      "cell_type": "markdown",
      "metadata": {
        "id": "dn54cCeewR9a",
        "colab_type": "text"
      },
      "source": [
        "***Displaying the columns in the dataset***"
      ]
    },
    {
      "cell_type": "code",
      "metadata": {
        "id": "5QRXSelAgrA9",
        "colab_type": "code",
        "outputId": "5efa03b9-9923-4ce2-bc88-512c119c7422",
        "colab": {
          "base_uri": "https://localhost:8080/",
          "height": 84
        }
      },
      "source": [
        "df.columns"
      ],
      "execution_count": 7,
      "outputs": [
        {
          "output_type": "execute_result",
          "data": {
            "text/plain": [
              "Index(['PatientId', 'AppointmentID', 'Gender', 'ScheduledDay',\n",
              "       'AppointmentDay', 'Age', 'Neighbourhood', 'Scholarship', 'Hipertension',\n",
              "       'Diabetes', 'Alcoholism', 'Handcap', 'SMS_received', 'No-show'],\n",
              "      dtype='object')"
            ]
          },
          "metadata": {
            "tags": []
          },
          "execution_count": 7
        }
      ]
    },
    {
      "cell_type": "markdown",
      "metadata": {
        "id": "5yiV4PpW8ypL",
        "colab_type": "text"
      },
      "source": [
        "Inference drawn:\n",
        "\n",
        "\n",
        "*   Some column names have incorrect spellings and are in the wrong format so they'll be cleaned accordingly\n",
        "\n"
      ]
    },
    {
      "cell_type": "markdown",
      "metadata": {
        "id": "UW7IzRMBwj9D",
        "colab_type": "text"
      },
      "source": [
        "**Changing column names which are in incorrect format and have wrong spellings**"
      ]
    },
    {
      "cell_type": "code",
      "metadata": {
        "id": "VSeJDYt_rEhG",
        "colab_type": "code",
        "colab": {}
      },
      "source": [
        "df.rename(columns={\"Hipertension\": \"Hypertension\",\"AppointmentID\": \"Appointment_id\",\"ScheduledDay\": \"Scheduled_day\"\t,\"AppointmentDay\":\"Appointment_day\", \"Handcap\":\"Handicap\", \"No-show\":\"No_show\", \"PatientId\":\"Patient_id\"}, inplace=True)"
      ],
      "execution_count": 0,
      "outputs": []
    },
    {
      "cell_type": "markdown",
      "metadata": {
        "id": "6RrIqveywsCI",
        "colab_type": "text"
      },
      "source": [
        "***Checking if datatypes are in correct format***"
      ]
    },
    {
      "cell_type": "code",
      "metadata": {
        "id": "svTvIRArrUF4",
        "colab_type": "code",
        "outputId": "4d098fbd-62b1-4c0a-82d9-67693704db86",
        "colab": {
          "base_uri": "https://localhost:8080/",
          "height": 268
        }
      },
      "source": [
        "df.dtypes"
      ],
      "execution_count": 9,
      "outputs": [
        {
          "output_type": "execute_result",
          "data": {
            "text/plain": [
              "Patient_id         float64\n",
              "Appointment_id       int64\n",
              "Gender              object\n",
              "Scheduled_day       object\n",
              "Appointment_day     object\n",
              "Age                  int64\n",
              "Neighbourhood       object\n",
              "Scholarship          int64\n",
              "Hypertension         int64\n",
              "Diabetes             int64\n",
              "Alcoholism           int64\n",
              "Handicap             int64\n",
              "SMS_received         int64\n",
              "No_show             object\n",
              "dtype: object"
            ]
          },
          "metadata": {
            "tags": []
          },
          "execution_count": 9
        }
      ]
    },
    {
      "cell_type": "markdown",
      "metadata": {
        "id": "wwfMt5FV-pcb",
        "colab_type": "text"
      },
      "source": [
        "Inference drawn:\n",
        "\n",
        "* Scheduled_day's data type is object but to make it easy to use for the user, we can convert it in datetime format\n",
        "* Appointment_day's data type is object but to make it easy to use for the user, we can convert it in datetime format"
      ]
    },
    {
      "cell_type": "markdown",
      "metadata": {
        "id": "rz0kuSBKKYX5",
        "colab_type": "text"
      },
      "source": [
        "Inference drawn:\n",
        "\n",
        "* There are no redundant values in the dataset"
      ]
    },
    {
      "cell_type": "markdown",
      "metadata": {
        "id": "6xqUMyDr8kK8",
        "colab_type": "text"
      },
      "source": [
        "#Note the redundant variables and drop them\n",
        "\n"
      ]
    },
    {
      "cell_type": "code",
      "metadata": {
        "id": "Gkio6fYBK9EE",
        "colab_type": "code",
        "outputId": "c0ab2003-bb2a-4a56-e2f1-bef7ee5eaa53",
        "colab": {
          "base_uri": "https://localhost:8080/",
          "height": 300
        }
      },
      "source": [
        "df.head()"
      ],
      "execution_count": 10,
      "outputs": [
        {
          "output_type": "execute_result",
          "data": {
            "text/html": [
              "<div>\n",
              "<style scoped>\n",
              "    .dataframe tbody tr th:only-of-type {\n",
              "        vertical-align: middle;\n",
              "    }\n",
              "\n",
              "    .dataframe tbody tr th {\n",
              "        vertical-align: top;\n",
              "    }\n",
              "\n",
              "    .dataframe thead th {\n",
              "        text-align: right;\n",
              "    }\n",
              "</style>\n",
              "<table border=\"1\" class=\"dataframe\">\n",
              "  <thead>\n",
              "    <tr style=\"text-align: right;\">\n",
              "      <th></th>\n",
              "      <th>Patient_id</th>\n",
              "      <th>Appointment_id</th>\n",
              "      <th>Gender</th>\n",
              "      <th>Scheduled_day</th>\n",
              "      <th>Appointment_day</th>\n",
              "      <th>Age</th>\n",
              "      <th>Neighbourhood</th>\n",
              "      <th>Scholarship</th>\n",
              "      <th>Hypertension</th>\n",
              "      <th>Diabetes</th>\n",
              "      <th>Alcoholism</th>\n",
              "      <th>Handicap</th>\n",
              "      <th>SMS_received</th>\n",
              "      <th>No_show</th>\n",
              "    </tr>\n",
              "  </thead>\n",
              "  <tbody>\n",
              "    <tr>\n",
              "      <th>0</th>\n",
              "      <td>2.987250e+13</td>\n",
              "      <td>5642903</td>\n",
              "      <td>F</td>\n",
              "      <td>2016-04-29T18:38:08Z</td>\n",
              "      <td>2016-04-29T00:00:00Z</td>\n",
              "      <td>62</td>\n",
              "      <td>JARDIM DA PENHA</td>\n",
              "      <td>0</td>\n",
              "      <td>1</td>\n",
              "      <td>0</td>\n",
              "      <td>0</td>\n",
              "      <td>0</td>\n",
              "      <td>0</td>\n",
              "      <td>No</td>\n",
              "    </tr>\n",
              "    <tr>\n",
              "      <th>1</th>\n",
              "      <td>5.589978e+14</td>\n",
              "      <td>5642503</td>\n",
              "      <td>M</td>\n",
              "      <td>2016-04-29T16:08:27Z</td>\n",
              "      <td>2016-04-29T00:00:00Z</td>\n",
              "      <td>56</td>\n",
              "      <td>JARDIM DA PENHA</td>\n",
              "      <td>0</td>\n",
              "      <td>0</td>\n",
              "      <td>0</td>\n",
              "      <td>0</td>\n",
              "      <td>0</td>\n",
              "      <td>0</td>\n",
              "      <td>No</td>\n",
              "    </tr>\n",
              "    <tr>\n",
              "      <th>2</th>\n",
              "      <td>4.262962e+12</td>\n",
              "      <td>5642549</td>\n",
              "      <td>F</td>\n",
              "      <td>2016-04-29T16:19:04Z</td>\n",
              "      <td>2016-04-29T00:00:00Z</td>\n",
              "      <td>62</td>\n",
              "      <td>MATA DA PRAIA</td>\n",
              "      <td>0</td>\n",
              "      <td>0</td>\n",
              "      <td>0</td>\n",
              "      <td>0</td>\n",
              "      <td>0</td>\n",
              "      <td>0</td>\n",
              "      <td>No</td>\n",
              "    </tr>\n",
              "    <tr>\n",
              "      <th>3</th>\n",
              "      <td>8.679512e+11</td>\n",
              "      <td>5642828</td>\n",
              "      <td>F</td>\n",
              "      <td>2016-04-29T17:29:31Z</td>\n",
              "      <td>2016-04-29T00:00:00Z</td>\n",
              "      <td>8</td>\n",
              "      <td>PONTAL DE CAMBURI</td>\n",
              "      <td>0</td>\n",
              "      <td>0</td>\n",
              "      <td>0</td>\n",
              "      <td>0</td>\n",
              "      <td>0</td>\n",
              "      <td>0</td>\n",
              "      <td>No</td>\n",
              "    </tr>\n",
              "    <tr>\n",
              "      <th>4</th>\n",
              "      <td>8.841186e+12</td>\n",
              "      <td>5642494</td>\n",
              "      <td>F</td>\n",
              "      <td>2016-04-29T16:07:23Z</td>\n",
              "      <td>2016-04-29T00:00:00Z</td>\n",
              "      <td>56</td>\n",
              "      <td>JARDIM DA PENHA</td>\n",
              "      <td>0</td>\n",
              "      <td>1</td>\n",
              "      <td>1</td>\n",
              "      <td>0</td>\n",
              "      <td>0</td>\n",
              "      <td>0</td>\n",
              "      <td>No</td>\n",
              "    </tr>\n",
              "  </tbody>\n",
              "</table>\n",
              "</div>"
            ],
            "text/plain": [
              "     Patient_id  Appointment_id Gender  ... Handicap SMS_received  No_show\n",
              "0  2.987250e+13         5642903      F  ...        0            0       No\n",
              "1  5.589978e+14         5642503      M  ...        0            0       No\n",
              "2  4.262962e+12         5642549      F  ...        0            0       No\n",
              "3  8.679512e+11         5642828      F  ...        0            0       No\n",
              "4  8.841186e+12         5642494      F  ...        0            0       No\n",
              "\n",
              "[5 rows x 14 columns]"
            ]
          },
          "metadata": {
            "tags": []
          },
          "execution_count": 10
        }
      ]
    },
    {
      "cell_type": "markdown",
      "metadata": {
        "id": "F75NaE8DK0XR",
        "colab_type": "text"
      },
      "source": [
        "Inference drawn:\n",
        "\n",
        "* When we analyze the dataset, we can try can observe that there are no such columns in the dataset which have only 1 unique values in them, and hence we can conclude by stating that there are no redundant variables in the dataset."
      ]
    },
    {
      "cell_type": "markdown",
      "metadata": {
        "id": "CkPwLeHG_bFT",
        "colab_type": "text"
      },
      "source": [
        "#Analysing the variables"
      ]
    },
    {
      "cell_type": "markdown",
      "metadata": {
        "id": "BZu5d5WLTX4-",
        "colab_type": "text"
      },
      "source": [
        "Variable 'Patient_id'"
      ]
    },
    {
      "cell_type": "code",
      "metadata": {
        "id": "3-zJk0ydTfTt",
        "colab_type": "code",
        "outputId": "74704e8f-d513-4fc2-a674-929e1b2b60c9",
        "colab": {
          "base_uri": "https://localhost:8080/",
          "height": 50
        }
      },
      "source": [
        "df.Patient_id.unique()"
      ],
      "execution_count": 11,
      "outputs": [
        {
          "output_type": "execute_result",
          "data": {
            "text/plain": [
              "array([2.98724998e+13, 5.58997777e+14, 4.26296230e+12, ...,\n",
              "       7.26331493e+13, 9.96997666e+14, 1.55766317e+13])"
            ]
          },
          "metadata": {
            "tags": []
          },
          "execution_count": 11
        }
      ]
    },
    {
      "cell_type": "markdown",
      "metadata": {
        "id": "EgagEDw2Tmmv",
        "colab_type": "text"
      },
      "source": [
        "Inference:\n",
        "\n",
        "\n",
        "* The data type of an id should ideally be integer, not float.\n",
        "\n"
      ]
    },
    {
      "cell_type": "code",
      "metadata": {
        "id": "xNatWgV4TzG2",
        "colab_type": "code",
        "colab": {}
      },
      "source": [
        "df['Patient_id'] = df['Patient_id'].astype('int64')\n"
      ],
      "execution_count": 0,
      "outputs": []
    },
    {
      "cell_type": "markdown",
      "metadata": {
        "id": "38Ank0ig_rFT",
        "colab_type": "text"
      },
      "source": [
        "Variable 'Gender'"
      ]
    },
    {
      "cell_type": "code",
      "metadata": {
        "id": "U7bpYTIwukl-",
        "colab_type": "code",
        "outputId": "1ac31c3f-6f8d-4dde-8489-afb60b88432f",
        "colab": {
          "base_uri": "https://localhost:8080/",
          "height": 33
        }
      },
      "source": [
        "df.Gender.unique()"
      ],
      "execution_count": 13,
      "outputs": [
        {
          "output_type": "execute_result",
          "data": {
            "text/plain": [
              "array(['F', 'M'], dtype=object)"
            ]
          },
          "metadata": {
            "tags": []
          },
          "execution_count": 13
        }
      ]
    },
    {
      "cell_type": "markdown",
      "metadata": {
        "id": "96JAoG2ACJKG",
        "colab_type": "text"
      },
      "source": [
        "Inference -\n",
        "\n",
        "* The column has 2 unique values for the genders, male and female in the correct format"
      ]
    },
    {
      "cell_type": "markdown",
      "metadata": {
        "id": "4nLKvHyvAvg2",
        "colab_type": "text"
      },
      "source": [
        "Variable 'Scheduled_day'"
      ]
    },
    {
      "cell_type": "code",
      "metadata": {
        "id": "xoYPpbG-t4UE",
        "colab_type": "code",
        "outputId": "1b00ee53-3330-4d3c-cf99-0ed83bb61869",
        "colab": {
          "base_uri": "https://localhost:8080/",
          "height": 67
        }
      },
      "source": [
        "df.Scheduled_day.unique()\n"
      ],
      "execution_count": 14,
      "outputs": [
        {
          "output_type": "execute_result",
          "data": {
            "text/plain": [
              "array(['2016-04-29T18:38:08Z', '2016-04-29T16:08:27Z',\n",
              "       '2016-04-29T16:19:04Z', ..., '2016-04-27T16:03:52Z',\n",
              "       '2016-04-27T15:09:23Z', '2016-04-27T13:30:56Z'], dtype=object)"
            ]
          },
          "metadata": {
            "tags": []
          },
          "execution_count": 14
        }
      ]
    },
    {
      "cell_type": "markdown",
      "metadata": {
        "id": "wXOP7MvZCp_5",
        "colab_type": "text"
      },
      "source": [
        "Inference -\n",
        "\n",
        "* The date type needs to be converted to datetime format"
      ]
    },
    {
      "cell_type": "code",
      "metadata": {
        "id": "RMyZ2Nczuc2Y",
        "colab_type": "code",
        "colab": {}
      },
      "source": [
        "df.Scheduled_day = df.Scheduled_day.apply(np.datetime64)"
      ],
      "execution_count": 0,
      "outputs": []
    },
    {
      "cell_type": "markdown",
      "metadata": {
        "id": "3uH09pAMA5oa",
        "colab_type": "text"
      },
      "source": [
        "Variable 'Appointment_day'"
      ]
    },
    {
      "cell_type": "code",
      "metadata": {
        "id": "KQFfQrWtA4Ul",
        "colab_type": "code",
        "outputId": "d944ec45-4da1-456e-a3c7-fbf056a2603a",
        "colab": {
          "base_uri": "https://localhost:8080/",
          "height": 251
        }
      },
      "source": [
        "df.Appointment_day.unique()"
      ],
      "execution_count": 16,
      "outputs": [
        {
          "output_type": "execute_result",
          "data": {
            "text/plain": [
              "array(['2016-04-29T00:00:00Z', '2016-05-03T00:00:00Z',\n",
              "       '2016-05-10T00:00:00Z', '2016-05-17T00:00:00Z',\n",
              "       '2016-05-24T00:00:00Z', '2016-05-31T00:00:00Z',\n",
              "       '2016-05-02T00:00:00Z', '2016-05-30T00:00:00Z',\n",
              "       '2016-05-16T00:00:00Z', '2016-05-04T00:00:00Z',\n",
              "       '2016-05-19T00:00:00Z', '2016-05-12T00:00:00Z',\n",
              "       '2016-05-06T00:00:00Z', '2016-05-20T00:00:00Z',\n",
              "       '2016-05-05T00:00:00Z', '2016-05-13T00:00:00Z',\n",
              "       '2016-05-09T00:00:00Z', '2016-05-25T00:00:00Z',\n",
              "       '2016-05-11T00:00:00Z', '2016-05-18T00:00:00Z',\n",
              "       '2016-05-14T00:00:00Z', '2016-06-02T00:00:00Z',\n",
              "       '2016-06-03T00:00:00Z', '2016-06-06T00:00:00Z',\n",
              "       '2016-06-07T00:00:00Z', '2016-06-01T00:00:00Z',\n",
              "       '2016-06-08T00:00:00Z'], dtype=object)"
            ]
          },
          "metadata": {
            "tags": []
          },
          "execution_count": 16
        }
      ]
    },
    {
      "cell_type": "markdown",
      "metadata": {
        "id": "acAzX73iC3h6",
        "colab_type": "text"
      },
      "source": [
        "Inference -\n",
        "\n",
        "* The date type needs to be converted to datetime format"
      ]
    },
    {
      "cell_type": "code",
      "metadata": {
        "id": "xb4XGIoxufHx",
        "colab_type": "code",
        "colab": {}
      },
      "source": [
        "df.Appointment_day = df.Appointment_day.apply(np.datetime64)"
      ],
      "execution_count": 0,
      "outputs": []
    },
    {
      "cell_type": "markdown",
      "metadata": {
        "id": "pcfjAqKKC76x",
        "colab_type": "text"
      },
      "source": [
        "Variable 'Age'"
      ]
    },
    {
      "cell_type": "code",
      "metadata": {
        "id": "m-22nkswyhz8",
        "colab_type": "code",
        "outputId": "598b71be-939e-4d5a-ef6e-7a97886a706c",
        "colab": {
          "base_uri": "https://localhost:8080/",
          "height": 150
        }
      },
      "source": [
        "df.Age.unique()"
      ],
      "execution_count": 18,
      "outputs": [
        {
          "output_type": "execute_result",
          "data": {
            "text/plain": [
              "array([ 62,  56,   8,  76,  23,  39,  21,  19,  30,  29,  22,  28,  54,\n",
              "        15,  50,  40,  46,   4,  13,  65,  45,  51,  32,  12,  61,  38,\n",
              "        79,  18,  63,  64,  85,  59,  55,  71,  49,  78,  31,  58,  27,\n",
              "         6,   2,  11,   7,   0,   3,   1,  69,  68,  60,  67,  36,  10,\n",
              "        35,  20,  26,  34,  33,  16,  42,   5,  47,  17,  41,  44,  37,\n",
              "        24,  66,  77,  81,  70,  53,  75,  73,  52,  74,  43,  89,  57,\n",
              "        14,   9,  48,  83,  72,  25,  80,  87,  88,  84,  82,  90,  94,\n",
              "        86,  91,  98,  92,  96,  93,  95,  97, 102, 115, 100,  99,  -1])"
            ]
          },
          "metadata": {
            "tags": []
          },
          "execution_count": 18
        }
      ]
    },
    {
      "cell_type": "markdown",
      "metadata": {
        "id": "oZnXQ8EMDxpM",
        "colab_type": "text"
      },
      "source": [
        "Inference -\n",
        "\n",
        "* The age column has negative values which is highly unlikely to happen. So we'll have to filter out the outliers."
      ]
    },
    {
      "cell_type": "code",
      "metadata": {
        "id": "0x65qaFM3HgS",
        "colab_type": "code",
        "colab": {}
      },
      "source": [
        "df = df[(df.Age >= 0)]"
      ],
      "execution_count": 0,
      "outputs": []
    },
    {
      "cell_type": "markdown",
      "metadata": {
        "id": "tChV1uHJEChb",
        "colab_type": "text"
      },
      "source": [
        "Variable 'Neighbourhood'"
      ]
    },
    {
      "cell_type": "code",
      "metadata": {
        "id": "neWNc_slup0H",
        "colab_type": "code",
        "outputId": "46d06223-59e3-40fa-c3e9-c465ff3f3823",
        "colab": {
          "base_uri": "https://localhost:8080/",
          "height": 385
        }
      },
      "source": [
        "df.Neighbourhood.unique()"
      ],
      "execution_count": 20,
      "outputs": [
        {
          "output_type": "execute_result",
          "data": {
            "text/plain": [
              "array(['JARDIM DA PENHA', 'MATA DA PRAIA', 'PONTAL DE CAMBURI',\n",
              "       'REPÚBLICA', 'GOIABEIRAS', 'ANDORINHAS', 'CONQUISTA',\n",
              "       'NOVA PALESTINA', 'DA PENHA', 'TABUAZEIRO', 'BENTO FERREIRA',\n",
              "       'SÃO PEDRO', 'SANTA MARTHA', 'SÃO CRISTÓVÃO', 'MARUÍPE',\n",
              "       'GRANDE VITÓRIA', 'SÃO BENEDITO', 'ILHA DAS CAIEIRAS',\n",
              "       'SANTO ANDRÉ', 'SOLON BORGES', 'BONFIM', 'JARDIM CAMBURI',\n",
              "       'MARIA ORTIZ', 'JABOUR', 'ANTÔNIO HONÓRIO', 'RESISTÊNCIA',\n",
              "       'ILHA DE SANTA MARIA', 'JUCUTUQUARA', 'MONTE BELO',\n",
              "       'MÁRIO CYPRESTE', 'SANTO ANTÔNIO', 'BELA VISTA', 'PRAIA DO SUÁ',\n",
              "       'SANTA HELENA', 'ITARARÉ', 'INHANGUETÁ', 'UNIVERSITÁRIO',\n",
              "       'SÃO JOSÉ', 'REDENÇÃO', 'SANTA CLARA', 'CENTRO', 'PARQUE MOSCOSO',\n",
              "       'DO MOSCOSO', 'SANTOS DUMONT', 'CARATOÍRA', 'ARIOVALDO FAVALESSA',\n",
              "       'ILHA DO FRADE', 'GURIGICA', 'JOANA D´ARC', 'CONSOLAÇÃO',\n",
              "       'PRAIA DO CANTO', 'BOA VISTA', 'MORADA DE CAMBURI', 'SANTA LUÍZA',\n",
              "       'SANTA LÚCIA', 'BARRO VERMELHO', 'ESTRELINHA', 'FORTE SÃO JOÃO',\n",
              "       'FONTE GRANDE', 'ENSEADA DO SUÁ', 'SANTOS REIS', 'PIEDADE',\n",
              "       'JESUS DE NAZARETH', 'SANTA TEREZA', 'CRUZAMENTO',\n",
              "       'ILHA DO PRÍNCIPE', 'ROMÃO', 'COMDUSA', 'SANTA CECÍLIA',\n",
              "       'VILA RUBIM', 'DE LOURDES', 'DO QUADRO', 'DO CABRAL', 'HORTO',\n",
              "       'SEGURANÇA DO LAR', 'ILHA DO BOI', 'FRADINHOS', 'NAZARETH',\n",
              "       'AEROPORTO', 'ILHAS OCEÂNICAS DE TRINDADE', 'PARQUE INDUSTRIAL'],\n",
              "      dtype=object)"
            ]
          },
          "metadata": {
            "tags": []
          },
          "execution_count": 20
        }
      ]
    },
    {
      "cell_type": "markdown",
      "metadata": {
        "id": "bWHE18bbGYou",
        "colab_type": "text"
      },
      "source": [
        "Inference -\n",
        "\n",
        "* The variable shows the neighbourhood in which hospital is located"
      ]
    },
    {
      "cell_type": "markdown",
      "metadata": {
        "id": "olYNnzRYEJbS",
        "colab_type": "text"
      },
      "source": [
        "Variable 'Scholarship'"
      ]
    },
    {
      "cell_type": "code",
      "metadata": {
        "id": "WalC6uMDuuoH",
        "colab_type": "code",
        "outputId": "c7541e62-361c-48af-f6f3-8674a7abbb2c",
        "colab": {
          "base_uri": "https://localhost:8080/",
          "height": 33
        }
      },
      "source": [
        "df.Scholarship.unique()"
      ],
      "execution_count": 21,
      "outputs": [
        {
          "output_type": "execute_result",
          "data": {
            "text/plain": [
              "array([0, 1])"
            ]
          },
          "metadata": {
            "tags": []
          },
          "execution_count": 21
        }
      ]
    },
    {
      "cell_type": "markdown",
      "metadata": {
        "id": "tK7Ogq6OFRWr",
        "colab_type": "text"
      },
      "source": [
        "Inference -\n",
        "\n",
        "* The variable has 2 unique values which indicate if patient receives a scholarship or no in the correct data type"
      ]
    },
    {
      "cell_type": "markdown",
      "metadata": {
        "id": "Mn9djmeoEQT9",
        "colab_type": "text"
      },
      "source": [
        "Variable 'Hypertension'"
      ]
    },
    {
      "cell_type": "code",
      "metadata": {
        "id": "aXnuRDM7uzoy",
        "colab_type": "code",
        "outputId": "6591f2ce-96d5-4cca-d175-2ffa14eb6cb8",
        "colab": {
          "base_uri": "https://localhost:8080/",
          "height": 33
        }
      },
      "source": [
        "df.Hypertension.unique()"
      ],
      "execution_count": 22,
      "outputs": [
        {
          "output_type": "execute_result",
          "data": {
            "text/plain": [
              "array([1, 0])"
            ]
          },
          "metadata": {
            "tags": []
          },
          "execution_count": 22
        }
      ]
    },
    {
      "cell_type": "markdown",
      "metadata": {
        "id": "oEOoIxKmFcsL",
        "colab_type": "text"
      },
      "source": [
        "Inference -\n",
        "\n",
        "* The variable has 2 unique values which is 1 if patient has hypertension and 0 if not in the correct data type"
      ]
    },
    {
      "cell_type": "markdown",
      "metadata": {
        "id": "goW9cCg2EXgk",
        "colab_type": "text"
      },
      "source": [
        "Variable 'Diabetes'"
      ]
    },
    {
      "cell_type": "code",
      "metadata": {
        "id": "fR-24EgPuzfN",
        "colab_type": "code",
        "outputId": "fd358696-9641-484d-da9d-07e128f0e940",
        "colab": {
          "base_uri": "https://localhost:8080/",
          "height": 33
        }
      },
      "source": [
        "df.Diabetes.unique()"
      ],
      "execution_count": 23,
      "outputs": [
        {
          "output_type": "execute_result",
          "data": {
            "text/plain": [
              "array([0, 1])"
            ]
          },
          "metadata": {
            "tags": []
          },
          "execution_count": 23
        }
      ]
    },
    {
      "cell_type": "markdown",
      "metadata": {
        "id": "86QAgn3hFfES",
        "colab_type": "text"
      },
      "source": [
        "Inference -\n",
        "\n",
        "* The variable has 2 unique values which is 1 if patient is diabetic and 0 if not in the correct data type"
      ]
    },
    {
      "cell_type": "markdown",
      "metadata": {
        "id": "d6tkgdZZEaa7",
        "colab_type": "text"
      },
      "source": [
        "Variable 'Alcoholism'"
      ]
    },
    {
      "cell_type": "code",
      "metadata": {
        "id": "8h6z-Bk2uzWH",
        "colab_type": "code",
        "outputId": "1f53dc54-0a3d-43a3-b474-ea0a2689909d",
        "colab": {
          "base_uri": "https://localhost:8080/",
          "height": 33
        }
      },
      "source": [
        "df.Alcoholism.unique()"
      ],
      "execution_count": 24,
      "outputs": [
        {
          "output_type": "execute_result",
          "data": {
            "text/plain": [
              "array([0, 1])"
            ]
          },
          "metadata": {
            "tags": []
          },
          "execution_count": 24
        }
      ]
    },
    {
      "cell_type": "markdown",
      "metadata": {
        "id": "pmlLnH6kFg68",
        "colab_type": "text"
      },
      "source": [
        "Inference -\n",
        "\n",
        "* The variable has 2 unique values which is 1 if patient is alcoholic and 0 if patient is non alcoholic in correct data type"
      ]
    },
    {
      "cell_type": "markdown",
      "metadata": {
        "id": "qIBlw4mjEfbN",
        "colab_type": "text"
      },
      "source": [
        "Variable 'Handicap'"
      ]
    },
    {
      "cell_type": "code",
      "metadata": {
        "id": "9ixpw-ODuzNj",
        "colab_type": "code",
        "outputId": "948e9ac7-5025-4c12-a2d9-3ccf0fd8c9fd",
        "colab": {
          "base_uri": "https://localhost:8080/",
          "height": 33
        }
      },
      "source": [
        "df.Handicap.unique()"
      ],
      "execution_count": 25,
      "outputs": [
        {
          "output_type": "execute_result",
          "data": {
            "text/plain": [
              "array([0, 1, 2, 3, 4])"
            ]
          },
          "metadata": {
            "tags": []
          },
          "execution_count": 25
        }
      ]
    },
    {
      "cell_type": "markdown",
      "metadata": {
        "id": "KBRpWh3XCv02",
        "colab_type": "text"
      },
      "source": [
        "The column has 3 unique values possibly reppresenting the number of disabilities an individual has"
      ]
    },
    {
      "cell_type": "markdown",
      "metadata": {
        "id": "gEX9qKLaEkWg",
        "colab_type": "text"
      },
      "source": [
        "Variable 'SMS_received'"
      ]
    },
    {
      "cell_type": "code",
      "metadata": {
        "id": "V5hhCymCuzCa",
        "colab_type": "code",
        "outputId": "190e0953-7c1e-44e7-b30b-0aeaa22e265c",
        "colab": {
          "base_uri": "https://localhost:8080/",
          "height": 33
        }
      },
      "source": [
        "df.SMS_received.unique()"
      ],
      "execution_count": 26,
      "outputs": [
        {
          "output_type": "execute_result",
          "data": {
            "text/plain": [
              "array([0, 1])"
            ]
          },
          "metadata": {
            "tags": []
          },
          "execution_count": 26
        }
      ]
    },
    {
      "cell_type": "markdown",
      "metadata": {
        "id": "kgulOaZdFsyb",
        "colab_type": "text"
      },
      "source": [
        "Inference -\n",
        "\n",
        "* The variable has 2 unique values which show if patient had received a message or not in the correct data type"
      ]
    },
    {
      "cell_type": "markdown",
      "metadata": {
        "id": "TvDNI2MmEsHA",
        "colab_type": "text"
      },
      "source": [
        "Variable 'No_show'"
      ]
    },
    {
      "cell_type": "code",
      "metadata": {
        "id": "uGILrcWtvAm2",
        "colab_type": "code",
        "outputId": "bb387f6a-4c9d-42ab-d3ba-7f48915406fd",
        "colab": {
          "base_uri": "https://localhost:8080/",
          "height": 33
        }
      },
      "source": [
        "df.No_show.unique()"
      ],
      "execution_count": 27,
      "outputs": [
        {
          "output_type": "execute_result",
          "data": {
            "text/plain": [
              "array(['No', 'Yes'], dtype=object)"
            ]
          },
          "metadata": {
            "tags": []
          },
          "execution_count": 27
        }
      ]
    },
    {
      "cell_type": "markdown",
      "metadata": {
        "id": "bkfkubyKGvCf",
        "colab_type": "text"
      },
      "source": [
        "Inference -\n",
        "\n",
        "* The variable has 2 unique values displaying ‘No’ if the patient showed up to their appointment, and ‘Yes’ if they did not show up"
      ]
    },
    {
      "cell_type": "markdown",
      "metadata": {
        "id": "zqZYjcJnEwXw",
        "colab_type": "text"
      },
      "source": [
        "Adding a new column displaying the waiting period for a patient"
      ]
    },
    {
      "cell_type": "code",
      "metadata": {
        "id": "jqsU5mqm5DiY",
        "colab_type": "code",
        "colab": {}
      },
      "source": [
        "df['Wait'] = (df.Appointment_day.dt.date - df.Scheduled_day.dt.date).dt.days\n",
        "df= df[(df.Wait>=0)]"
      ],
      "execution_count": 0,
      "outputs": []
    },
    {
      "cell_type": "markdown",
      "metadata": {
        "id": "YqxU-KSAVDO0",
        "colab_type": "text"
      },
      "source": [
        "Adding a new column which shows the day of the appointment"
      ]
    },
    {
      "cell_type": "code",
      "metadata": {
        "id": "ucW0csnNVfYh",
        "colab_type": "code",
        "colab": {}
      },
      "source": [
        "df['appointment_day'] = df.Appointment_day.dt.day_name()"
      ],
      "execution_count": 0,
      "outputs": []
    },
    {
      "cell_type": "markdown",
      "metadata": {
        "id": "GHTz3O9GHYDZ",
        "colab_type": "text"
      },
      "source": [
        "Understanding the variable 'Appointment_Day'"
      ]
    },
    {
      "cell_type": "code",
      "metadata": {
        "id": "eH8QJdy0HWLP",
        "colab_type": "code",
        "outputId": "8add568d-1d16-427f-986d-5fc67f3637d5",
        "colab": {
          "base_uri": "https://localhost:8080/",
          "height": 117
        }
      },
      "source": [
        "collections.Counter(df.appointment_day)"
      ],
      "execution_count": 30,
      "outputs": [
        {
          "output_type": "execute_result",
          "data": {
            "text/plain": [
              "Counter({'Friday': 19019,\n",
              "         'Monday': 22713,\n",
              "         'Saturday': 39,\n",
              "         'Thursday': 17246,\n",
              "         'Tuesday': 25638,\n",
              "         'Wednesday': 25866})"
            ]
          },
          "metadata": {
            "tags": []
          },
          "execution_count": 30
        }
      ]
    },
    {
      "cell_type": "markdown",
      "metadata": {
        "id": "aEZtAoxgJ5z3",
        "colab_type": "text"
      },
      "source": [
        "By observing, very few appointments are made for the weekend, Saturday with majority of appoints being made for the former part of week on days like Monday, Tuesday, Wednesday with the number dropping in the latter part of week for days like Thursday and Friday"
      ]
    },
    {
      "cell_type": "code",
      "metadata": {
        "id": "dv5q0CdJ5GPf",
        "colab_type": "code",
        "outputId": "3d1ef3e7-961c-45dd-e3c7-c3a85bc60908",
        "colab": {
          "base_uri": "https://localhost:8080/",
          "height": 300
        }
      },
      "source": [
        "df.head(5)"
      ],
      "execution_count": 31,
      "outputs": [
        {
          "output_type": "execute_result",
          "data": {
            "text/html": [
              "<div>\n",
              "<style scoped>\n",
              "    .dataframe tbody tr th:only-of-type {\n",
              "        vertical-align: middle;\n",
              "    }\n",
              "\n",
              "    .dataframe tbody tr th {\n",
              "        vertical-align: top;\n",
              "    }\n",
              "\n",
              "    .dataframe thead th {\n",
              "        text-align: right;\n",
              "    }\n",
              "</style>\n",
              "<table border=\"1\" class=\"dataframe\">\n",
              "  <thead>\n",
              "    <tr style=\"text-align: right;\">\n",
              "      <th></th>\n",
              "      <th>Patient_id</th>\n",
              "      <th>Appointment_id</th>\n",
              "      <th>Gender</th>\n",
              "      <th>Scheduled_day</th>\n",
              "      <th>Appointment_day</th>\n",
              "      <th>Age</th>\n",
              "      <th>Neighbourhood</th>\n",
              "      <th>Scholarship</th>\n",
              "      <th>Hypertension</th>\n",
              "      <th>Diabetes</th>\n",
              "      <th>Alcoholism</th>\n",
              "      <th>Handicap</th>\n",
              "      <th>SMS_received</th>\n",
              "      <th>No_show</th>\n",
              "      <th>Wait</th>\n",
              "      <th>appointment_day</th>\n",
              "    </tr>\n",
              "  </thead>\n",
              "  <tbody>\n",
              "    <tr>\n",
              "      <th>0</th>\n",
              "      <td>29872499824296</td>\n",
              "      <td>5642903</td>\n",
              "      <td>F</td>\n",
              "      <td>2016-04-29 18:38:08</td>\n",
              "      <td>2016-04-29</td>\n",
              "      <td>62</td>\n",
              "      <td>JARDIM DA PENHA</td>\n",
              "      <td>0</td>\n",
              "      <td>1</td>\n",
              "      <td>0</td>\n",
              "      <td>0</td>\n",
              "      <td>0</td>\n",
              "      <td>0</td>\n",
              "      <td>No</td>\n",
              "      <td>0</td>\n",
              "      <td>Friday</td>\n",
              "    </tr>\n",
              "    <tr>\n",
              "      <th>1</th>\n",
              "      <td>558997776694438</td>\n",
              "      <td>5642503</td>\n",
              "      <td>M</td>\n",
              "      <td>2016-04-29 16:08:27</td>\n",
              "      <td>2016-04-29</td>\n",
              "      <td>56</td>\n",
              "      <td>JARDIM DA PENHA</td>\n",
              "      <td>0</td>\n",
              "      <td>0</td>\n",
              "      <td>0</td>\n",
              "      <td>0</td>\n",
              "      <td>0</td>\n",
              "      <td>0</td>\n",
              "      <td>No</td>\n",
              "      <td>0</td>\n",
              "      <td>Friday</td>\n",
              "    </tr>\n",
              "    <tr>\n",
              "      <th>2</th>\n",
              "      <td>4262962299951</td>\n",
              "      <td>5642549</td>\n",
              "      <td>F</td>\n",
              "      <td>2016-04-29 16:19:04</td>\n",
              "      <td>2016-04-29</td>\n",
              "      <td>62</td>\n",
              "      <td>MATA DA PRAIA</td>\n",
              "      <td>0</td>\n",
              "      <td>0</td>\n",
              "      <td>0</td>\n",
              "      <td>0</td>\n",
              "      <td>0</td>\n",
              "      <td>0</td>\n",
              "      <td>No</td>\n",
              "      <td>0</td>\n",
              "      <td>Friday</td>\n",
              "    </tr>\n",
              "    <tr>\n",
              "      <th>3</th>\n",
              "      <td>867951213174</td>\n",
              "      <td>5642828</td>\n",
              "      <td>F</td>\n",
              "      <td>2016-04-29 17:29:31</td>\n",
              "      <td>2016-04-29</td>\n",
              "      <td>8</td>\n",
              "      <td>PONTAL DE CAMBURI</td>\n",
              "      <td>0</td>\n",
              "      <td>0</td>\n",
              "      <td>0</td>\n",
              "      <td>0</td>\n",
              "      <td>0</td>\n",
              "      <td>0</td>\n",
              "      <td>No</td>\n",
              "      <td>0</td>\n",
              "      <td>Friday</td>\n",
              "    </tr>\n",
              "    <tr>\n",
              "      <th>4</th>\n",
              "      <td>8841186448183</td>\n",
              "      <td>5642494</td>\n",
              "      <td>F</td>\n",
              "      <td>2016-04-29 16:07:23</td>\n",
              "      <td>2016-04-29</td>\n",
              "      <td>56</td>\n",
              "      <td>JARDIM DA PENHA</td>\n",
              "      <td>0</td>\n",
              "      <td>1</td>\n",
              "      <td>1</td>\n",
              "      <td>0</td>\n",
              "      <td>0</td>\n",
              "      <td>0</td>\n",
              "      <td>No</td>\n",
              "      <td>0</td>\n",
              "      <td>Friday</td>\n",
              "    </tr>\n",
              "  </tbody>\n",
              "</table>\n",
              "</div>"
            ],
            "text/plain": [
              "        Patient_id  Appointment_id Gender  ... No_show Wait  appointment_day\n",
              "0   29872499824296         5642903      F  ...      No    0           Friday\n",
              "1  558997776694438         5642503      M  ...      No    0           Friday\n",
              "2    4262962299951         5642549      F  ...      No    0           Friday\n",
              "3     867951213174         5642828      F  ...      No    0           Friday\n",
              "4    8841186448183         5642494      F  ...      No    0           Friday\n",
              "\n",
              "[5 rows x 16 columns]"
            ]
          },
          "metadata": {
            "tags": []
          },
          "execution_count": 31
        }
      ]
    },
    {
      "cell_type": "markdown",
      "metadata": {
        "id": "gl7oFw4hwwFM",
        "colab_type": "text"
      },
      "source": [
        "# Observations"
      ]
    },
    {
      "cell_type": "code",
      "metadata": {
        "id": "qHUFaXIMc1LR",
        "colab_type": "code",
        "outputId": "2488b767-40df-41e7-fbb2-d7e60e4817d2",
        "colab": {
          "base_uri": "https://localhost:8080/",
          "height": 825
        }
      },
      "source": [
        "df.hist(figsize=(16,14));"
      ],
      "execution_count": 32,
      "outputs": [
        {
          "output_type": "display_data",
          "data": {
            "image/png": "[encoded data removed]",
            "text/plain": [
              "<Figure size 1152x1008 with 12 Axes>"
            ]
          },
          "metadata": {
            "tags": [],
            "needs_background": "light"
          }
        }
      ]
    },
    {
      "cell_type": "markdown",
      "metadata": {
        "id": "nGzPVqO2DRsw",
        "colab_type": "text"
      },
      "source": [
        "The observations made from the histograms are:\n",
        "\n",
        "\n",
        "\n",
        "*   Patients are evenly distributed when it comes to their age with majority of patients who are minors make an appointment\n",
        "*   Majority of patients do not have alcoholism. Only a very small amount of patients have alcoholism\n",
        "* Majority of patients do not have diabetes. Only a very small amount of patients have have diabetes\n",
        "* Majority of patients are not handicapped. Only a very small amount of patients have some disability\n",
        "* Around 75% of patients do not have Hypertension while 25% of patients do have Hypertension\n",
        "* Almost 7k patients did receive a text message whereas almost 3.9k patients did not receive a text message\n",
        "* Majority of patiients do not receive a scholarship with a small amount of patients receieving a scholarship\n",
        "* Majority of patients do not have to wait for more than 20 days with a small amount of patients having to wait upto 75 days"
      ]
    },
    {
      "cell_type": "markdown",
      "metadata": {
        "id": "RVMt98QzL57d",
        "colab_type": "text"
      },
      "source": [
        "**What percentage of patients missed their appointments?**"
      ]
    },
    {
      "cell_type": "code",
      "metadata": {
        "id": "hFR0_qYHaEHe",
        "colab_type": "code",
        "outputId": "9b48b295-2a94-4e9e-8c1f-89bb49d93832",
        "colab": {
          "base_uri": "https://localhost:8080/",
          "height": 50
        }
      },
      "source": [
        "x= (df[['No_show']]=='Yes').sum()\n",
        "y= (df[['No_show']]=='No').sum()\n",
        "\n",
        "percent= ((x)/(x+y))*100\n",
        "percent"
      ],
      "execution_count": 33,
      "outputs": [
        {
          "output_type": "execute_result",
          "data": {
            "text/plain": [
              "No_show    20.189828\n",
              "dtype: float64"
            ]
          },
          "metadata": {
            "tags": []
          },
          "execution_count": 33
        }
      ]
    },
    {
      "cell_type": "markdown",
      "metadata": {
        "id": "CQKOyc4jMzxW",
        "colab_type": "text"
      },
      "source": [
        "Inference:\n",
        "\n",
        "\n",
        "*   20.19% of patients misssed their appointents\n",
        "\n"
      ]
    },
    {
      "cell_type": "markdown",
      "metadata": {
        "id": "zUvXe3YMNOIB",
        "colab_type": "text"
      },
      "source": [
        "**Did the gender play any role in the possibilty of a patient missing their appointment?**"
      ]
    },
    {
      "cell_type": "code",
      "metadata": {
        "id": "a_nL7Pu3Ng4x",
        "colab_type": "code",
        "colab": {}
      },
      "source": [
        "female= df[df['Gender']=='F']\n",
        "total_females= female.shape[0]\n",
        "male= df[df['Gender']=='M']\n",
        "total_males= male.shape[0]\n",
        "females_who_did_not_attend = (female[[\"No_show\"]]==\"Yes\").sum()\n",
        "females_who_attended = (female[[\"No_show\"]]==\"No\").sum()\n",
        "males_who_did_not_attend = (male[[\"No_show\"]]==\"Yes\").sum()\n",
        "males_who_attended = (male[[\"No_show\"]]==\"No\").sum()"
      ],
      "execution_count": 0,
      "outputs": []
    },
    {
      "cell_type": "markdown",
      "metadata": {
        "id": "ZF5N50BY0VcF",
        "colab_type": "text"
      },
      "source": [
        "The percentage of females who missed their appointments"
      ]
    },
    {
      "cell_type": "code",
      "metadata": {
        "id": "eaNTu0d5yRZT",
        "colab_type": "code",
        "outputId": "5ecd7f52-ad10-422b-c7e3-1146cdcb2011",
        "colab": {
          "base_uri": "https://localhost:8080/",
          "height": 50
        }
      },
      "source": [
        "(females_who_did_not_attend/total_females)*100"
      ],
      "execution_count": 36,
      "outputs": [
        {
          "output_type": "execute_result",
          "data": {
            "text/plain": [
              "No_show    20.311543\n",
              "dtype: float64"
            ]
          },
          "metadata": {
            "tags": []
          },
          "execution_count": 36
        }
      ]
    },
    {
      "cell_type": "markdown",
      "metadata": {
        "id": "AXkFyu9UEORS",
        "colab_type": "text"
      },
      "source": [
        "The percentage of females who attended their appointments"
      ]
    },
    {
      "cell_type": "code",
      "metadata": {
        "id": "cCtJXmxF0elD",
        "colab_type": "code",
        "outputId": "a3881544-64d4-40de-f076-26cd2ca64193",
        "colab": {
          "base_uri": "https://localhost:8080/",
          "height": 50
        }
      },
      "source": [
        "(females_who_attended/total_females)*100"
      ],
      "execution_count": 37,
      "outputs": [
        {
          "output_type": "execute_result",
          "data": {
            "text/plain": [
              "No_show    79.688457\n",
              "dtype: float64"
            ]
          },
          "metadata": {
            "tags": []
          },
          "execution_count": 37
        }
      ]
    },
    {
      "cell_type": "markdown",
      "metadata": {
        "id": "_vGDG_dX00_Y",
        "colab_type": "text"
      },
      "source": [
        "Percentage of males who missed their appointments"
      ]
    },
    {
      "cell_type": "code",
      "metadata": {
        "id": "1eUbklkz1BUa",
        "colab_type": "code",
        "outputId": "891541be-6a25-49f6-e23a-7c61167bf7c1",
        "colab": {
          "base_uri": "https://localhost:8080/",
          "height": 50
        }
      },
      "source": [
        "(males_who_did_not_attend/total_males)*100"
      ],
      "execution_count": 38,
      "outputs": [
        {
          "output_type": "execute_result",
          "data": {
            "text/plain": [
              "No_show    19.96381\n",
              "dtype: float64"
            ]
          },
          "metadata": {
            "tags": []
          },
          "execution_count": 38
        }
      ]
    },
    {
      "cell_type": "markdown",
      "metadata": {
        "id": "GLNa8Mrv07Lz",
        "colab_type": "text"
      },
      "source": [
        "Percentage of males who attended their appointments"
      ]
    },
    {
      "cell_type": "code",
      "metadata": {
        "id": "siBW7n7t1H8S",
        "colab_type": "code",
        "outputId": "7e74941c-ad63-45a1-e4e5-6e6dd32ad25b",
        "colab": {
          "base_uri": "https://localhost:8080/",
          "height": 50
        }
      },
      "source": [
        "(males_who_attended/total_males)*100"
      ],
      "execution_count": 39,
      "outputs": [
        {
          "output_type": "execute_result",
          "data": {
            "text/plain": [
              "No_show    80.03619\n",
              "dtype: float64"
            ]
          },
          "metadata": {
            "tags": []
          },
          "execution_count": 39
        }
      ]
    },
    {
      "cell_type": "markdown",
      "metadata": {
        "id": "NBaidt-bCkFs",
        "colab_type": "text"
      },
      "source": [
        "Plotting a graph for better understanding"
      ]
    },
    {
      "cell_type": "code",
      "metadata": {
        "id": "ip83j9xp_7aL",
        "colab_type": "code",
        "outputId": "b2f5a2a3-7a8e-42cb-a392-9c67a566dc3e",
        "colab": {
          "base_uri": "https://localhost:8080/",
          "height": 329
        }
      },
      "source": [
        "gender =df.groupby('Gender').No_show.value_counts()\n",
        "gender.plot(kind='bar')"
      ],
      "execution_count": 40,
      "outputs": [
        {
          "output_type": "execute_result",
          "data": {
            "text/plain": [
              "<matplotlib.axes._subplots.AxesSubplot at 0x7f648b1de860>"
            ]
          },
          "metadata": {
            "tags": []
          },
          "execution_count": 40
        },
        {
          "output_type": "display_data",
          "data": {
            "image/png": "[encoded data removed]",
            "text/plain": [
              "<Figure size 432x288 with 1 Axes>"
            ]
          },
          "metadata": {
            "tags": [],
            "needs_background": "light"
          }
        }
      ]
    },
    {
      "cell_type": "markdown",
      "metadata": {
        "id": "Gel11Puw1RQL",
        "colab_type": "text"
      },
      "source": [
        "Inference\n",
        "\n",
        "\n",
        "*   The percentage of female patients who missed their appointments is approximately equal to the number of male patients who misssed ther appointments\n",
        "*   The percentage of female patients who attended their appointments is approximately equal to the number of male patients who attended ther appointments\n",
        "* Thus, the gender of a person doesn't play a significant role in causing them to miss their appointments\n",
        "\n"
      ]
    },
    {
      "cell_type": "markdown",
      "metadata": {
        "id": "NjE3qz315IKg",
        "colab_type": "text"
      },
      "source": [
        "**Is there a relation of patient not showing up and the number of days a patient has to wait for the appointent?**"
      ]
    },
    {
      "cell_type": "code",
      "metadata": {
        "id": "_OqK-5Ym2fS4",
        "colab_type": "code",
        "colab": {}
      },
      "source": [
        "Waiting_df = df[['No_show', 'Wait']].groupby('Wait').count()"
      ],
      "execution_count": 0,
      "outputs": []
    },
    {
      "cell_type": "markdown",
      "metadata": {
        "id": "NPxsylsDCXol",
        "colab_type": "text"
      },
      "source": [
        "Plotting a graph for better understanding"
      ]
    },
    {
      "cell_type": "code",
      "metadata": {
        "id": "XeqXXUNnCYzj",
        "colab_type": "code",
        "outputId": "746aca0f-fb8c-4bb5-fb74-1b2080d9e8c3",
        "colab": {
          "base_uri": "https://localhost:8080/",
          "height": 366
        }
      },
      "source": [
        "Waiting_df.plot(kind='line', figsize=(15,5))\n",
        "plt.title(\"Time gap between scheluded and appointment day's influcence on no-shows\")\n",
        "plt.xlabel('Days between scheduling and appointments')\n",
        "plt.ylabel('Number of people')"
      ],
      "execution_count": 42,
      "outputs": [
        {
          "output_type": "execute_result",
          "data": {
            "text/plain": [
              "Text(0, 0.5, 'Number of people')"
            ]
          },
          "metadata": {
            "tags": []
          },
          "execution_count": 42
        },
        {
          "output_type": "display_data",
          "data": {
            "image/png": "[encoded data removed]",
            "text/plain": [
              "<Figure size 1080x360 with 1 Axes>"
            ]
          },
          "metadata": {
            "tags": [],
            "needs_background": "light"
          }
        }
      ]
    },
    {
      "cell_type": "markdown",
      "metadata": {
        "id": "oAzE0Rtz6HaS",
        "colab_type": "text"
      },
      "source": [
        "Inference:\n",
        "\n",
        "\n",
        "*   Majority of patients attend their appointments if the appointments are scheduled in a small time gap, ideally on the same day\n",
        "\n"
      ]
    },
    {
      "cell_type": "markdown",
      "metadata": {
        "id": "TGu2FX706Yog",
        "colab_type": "text"
      },
      "source": [
        "**Does the day of the appointment influence the patient's decision to attend or miss the appointent?**"
      ]
    },
    {
      "cell_type": "code",
      "metadata": {
        "id": "sZ7DOtx-62or",
        "colab_type": "code",
        "outputId": "31d5af69-62e7-4f91-92e7-536e73ec8062",
        "colab": {
          "base_uri": "https://localhost:8080/",
          "height": 251
        }
      },
      "source": [
        "day = df.groupby('appointment_day').No_show.value_counts()\n",
        "day"
      ],
      "execution_count": 43,
      "outputs": [
        {
          "output_type": "execute_result",
          "data": {
            "text/plain": [
              "appointment_day  No_show\n",
              "Friday           No         14982\n",
              "                 Yes         4037\n",
              "Monday           No         18024\n",
              "                 Yes         4689\n",
              "Saturday         No            30\n",
              "                 Yes            9\n",
              "Thursday         No         13909\n",
              "                 Yes         3337\n",
              "Tuesday          No         20488\n",
              "                 Yes         5150\n",
              "Wednesday        No         20774\n",
              "                 Yes         5092\n",
              "Name: No_show, dtype: int64"
            ]
          },
          "metadata": {
            "tags": []
          },
          "execution_count": 43
        }
      ]
    },
    {
      "cell_type": "markdown",
      "metadata": {
        "id": "oeYSpTkMC2FZ",
        "colab_type": "text"
      },
      "source": [
        "Calculating the percentage "
      ]
    },
    {
      "cell_type": "code",
      "metadata": {
        "id": "BMo8erOp-WmK",
        "colab_type": "code",
        "outputId": "656df2f4-91c4-428e-e651-1a904b221bbf",
        "colab": {
          "base_uri": "https://localhost:8080/",
          "height": 117
        }
      },
      "source": [
        "percent= []\n",
        "i=0\n",
        "while i<len(day)-1:\n",
        "  percent.append( day[i+1] *100 /(day[i]+day[i+1])  )\n",
        "  i=i+2\n",
        "percent"
      ],
      "execution_count": 44,
      "outputs": [
        {
          "output_type": "execute_result",
          "data": {
            "text/plain": [
              "[21.226142278773857,\n",
              " 20.64456478668604,\n",
              " 23.076923076923077,\n",
              " 19.349414356952337,\n",
              " 20.087370309696546,\n",
              " 19.686074383360396]"
            ]
          },
          "metadata": {
            "tags": []
          },
          "execution_count": 44
        }
      ]
    },
    {
      "cell_type": "markdown",
      "metadata": {
        "id": "F74kqykXCg3-",
        "colab_type": "text"
      },
      "source": [
        "Plotting a graph for better understanding"
      ]
    },
    {
      "cell_type": "code",
      "metadata": {
        "id": "L721j6Bw73UN",
        "colab_type": "code",
        "outputId": "0266632e-e1fb-45e5-cb7f-893f3ec92df8",
        "colab": {
          "base_uri": "https://localhost:8080/",
          "height": 484
        }
      },
      "source": [
        "day = day.sort_values(ascending=False)\n",
        "\n",
        "day.plot(kind='bar', figsize=(6,6))"
      ],
      "execution_count": 45,
      "outputs": [
        {
          "output_type": "execute_result",
          "data": {
            "text/plain": [
              "<matplotlib.axes._subplots.AxesSubplot at 0x7f648b132f60>"
            ]
          },
          "metadata": {
            "tags": []
          },
          "execution_count": 45
        },
        {
          "output_type": "display_data",
          "data": {
            "image/png": "[encoded data removed]",
            "text/plain": [
              "<Figure size 432x432 with 1 Axes>"
            ]
          },
          "metadata": {
            "tags": [],
            "needs_background": "light"
          }
        }
      ]
    },
    {
      "cell_type": "markdown",
      "metadata": {
        "id": "LA-eWyih9fQ2",
        "colab_type": "text"
      },
      "source": [
        "Inference:\n",
        "* The number of appointments scheduled, attended and missed, both are negligible\n",
        "* The number of appointents , both missed and attended are maximum for Tuesday\n",
        "* Wednesday comes right after Tuesday for both having the number of appointments attended as well as missed\n",
        "* It is followed by Monday with a lesser number of patients attening as well as missing the appointent\n",
        "* The number of patients attending as well as missing the appointment keeps on decreasing for Thursday and Friday\n",
        "* Thus, the numbers of patients attending as well as missing the appointnets goes hand in hand\n",
        "* Saturday is the only day when least number of patients, around 4% of those scheduled will miss their appointments\n",
        "* For all the other days, around 20% of the scheduled appointents will be cancelled"
      ]
    },
    {
      "cell_type": "markdown",
      "metadata": {
        "id": "ylfKo5CxAs2t",
        "colab_type": "text"
      },
      "source": [
        "**Does sending a text message influence the patient's attendance?**"
      ]
    },
    {
      "cell_type": "code",
      "metadata": {
        "id": "zv2U4TBkBMJw",
        "colab_type": "code",
        "outputId": "b34a8320-0002-4bd3-bb5e-a186fa0242f7",
        "colab": {
          "base_uri": "https://localhost:8080/",
          "height": 117
        }
      },
      "source": [
        "msg= df.groupby(\"SMS_received\").No_show.value_counts()\n",
        "msg"
      ],
      "execution_count": 46,
      "outputs": [
        {
          "output_type": "execute_result",
          "data": {
            "text/plain": [
              "SMS_received  No_show\n",
              "0             No         62509\n",
              "              Yes        12530\n",
              "1             No         25698\n",
              "              Yes         9784\n",
              "Name: No_show, dtype: int64"
            ]
          },
          "metadata": {
            "tags": []
          },
          "execution_count": 46
        }
      ]
    },
    {
      "cell_type": "markdown",
      "metadata": {
        "id": "BAkFMyXYCvah",
        "colab_type": "text"
      },
      "source": [
        "Calculating the percentage "
      ]
    },
    {
      "cell_type": "code",
      "metadata": {
        "id": "7NomsNDJCzdA",
        "colab_type": "code",
        "outputId": "2894ebbf-b33c-45eb-a7d3-f70b2e38bd90",
        "colab": {
          "base_uri": "https://localhost:8080/",
          "height": 33
        }
      },
      "source": [
        "Msg_not_received = msg[0][1]*100/(msg[0][0]+msg[0][1])\n",
        "print(Msg_not_received)"
      ],
      "execution_count": 47,
      "outputs": [
        {
          "output_type": "stream",
          "text": [
            "16.697983715134797\n"
          ],
          "name": "stdout"
        }
      ]
    },
    {
      "cell_type": "code",
      "metadata": {
        "id": "oUmKXatVEhmM",
        "colab_type": "code",
        "outputId": "a84fbc1f-25cb-4e24-f47e-b9ec441cf6b6",
        "colab": {
          "base_uri": "https://localhost:8080/",
          "height": 33
        }
      },
      "source": [
        "Msg_received = msg[3]*100/(msg[2]+msg[3])\n",
        "print(Msg_received)"
      ],
      "execution_count": 48,
      "outputs": [
        {
          "output_type": "stream",
          "text": [
            "27.574544839637\n"
          ],
          "name": "stdout"
        }
      ]
    },
    {
      "cell_type": "markdown",
      "metadata": {
        "id": "trYYpTmCA8fz",
        "colab_type": "text"
      },
      "source": [
        "Plotting a graph for better understanding"
      ]
    },
    {
      "cell_type": "code",
      "metadata": {
        "id": "L-Ji_prfA9L1",
        "colab_type": "code",
        "outputId": "38529ded-1f68-4128-e697-a8f2609d09c4",
        "colab": {
          "base_uri": "https://localhost:8080/",
          "height": 324
        }
      },
      "source": [
        "msg.plot(kind='bar')"
      ],
      "execution_count": 49,
      "outputs": [
        {
          "output_type": "execute_result",
          "data": {
            "text/plain": [
              "<matplotlib.axes._subplots.AxesSubplot at 0x7f648b104f98>"
            ]
          },
          "metadata": {
            "tags": []
          },
          "execution_count": 49
        },
        {
          "output_type": "display_data",
          "data": {
            "image/png": "[encoded data removed]",
            "text/plain": [
              "<Figure size 432x288 with 1 Axes>"
            ]
          },
          "metadata": {
            "tags": [],
            "needs_background": "light"
          }
        }
      ]
    },
    {
      "cell_type": "markdown",
      "metadata": {
        "id": "y-7jpj80FsIF",
        "colab_type": "text"
      },
      "source": [
        "Inference:\n",
        "*   16% of people who did not receive the message did not show up for the appoinment\n",
        "*   27% of patients did not attend the appointent in spite of getting a message\n",
        "* Patients receiving text messages had a higher tendency of missing thier appointents\n",
        "\n"
      ]
    },
    {
      "cell_type": "markdown",
      "metadata": {
        "id": "mDOLEDxGGfp_",
        "colab_type": "text"
      },
      "source": [
        "**Does the age of a person play any role in determining if the person will attend his appointment or not?**"
      ]
    },
    {
      "cell_type": "markdown",
      "metadata": {
        "id": "4U5enTO0Hk8e",
        "colab_type": "text"
      },
      "source": [
        "Plotting a visual of patients of different ages who did not attend their respective appointments"
      ]
    },
    {
      "cell_type": "code",
      "metadata": {
        "id": "uymTZUncGiKL",
        "colab_type": "code",
        "outputId": "cf2b7ae3-c258-4911-b809-769ccf324f86",
        "colab": {
          "base_uri": "https://localhost:8080/",
          "height": 350
        }
      },
      "source": [
        "Age_df =df.query('No_show == \"Yes\"').groupby('Age').No_show.count()\n",
        "Age_df.plot(kind='line', figsize=(15,5))\n"
      ],
      "execution_count": 50,
      "outputs": [
        {
          "output_type": "execute_result",
          "data": {
            "text/plain": [
              "<matplotlib.axes._subplots.AxesSubplot at 0x7f648affe3c8>"
            ]
          },
          "metadata": {
            "tags": []
          },
          "execution_count": 50
        },
        {
          "output_type": "display_data",
          "data": {
            "image/png": "[encoded data removed]",
            "text/plain": [
              "<Figure size 1080x360 with 1 Axes>"
            ]
          },
          "metadata": {
            "tags": [],
            "needs_background": "light"
          }
        }
      ]
    },
    {
      "cell_type": "markdown",
      "metadata": {
        "id": "uNt3m5Y-Hv1u",
        "colab_type": "text"
      },
      "source": [
        "Plotting a visual of patients of different ages who attended their respective appointments"
      ]
    },
    {
      "cell_type": "code",
      "metadata": {
        "id": "f5_fShe8HMuo",
        "colab_type": "code",
        "outputId": "7f1e5d97-0bc6-4844-a879-322f265d040a",
        "colab": {
          "base_uri": "https://localhost:8080/",
          "height": 350
        }
      },
      "source": [
        "Age_df =df.query('No_show == \"No\"').groupby('Age').No_show.count()\n",
        "Age_df.plot(kind='line', figsize=(15,5))\n"
      ],
      "execution_count": 51,
      "outputs": [
        {
          "output_type": "execute_result",
          "data": {
            "text/plain": [
              "<matplotlib.axes._subplots.AxesSubplot at 0x7f648b104fd0>"
            ]
          },
          "metadata": {
            "tags": []
          },
          "execution_count": 51
        },
        {
          "output_type": "display_data",
          "data": {
            "image/png": "[encoded data removed]",
            "text/plain": [
              "<Figure size 1080x360 with 1 Axes>"
            ]
          },
          "metadata": {
            "tags": [],
            "needs_background": "light"
          }
        }
      ]
    },
    {
      "cell_type": "markdown",
      "metadata": {
        "id": "axlZGAevILOd",
        "colab_type": "text"
      },
      "source": [
        "Inference:\n",
        "* The number of no show appointents was the highest for infants and appears to be increasing upto the age of 20 years after which it declines\n",
        "* The nmuber of appointnets where patients showed up is again, highest for infants which sharply declines after the age of 50 and almost remains contant till the age of 60 with soe rises after which it continues to decline\n",
        "* There is no definite trend between age and possibility of patient showing for appointment"
      ]
    },
    {
      "cell_type": "markdown",
      "metadata": {
        "id": "7euwrNeaJ6j6",
        "colab_type": "text"
      },
      "source": [
        "**Which neighbourhoods have highest numbers of no-shows?**"
      ]
    },
    {
      "cell_type": "markdown",
      "metadata": {
        "id": "VZeuxrExK4Lf",
        "colab_type": "text"
      },
      "source": [
        "Neighbourhoods having most amount of No-Shows"
      ]
    },
    {
      "cell_type": "code",
      "metadata": {
        "id": "6flfFfD9KDVs",
        "colab_type": "code",
        "outputId": "152259f5-dd36-42ab-c982-3de0f3ea31db",
        "colab": {
          "base_uri": "https://localhost:8080/",
          "height": 234
        }
      },
      "source": [
        "area_df= df.query('No_show==\"Yes\"').groupby(\"Neighbourhood\").No_show.count()\n",
        "area_df.sort_values(ascending=False, inplace=True)\n",
        "area_df"
      ],
      "execution_count": 52,
      "outputs": [
        {
          "output_type": "execute_result",
          "data": {
            "text/plain": [
              "Neighbourhood\n",
              "JARDIM CAMBURI                 1465\n",
              "MARIA ORTIZ                    1219\n",
              "ITARARÉ                         923\n",
              "RESISTÊNCIA                     905\n",
              "CENTRO                          703\n",
              "                               ... \n",
              "PONTAL DE CAMBURI                12\n",
              "ILHA DO BOI                       3\n",
              "ILHAS OCEÂNICAS DE TRINDADE       2\n",
              "ILHA DO FRADE                     2\n",
              "AEROPORTO                         1\n",
              "Name: No_show, Length: 80, dtype: int64"
            ]
          },
          "metadata": {
            "tags": []
          },
          "execution_count": 52
        }
      ]
    },
    {
      "cell_type": "markdown",
      "metadata": {
        "id": "3ze7vA1GK-9J",
        "colab_type": "text"
      },
      "source": [
        "PLotting a graph  for better understanding"
      ]
    },
    {
      "cell_type": "code",
      "metadata": {
        "id": "4K8mkOaqLEO5",
        "colab_type": "code",
        "outputId": "ded66c58-54f0-4e7c-e6c9-ef2ce3eb4c7c",
        "colab": {
          "base_uri": "https://localhost:8080/",
          "height": 720
        }
      },
      "source": [
        "area_df.plot(kind='bar', figsize=(12,9))"
      ],
      "execution_count": 53,
      "outputs": [
        {
          "output_type": "execute_result",
          "data": {
            "text/plain": [
              "<matplotlib.axes._subplots.AxesSubplot at 0x7f648afe86d8>"
            ]
          },
          "metadata": {
            "tags": []
          },
          "execution_count": 53
        },
        {
          "output_type": "display_data",
          "data": {
            "image/png": "[encoded data removed]",
            "text/plain": [
              "<Figure size 864x648 with 1 Axes>"
            ]
          },
          "metadata": {
            "tags": [],
            "needs_background": "light"
          }
        }
      ]
    },
    {
      "cell_type": "markdown",
      "metadata": {
        "id": "m41ODtoALs3R",
        "colab_type": "text"
      },
      "source": [
        "Areas where most amount of people showed for appointment"
      ]
    },
    {
      "cell_type": "code",
      "metadata": {
        "id": "3qcGaJURL0SQ",
        "colab_type": "code",
        "outputId": "9c2713f9-18ef-4aed-e799-5cde26232fce",
        "colab": {
          "base_uri": "https://localhost:8080/",
          "height": 234
        }
      },
      "source": [
        "area= df.query('No_show==\"No\"').groupby(\"Neighbourhood\").No_show.count()\n",
        "area.sort_values(ascending=False, inplace=True)\n",
        "area"
      ],
      "execution_count": 54,
      "outputs": [
        {
          "output_type": "execute_result",
          "data": {
            "text/plain": [
              "Neighbourhood\n",
              "JARDIM CAMBURI       6252\n",
              "MARIA ORTIZ          4586\n",
              "RESISTÊNCIA          3525\n",
              "JARDIM DA PENHA      3246\n",
              "SANTA MARTHA         2635\n",
              "                     ... \n",
              "PONTAL DE CAMBURI      57\n",
              "ILHA DO BOI            32\n",
              "ILHA DO FRADE           8\n",
              "AEROPORTO               7\n",
              "PARQUE INDUSTRIAL       1\n",
              "Name: No_show, Length: 80, dtype: int64"
            ]
          },
          "metadata": {
            "tags": []
          },
          "execution_count": 54
        }
      ]
    },
    {
      "cell_type": "markdown",
      "metadata": {
        "id": "yH0J-i0DMNea",
        "colab_type": "text"
      },
      "source": [
        "PLotting a graph  for better understanding"
      ]
    },
    {
      "cell_type": "code",
      "metadata": {
        "id": "FDqX7_hRMUy-",
        "colab_type": "code",
        "outputId": "aa0db5e4-79cc-4322-88f6-d2debe8274b4",
        "colab": {
          "base_uri": "https://localhost:8080/",
          "height": 675
        }
      },
      "source": [
        "area.plot(kind='bar', figsize=(12,9))"
      ],
      "execution_count": 55,
      "outputs": [
        {
          "output_type": "execute_result",
          "data": {
            "text/plain": [
              "<matplotlib.axes._subplots.AxesSubplot at 0x7f648b7136d8>"
            ]
          },
          "metadata": {
            "tags": []
          },
          "execution_count": 55
        },
        {
          "output_type": "display_data",
          "data": {
            "image/png": "[encoded data removed]",
            "text/plain": [
              "<Figure size 864x648 with 1 Axes>"
            ]
          },
          "metadata": {
            "tags": [],
            "needs_background": "light"
          }
        }
      ]
    },
    {
      "cell_type": "markdown",
      "metadata": {
        "id": "rYT6oFcGM9wD",
        "colab_type": "text"
      },
      "source": [
        "The graphs clearly show that patients from certain areas are more likely to not attend their appointmets as compared to patients residing elsewhere"
      ]
    },
    {
      "cell_type": "markdown",
      "metadata": {
        "id": "4gJaQFfONWjX",
        "colab_type": "text"
      },
      "source": [
        "**Is a person have a medical issue more likely to have a no show?**"
      ]
    },
    {
      "cell_type": "code",
      "metadata": {
        "id": "cy1HP1ZVNklS",
        "colab_type": "code",
        "outputId": "642865f8-7e00-4ddf-97ed-6fc0ff590eab",
        "colab": {
          "base_uri": "https://localhost:8080/",
          "height": 284
        }
      },
      "source": [
        "hypertension_data = df.groupby('Hypertension').No_show.value_counts()\n",
        "diabetes_data = df.groupby('Diabetes').No_show.value_counts()\n",
        "alcoholism_data = df.groupby('Alcoholism').No_show.value_counts()\n",
        "hypertension_data, diabetes_data, alcoholism_data"
      ],
      "execution_count": 56,
      "outputs": [
        {
          "output_type": "execute_result",
          "data": {
            "text/plain": [
              "(Hypertension  No_show\n",
              " 0             No         70178\n",
              "               Yes        18542\n",
              " 1             No         18029\n",
              "               Yes         3772\n",
              " Name: No_show, dtype: int64, Diabetes  No_show\n",
              " 0         No         81694\n",
              "           Yes        20884\n",
              " 1         No          6513\n",
              "           Yes         1430\n",
              " Name: No_show, dtype: int64, Alcoholism  No_show\n",
              " 0           No         85524\n",
              "             Yes        21637\n",
              " 1           No          2683\n",
              "             Yes          677\n",
              " Name: No_show, dtype: int64)"
            ]
          },
          "metadata": {
            "tags": []
          },
          "execution_count": 56
        }
      ]
    },
    {
      "cell_type": "markdown",
      "metadata": {
        "id": "GbL3dL3sOspb",
        "colab_type": "text"
      },
      "source": [
        "Plotting graphs for better understanding"
      ]
    },
    {
      "cell_type": "code",
      "metadata": {
        "id": "pTvi8CIyOmUe",
        "colab_type": "code",
        "outputId": "dd0e0b83-5a04-4386-e3b2-ef0a962596ce",
        "colab": {
          "base_uri": "https://localhost:8080/",
          "height": 324
        }
      },
      "source": [
        "hypertension_data.plot(kind=\"bar\")"
      ],
      "execution_count": 57,
      "outputs": [
        {
          "output_type": "execute_result",
          "data": {
            "text/plain": [
              "<matplotlib.axes._subplots.AxesSubplot at 0x7f648bb57630>"
            ]
          },
          "metadata": {
            "tags": []
          },
          "execution_count": 57
        },
        {
          "output_type": "display_data",
          "data": {
            "image/png": "[encoded data removed]",
            "text/plain": [
              "<Figure size 432x288 with 1 Axes>"
            ]
          },
          "metadata": {
            "tags": [],
            "needs_background": "light"
          }
        }
      ]
    },
    {
      "cell_type": "code",
      "metadata": {
        "id": "l4Y0KBZCO0S3",
        "colab_type": "code",
        "outputId": "5c7a4023-5916-47f1-ffbb-8e0aa0931dec",
        "colab": {
          "base_uri": "https://localhost:8080/",
          "height": 324
        }
      },
      "source": [
        "alcoholism_data.plot(kind='bar')"
      ],
      "execution_count": 58,
      "outputs": [
        {
          "output_type": "execute_result",
          "data": {
            "text/plain": [
              "<matplotlib.axes._subplots.AxesSubplot at 0x7f648baa16d8>"
            ]
          },
          "metadata": {
            "tags": []
          },
          "execution_count": 58
        },
        {
          "output_type": "display_data",
          "data": {
            "image/png": "[encoded data removed]",
            "text/plain": [
              "<Figure size 432x288 with 1 Axes>"
            ]
          },
          "metadata": {
            "tags": [],
            "needs_background": "light"
          }
        }
      ]
    },
    {
      "cell_type": "code",
      "metadata": {
        "id": "GQAgXs7OO-Bb",
        "colab_type": "code",
        "outputId": "b124f7d9-1ebe-436d-d284-cf5e4567ccfa",
        "colab": {
          "base_uri": "https://localhost:8080/",
          "height": 324
        }
      },
      "source": [
        "diabetes_data.plot(kind=\"bar\")"
      ],
      "execution_count": 59,
      "outputs": [
        {
          "output_type": "execute_result",
          "data": {
            "text/plain": [
              "<matplotlib.axes._subplots.AxesSubplot at 0x7f6489724048>"
            ]
          },
          "metadata": {
            "tags": []
          },
          "execution_count": 59
        },
        {
          "output_type": "display_data",
          "data": {
            "image/png": "[encoded data removed]",
            "text/plain": [
              "<Figure size 432x288 with 1 Axes>"
            ]
          },
          "metadata": {
            "tags": [],
            "needs_background": "light"
          }
        }
      ]
    },
    {
      "cell_type": "markdown",
      "metadata": {
        "id": "9tXVKgDjPF0l",
        "colab_type": "text"
      },
      "source": [
        "Inference:\n",
        "\n",
        "\n",
        "*   The percent of no shows for a patient with a medical condition is approximately equal to the percent of no shows for a patient without a pre existing medical condition\n"
      ]
    },
    {
      "cell_type": "markdown",
      "metadata": {
        "id": "Fd2LoaaivWnN",
        "colab_type": "text"
      },
      "source": [
        "# Limitations (Challenges)\n",
        "\n"
      ]
    },
    {
      "cell_type": "markdown",
      "metadata": {
        "id": "VxbOM26Jvg9V",
        "colab_type": "text"
      },
      "source": [
        "Some are limitations that are faced during analysing the dataset are:\n",
        "\n",
        "* Data is not sufficient to make strong conclusions.\n",
        "* Very few conclusions can be made by analysing this data.\n",
        "* More data will help to draw strong conclusions.\n",
        "* Very few attributes are useful to get conclusions on this dataset."
      ]
    },
    {
      "cell_type": "markdown",
      "metadata": {
        "id": "d90K3U-ZPd2C",
        "colab_type": "text"
      },
      "source": [
        "#Conclusion"
      ]
    },
    {
      "cell_type": "markdown",
      "metadata": {
        "id": "cBv--dvuZf26",
        "colab_type": "text"
      },
      "source": [
        "\n",
        "\n",
        "*  In this project, we analyzed the no show database of patients\n",
        "*  We analyzed all the variables of the dataset\n",
        "*  Gender of a patient does not have influence on whether the patient shows up or no\n",
        "* Whether the patient shows up or not is affected by the amount of time between the patient scheduled his appointment and his appointment\n",
        "* Patient is more likely to show up if the time between the patient scheduled his appointment and his appointment is less\n",
        "* The weekday on which the appointment has been scheduled does not affect the patient's behaviour except for on Saturday when percentage of patients not showing is the least\n",
        "* Percentage of patients who received a text message are more likely to not show up as compared to patients who have not received a text message by a small amount\n",
        "* Age of a person does not affect if the patients attends or misses his appointment\n",
        "* Percentage of patient having a pre-existing medical condition like Hypertension, Diabetes, Alcoholis are as likely to miss their appointment as conpares to percentage of patients without a medical condition missing their appointments\n",
        "* In some neighbourhoods, patients are more likely to miss their appointmnets as compared to other neighbourhoods\n",
        "\n"
      ]
    },
    {
      "cell_type": "code",
      "metadata": {
        "id": "YePlqKaffNVv",
        "colab_type": "code",
        "colab": {}
      },
      "source": [
        ""
      ],
      "execution_count": 0,
      "outputs": []
    }
  ]
}